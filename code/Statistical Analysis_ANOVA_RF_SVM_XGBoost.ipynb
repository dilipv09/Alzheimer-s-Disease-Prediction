{
 "cells": [
  {
   "cell_type": "code",
   "execution_count": 1,
   "metadata": {},
   "outputs": [],
   "source": [
    "import pandas as pd\n",
    "import matplotlib.pyplot as plt\n",
    "import numpy as np\n",
    "from numpy import mean\n",
    "from numpy import std\n",
    "import seaborn as sns"
   ]
  },
  {
   "cell_type": "code",
   "execution_count": 2,
   "metadata": {},
   "outputs": [],
   "source": [
    "df = pd.read_csv(r'/data/users/dverma01/colab/adni/Merged_clean1_310.csv',index_col=0)"
   ]
  },
  {
   "cell_type": "code",
   "execution_count": 3,
   "metadata": {},
   "outputs": [
    {
     "data": {
      "text/plain": [
       "(1349, 151)"
      ]
     },
     "execution_count": 3,
     "metadata": {},
     "output_type": "execute_result"
    }
   ],
   "source": [
    "df.shape"
   ]
  },
  {
   "cell_type": "code",
   "execution_count": 4,
   "metadata": {
    "scrolled": true
   },
   "outputs": [
    {
     "data": {
      "text/html": [
       "<div>\n",
       "<style scoped>\n",
       "    .dataframe tbody tr th:only-of-type {\n",
       "        vertical-align: middle;\n",
       "    }\n",
       "\n",
       "    .dataframe tbody tr th {\n",
       "        vertical-align: top;\n",
       "    }\n",
       "\n",
       "    .dataframe thead th {\n",
       "        text-align: right;\n",
       "    }\n",
       "</style>\n",
       "<table border=\"1\" class=\"dataframe\">\n",
       "  <thead>\n",
       "    <tr style=\"text-align: right;\">\n",
       "      <th></th>\n",
       "      <th>names</th>\n",
       "      <th>l3thVen</th>\n",
       "      <th>r3thVen</th>\n",
       "      <th>l4thVen</th>\n",
       "      <th>r4thVen</th>\n",
       "      <th>lAcc</th>\n",
       "      <th>rAcc</th>\n",
       "      <th>lAmy</th>\n",
       "      <th>rAmy</th>\n",
       "      <th>lBst</th>\n",
       "      <th>...</th>\n",
       "      <th>lTemTraGy</th>\n",
       "      <th>rTemTraGy</th>\n",
       "      <th>Classifier</th>\n",
       "      <th>AGE</th>\n",
       "      <th>PTGENDER</th>\n",
       "      <th>Hippocampus.bl</th>\n",
       "      <th>WholeBrain.bl</th>\n",
       "      <th>Entorhinal.bl</th>\n",
       "      <th>Fusiform.bl</th>\n",
       "      <th>MidTemp.bl</th>\n",
       "    </tr>\n",
       "  </thead>\n",
       "  <tbody>\n",
       "    <tr>\n",
       "      <th>0</th>\n",
       "      <td>002_S_5018</td>\n",
       "      <td>0.0375</td>\n",
       "      <td>0.0335</td>\n",
       "      <td>0.0714</td>\n",
       "      <td>0.0686</td>\n",
       "      <td>0.3669</td>\n",
       "      <td>0.3540</td>\n",
       "      <td>0.6013</td>\n",
       "      <td>0.7083</td>\n",
       "      <td>0.2747</td>\n",
       "      <td>...</td>\n",
       "      <td>1.1541</td>\n",
       "      <td>1.0597</td>\n",
       "      <td>AD</td>\n",
       "      <td>73.3</td>\n",
       "      <td>Male</td>\n",
       "      <td>7431</td>\n",
       "      <td>1.077908e+06</td>\n",
       "      <td>2910</td>\n",
       "      <td>18214</td>\n",
       "      <td>18684</td>\n",
       "    </tr>\n",
       "    <tr>\n",
       "      <th>1</th>\n",
       "      <td>003_S_4152</td>\n",
       "      <td>0.0384</td>\n",
       "      <td>0.0340</td>\n",
       "      <td>0.0671</td>\n",
       "      <td>0.0672</td>\n",
       "      <td>0.3147</td>\n",
       "      <td>0.3206</td>\n",
       "      <td>0.6352</td>\n",
       "      <td>0.7062</td>\n",
       "      <td>0.5595</td>\n",
       "      <td>...</td>\n",
       "      <td>1.1327</td>\n",
       "      <td>0.9901</td>\n",
       "      <td>AD</td>\n",
       "      <td>60.7</td>\n",
       "      <td>Male</td>\n",
       "      <td>6696</td>\n",
       "      <td>1.004905e+06</td>\n",
       "      <td>3120</td>\n",
       "      <td>16872</td>\n",
       "      <td>15846</td>\n",
       "    </tr>\n",
       "    <tr>\n",
       "      <th>2</th>\n",
       "      <td>003_S_4373</td>\n",
       "      <td>0.0196</td>\n",
       "      <td>0.0165</td>\n",
       "      <td>0.0506</td>\n",
       "      <td>0.0587</td>\n",
       "      <td>0.1784</td>\n",
       "      <td>0.1950</td>\n",
       "      <td>0.4251</td>\n",
       "      <td>0.4827</td>\n",
       "      <td>0.4255</td>\n",
       "      <td>...</td>\n",
       "      <td>0.6465</td>\n",
       "      <td>0.5112</td>\n",
       "      <td>AD</td>\n",
       "      <td>71.1</td>\n",
       "      <td>Female</td>\n",
       "      <td>5458</td>\n",
       "      <td>7.545074e+05</td>\n",
       "      <td>2136</td>\n",
       "      <td>11897</td>\n",
       "      <td>12577</td>\n",
       "    </tr>\n",
       "    <tr>\n",
       "      <th>3</th>\n",
       "      <td>003_S_4892</td>\n",
       "      <td>0.0230</td>\n",
       "      <td>0.0191</td>\n",
       "      <td>0.0477</td>\n",
       "      <td>0.0597</td>\n",
       "      <td>0.3344</td>\n",
       "      <td>0.3376</td>\n",
       "      <td>0.6638</td>\n",
       "      <td>0.7090</td>\n",
       "      <td>0.8452</td>\n",
       "      <td>...</td>\n",
       "      <td>1.1333</td>\n",
       "      <td>0.8846</td>\n",
       "      <td>AD</td>\n",
       "      <td>75.1</td>\n",
       "      <td>Female</td>\n",
       "      <td>6726</td>\n",
       "      <td>9.486256e+05</td>\n",
       "      <td>3128</td>\n",
       "      <td>15315</td>\n",
       "      <td>17518</td>\n",
       "    </tr>\n",
       "    <tr>\n",
       "      <th>4</th>\n",
       "      <td>003_S_5165</td>\n",
       "      <td>0.0303</td>\n",
       "      <td>0.0161</td>\n",
       "      <td>0.0333</td>\n",
       "      <td>0.0511</td>\n",
       "      <td>0.2932</td>\n",
       "      <td>0.3143</td>\n",
       "      <td>0.7388</td>\n",
       "      <td>0.6866</td>\n",
       "      <td>0.9777</td>\n",
       "      <td>...</td>\n",
       "      <td>1.2027</td>\n",
       "      <td>0.7114</td>\n",
       "      <td>AD</td>\n",
       "      <td>78.8</td>\n",
       "      <td>Male</td>\n",
       "      <td>6269</td>\n",
       "      <td>1.107883e+06</td>\n",
       "      <td>3739</td>\n",
       "      <td>17495</td>\n",
       "      <td>19446</td>\n",
       "    </tr>\n",
       "  </tbody>\n",
       "</table>\n",
       "<p>5 rows × 151 columns</p>\n",
       "</div>"
      ],
      "text/plain": [
       "        names  l3thVen  r3thVen  l4thVen  r4thVen    lAcc    rAcc    lAmy  \\\n",
       "0  002_S_5018   0.0375   0.0335   0.0714   0.0686  0.3669  0.3540  0.6013   \n",
       "1  003_S_4152   0.0384   0.0340   0.0671   0.0672  0.3147  0.3206  0.6352   \n",
       "2  003_S_4373   0.0196   0.0165   0.0506   0.0587  0.1784  0.1950  0.4251   \n",
       "3  003_S_4892   0.0230   0.0191   0.0477   0.0597  0.3344  0.3376  0.6638   \n",
       "4  003_S_5165   0.0303   0.0161   0.0333   0.0511  0.2932  0.3143  0.7388   \n",
       "\n",
       "     rAmy    lBst  ...  lTemTraGy  rTemTraGy  Classifier   AGE  PTGENDER  \\\n",
       "0  0.7083  0.2747  ...     1.1541     1.0597          AD  73.3      Male   \n",
       "1  0.7062  0.5595  ...     1.1327     0.9901          AD  60.7      Male   \n",
       "2  0.4827  0.4255  ...     0.6465     0.5112          AD  71.1    Female   \n",
       "3  0.7090  0.8452  ...     1.1333     0.8846          AD  75.1    Female   \n",
       "4  0.6866  0.9777  ...     1.2027     0.7114          AD  78.8      Male   \n",
       "\n",
       "   Hippocampus.bl  WholeBrain.bl  Entorhinal.bl  Fusiform.bl  MidTemp.bl  \n",
       "0            7431   1.077908e+06           2910        18214       18684  \n",
       "1            6696   1.004905e+06           3120        16872       15846  \n",
       "2            5458   7.545074e+05           2136        11897       12577  \n",
       "3            6726   9.486256e+05           3128        15315       17518  \n",
       "4            6269   1.107883e+06           3739        17495       19446  \n",
       "\n",
       "[5 rows x 151 columns]"
      ]
     },
     "execution_count": 4,
     "metadata": {},
     "output_type": "execute_result"
    }
   ],
   "source": [
    "df.head()"
   ]
  },
  {
   "cell_type": "code",
   "execution_count": 5,
   "metadata": {},
   "outputs": [
    {
     "data": {
      "text/plain": [
       "AD     487\n",
       "MCI    438\n",
       "CN     424\n",
       "Name: Classifier, dtype: int64"
      ]
     },
     "execution_count": 5,
     "metadata": {},
     "output_type": "execute_result"
    }
   ],
   "source": [
    "df['Classifier'].value_counts()"
   ]
  },
  {
   "cell_type": "code",
   "execution_count": 6,
   "metadata": {
    "scrolled": true
   },
   "outputs": [
    {
     "data": {
      "text/plain": [
       "['names',\n",
       " 'l3thVen',\n",
       " 'r3thVen',\n",
       " 'l4thVen',\n",
       " 'r4thVen',\n",
       " 'lAcc',\n",
       " 'rAcc',\n",
       " 'lAmy',\n",
       " 'rAmy',\n",
       " 'lBst',\n",
       " 'rBst',\n",
       " 'lCau',\n",
       " 'rCau',\n",
       " 'lExtCbe',\n",
       " 'rExtCbe',\n",
       " 'lCbeWM',\n",
       " 'rCbeWM',\n",
       " 'lCbrWM',\n",
       " 'rCbrWM',\n",
       " 'lCSF',\n",
       " 'rCSF',\n",
       " 'lHip',\n",
       " 'rHip',\n",
       " 'lInfLatVen',\n",
       " 'rInfLatVen',\n",
       " 'lLatVen',\n",
       " 'rLatVen',\n",
       " 'lPal',\n",
       " 'rPal',\n",
       " 'lPut',\n",
       " 'rPut',\n",
       " 'lThaPro',\n",
       " 'rThaPro',\n",
       " 'lVenVen',\n",
       " 'rVenVen',\n",
       " 'lOC',\n",
       " 'rOC',\n",
       " 'lCbeLoCbe1-5',\n",
       " 'rCbeLoCbe1-5',\n",
       " 'lCbeLoCbe6-7',\n",
       " 'rCbeLoCbe6-7',\n",
       " 'lCbeLoCbe8-10',\n",
       " 'rCbeLoCbe8-10',\n",
       " 'lBasCbr+FobBr',\n",
       " 'rBasCbr+FobBr',\n",
       " 'lAntCinGy',\n",
       " 'rAntCinGy',\n",
       " 'lAntIns',\n",
       " 'rAntIns',\n",
       " 'lAntOrbGy',\n",
       " 'rAntOrbGy',\n",
       " 'lAngGy',\n",
       " 'rAngGy',\n",
       " 'lCal+Cbr',\n",
       " 'rCal+Cbr',\n",
       " 'lCenOpe',\n",
       " 'rCenOpe',\n",
       " 'lCun',\n",
       " 'rCun',\n",
       " 'lEnt',\n",
       " 'rEnt',\n",
       " 'lFroOpe',\n",
       " 'rFroOpe',\n",
       " 'lFroPo',\n",
       " 'rFroPo',\n",
       " 'lFusGy',\n",
       " 'rFusGy',\n",
       " 'lRecGy',\n",
       " 'rRecGy',\n",
       " 'lInfOccGy',\n",
       " 'rInfOccGy',\n",
       " 'lInfTemGy',\n",
       " 'rInfTemGy',\n",
       " 'lLinGy',\n",
       " 'rLinGy',\n",
       " 'lLatOrbGy',\n",
       " 'rLatOrbGy',\n",
       " 'lMidCinGy',\n",
       " 'rMidCinGy',\n",
       " 'lMedFroCbr',\n",
       " 'rMedFroCbr',\n",
       " 'lMidFroGy',\n",
       " 'rMidFroGy',\n",
       " 'lMidOccGy',\n",
       " 'rMidOccGy',\n",
       " 'lMedOrbGy',\n",
       " 'rMedOrbGy',\n",
       " 'lMedPoCGy',\n",
       " 'rMedPoCGy',\n",
       " 'lMedPrcGy',\n",
       " 'rMedPrcGy',\n",
       " 'lSupMedFroGy',\n",
       " 'rSupMedFroGy',\n",
       " 'lMidTemGy',\n",
       " 'rMidTemGy',\n",
       " 'lOccPo',\n",
       " 'rOccPo',\n",
       " 'lOccFusGy',\n",
       " 'rOccFusGy',\n",
       " 'lInfFroGy',\n",
       " 'rInfFroGy',\n",
       " 'lInfFroOrbGy',\n",
       " 'rInfFroOrbGy',\n",
       " 'lPosCinGy',\n",
       " 'rPosCinGy',\n",
       " 'lPCu',\n",
       " 'rPCu',\n",
       " 'lParHipGy',\n",
       " 'rParHipGy',\n",
       " 'lPosIns',\n",
       " 'rPosIns',\n",
       " 'lParOpe',\n",
       " 'rParOpe',\n",
       " 'lPoCGy',\n",
       " 'rPoCGy',\n",
       " 'lPosOrbGy',\n",
       " 'rPosOrbGy',\n",
       " 'lPla',\n",
       " 'rPla',\n",
       " 'lPrcGy',\n",
       " 'rPrcGy',\n",
       " 'lTem',\n",
       " 'rTem',\n",
       " 'lSCA',\n",
       " 'rSCA',\n",
       " 'lSupFroGy',\n",
       " 'rSupFroGy',\n",
       " 'lCbr+Mot',\n",
       " 'rCbr+Mot',\n",
       " 'lSupMarGy',\n",
       " 'rSupMarGy',\n",
       " 'lSupOccGy',\n",
       " 'rSupOccGy',\n",
       " 'lSupParLo',\n",
       " 'rSupParLo',\n",
       " 'lSupTemGy',\n",
       " 'rSupTemGy',\n",
       " 'lTemPo',\n",
       " 'rTemPo',\n",
       " 'lInfFroAngGy',\n",
       " 'rInfFroAngGy',\n",
       " 'lTemTraGy',\n",
       " 'rTemTraGy',\n",
       " 'Classifier',\n",
       " 'AGE',\n",
       " 'PTGENDER',\n",
       " 'Hippocampus.bl',\n",
       " 'WholeBrain.bl',\n",
       " 'Entorhinal.bl',\n",
       " 'Fusiform.bl',\n",
       " 'MidTemp.bl']"
      ]
     },
     "execution_count": 6,
     "metadata": {},
     "output_type": "execute_result"
    }
   ],
   "source": [
    "df.columns.tolist()"
   ]
  },
  {
   "cell_type": "code",
   "execution_count": 7,
   "metadata": {},
   "outputs": [],
   "source": [
    "df['PTGENDER'] = df['PTGENDER'].map({'Female':1, 'Male':0})"
   ]
  },
  {
   "cell_type": "code",
   "execution_count": 8,
   "metadata": {},
   "outputs": [
    {
     "data": {
      "text/html": [
       "<div>\n",
       "<style scoped>\n",
       "    .dataframe tbody tr th:only-of-type {\n",
       "        vertical-align: middle;\n",
       "    }\n",
       "\n",
       "    .dataframe tbody tr th {\n",
       "        vertical-align: top;\n",
       "    }\n",
       "\n",
       "    .dataframe thead th {\n",
       "        text-align: right;\n",
       "    }\n",
       "</style>\n",
       "<table border=\"1\" class=\"dataframe\">\n",
       "  <thead>\n",
       "    <tr style=\"text-align: right;\">\n",
       "      <th></th>\n",
       "      <th>names</th>\n",
       "      <th>l3thVen</th>\n",
       "      <th>r3thVen</th>\n",
       "      <th>l4thVen</th>\n",
       "      <th>r4thVen</th>\n",
       "      <th>lAcc</th>\n",
       "      <th>rAcc</th>\n",
       "      <th>lAmy</th>\n",
       "      <th>rAmy</th>\n",
       "      <th>lBst</th>\n",
       "      <th>...</th>\n",
       "      <th>lTemTraGy</th>\n",
       "      <th>rTemTraGy</th>\n",
       "      <th>Classifier</th>\n",
       "      <th>AGE</th>\n",
       "      <th>PTGENDER</th>\n",
       "      <th>Hippocampus.bl</th>\n",
       "      <th>WholeBrain.bl</th>\n",
       "      <th>Entorhinal.bl</th>\n",
       "      <th>Fusiform.bl</th>\n",
       "      <th>MidTemp.bl</th>\n",
       "    </tr>\n",
       "  </thead>\n",
       "  <tbody>\n",
       "    <tr>\n",
       "      <th>0</th>\n",
       "      <td>002_S_5018</td>\n",
       "      <td>0.0375</td>\n",
       "      <td>0.0335</td>\n",
       "      <td>0.0714</td>\n",
       "      <td>0.0686</td>\n",
       "      <td>0.3669</td>\n",
       "      <td>0.3540</td>\n",
       "      <td>0.6013</td>\n",
       "      <td>0.7083</td>\n",
       "      <td>0.2747</td>\n",
       "      <td>...</td>\n",
       "      <td>1.1541</td>\n",
       "      <td>1.0597</td>\n",
       "      <td>AD</td>\n",
       "      <td>73.3</td>\n",
       "      <td>0</td>\n",
       "      <td>7431</td>\n",
       "      <td>1.077908e+06</td>\n",
       "      <td>2910</td>\n",
       "      <td>18214</td>\n",
       "      <td>18684</td>\n",
       "    </tr>\n",
       "    <tr>\n",
       "      <th>1</th>\n",
       "      <td>003_S_4152</td>\n",
       "      <td>0.0384</td>\n",
       "      <td>0.0340</td>\n",
       "      <td>0.0671</td>\n",
       "      <td>0.0672</td>\n",
       "      <td>0.3147</td>\n",
       "      <td>0.3206</td>\n",
       "      <td>0.6352</td>\n",
       "      <td>0.7062</td>\n",
       "      <td>0.5595</td>\n",
       "      <td>...</td>\n",
       "      <td>1.1327</td>\n",
       "      <td>0.9901</td>\n",
       "      <td>AD</td>\n",
       "      <td>60.7</td>\n",
       "      <td>0</td>\n",
       "      <td>6696</td>\n",
       "      <td>1.004905e+06</td>\n",
       "      <td>3120</td>\n",
       "      <td>16872</td>\n",
       "      <td>15846</td>\n",
       "    </tr>\n",
       "    <tr>\n",
       "      <th>2</th>\n",
       "      <td>003_S_4373</td>\n",
       "      <td>0.0196</td>\n",
       "      <td>0.0165</td>\n",
       "      <td>0.0506</td>\n",
       "      <td>0.0587</td>\n",
       "      <td>0.1784</td>\n",
       "      <td>0.1950</td>\n",
       "      <td>0.4251</td>\n",
       "      <td>0.4827</td>\n",
       "      <td>0.4255</td>\n",
       "      <td>...</td>\n",
       "      <td>0.6465</td>\n",
       "      <td>0.5112</td>\n",
       "      <td>AD</td>\n",
       "      <td>71.1</td>\n",
       "      <td>1</td>\n",
       "      <td>5458</td>\n",
       "      <td>7.545074e+05</td>\n",
       "      <td>2136</td>\n",
       "      <td>11897</td>\n",
       "      <td>12577</td>\n",
       "    </tr>\n",
       "    <tr>\n",
       "      <th>3</th>\n",
       "      <td>003_S_4892</td>\n",
       "      <td>0.0230</td>\n",
       "      <td>0.0191</td>\n",
       "      <td>0.0477</td>\n",
       "      <td>0.0597</td>\n",
       "      <td>0.3344</td>\n",
       "      <td>0.3376</td>\n",
       "      <td>0.6638</td>\n",
       "      <td>0.7090</td>\n",
       "      <td>0.8452</td>\n",
       "      <td>...</td>\n",
       "      <td>1.1333</td>\n",
       "      <td>0.8846</td>\n",
       "      <td>AD</td>\n",
       "      <td>75.1</td>\n",
       "      <td>1</td>\n",
       "      <td>6726</td>\n",
       "      <td>9.486256e+05</td>\n",
       "      <td>3128</td>\n",
       "      <td>15315</td>\n",
       "      <td>17518</td>\n",
       "    </tr>\n",
       "    <tr>\n",
       "      <th>4</th>\n",
       "      <td>003_S_5165</td>\n",
       "      <td>0.0303</td>\n",
       "      <td>0.0161</td>\n",
       "      <td>0.0333</td>\n",
       "      <td>0.0511</td>\n",
       "      <td>0.2932</td>\n",
       "      <td>0.3143</td>\n",
       "      <td>0.7388</td>\n",
       "      <td>0.6866</td>\n",
       "      <td>0.9777</td>\n",
       "      <td>...</td>\n",
       "      <td>1.2027</td>\n",
       "      <td>0.7114</td>\n",
       "      <td>AD</td>\n",
       "      <td>78.8</td>\n",
       "      <td>0</td>\n",
       "      <td>6269</td>\n",
       "      <td>1.107883e+06</td>\n",
       "      <td>3739</td>\n",
       "      <td>17495</td>\n",
       "      <td>19446</td>\n",
       "    </tr>\n",
       "  </tbody>\n",
       "</table>\n",
       "<p>5 rows × 151 columns</p>\n",
       "</div>"
      ],
      "text/plain": [
       "        names  l3thVen  r3thVen  l4thVen  r4thVen    lAcc    rAcc    lAmy  \\\n",
       "0  002_S_5018   0.0375   0.0335   0.0714   0.0686  0.3669  0.3540  0.6013   \n",
       "1  003_S_4152   0.0384   0.0340   0.0671   0.0672  0.3147  0.3206  0.6352   \n",
       "2  003_S_4373   0.0196   0.0165   0.0506   0.0587  0.1784  0.1950  0.4251   \n",
       "3  003_S_4892   0.0230   0.0191   0.0477   0.0597  0.3344  0.3376  0.6638   \n",
       "4  003_S_5165   0.0303   0.0161   0.0333   0.0511  0.2932  0.3143  0.7388   \n",
       "\n",
       "     rAmy    lBst  ...  lTemTraGy  rTemTraGy  Classifier   AGE  PTGENDER  \\\n",
       "0  0.7083  0.2747  ...     1.1541     1.0597          AD  73.3         0   \n",
       "1  0.7062  0.5595  ...     1.1327     0.9901          AD  60.7         0   \n",
       "2  0.4827  0.4255  ...     0.6465     0.5112          AD  71.1         1   \n",
       "3  0.7090  0.8452  ...     1.1333     0.8846          AD  75.1         1   \n",
       "4  0.6866  0.9777  ...     1.2027     0.7114          AD  78.8         0   \n",
       "\n",
       "   Hippocampus.bl  WholeBrain.bl  Entorhinal.bl  Fusiform.bl  MidTemp.bl  \n",
       "0            7431   1.077908e+06           2910        18214       18684  \n",
       "1            6696   1.004905e+06           3120        16872       15846  \n",
       "2            5458   7.545074e+05           2136        11897       12577  \n",
       "3            6726   9.486256e+05           3128        15315       17518  \n",
       "4            6269   1.107883e+06           3739        17495       19446  \n",
       "\n",
       "[5 rows x 151 columns]"
      ]
     },
     "execution_count": 8,
     "metadata": {},
     "output_type": "execute_result"
    }
   ],
   "source": [
    "df.head()"
   ]
  },
  {
   "cell_type": "markdown",
   "metadata": {},
   "source": [
    "# Data Visualization"
   ]
  },
  {
   "cell_type": "code",
   "execution_count": 9,
   "metadata": {},
   "outputs": [],
   "source": [
    "df_AD = df[df['Classifier']=='AD']"
   ]
  },
  {
   "cell_type": "code",
   "execution_count": 10,
   "metadata": {},
   "outputs": [
    {
     "data": {
      "text/plain": [
       "(487, 151)"
      ]
     },
     "execution_count": 10,
     "metadata": {},
     "output_type": "execute_result"
    }
   ],
   "source": [
    "df_AD.shape"
   ]
  },
  {
   "cell_type": "code",
   "execution_count": 11,
   "metadata": {},
   "outputs": [],
   "source": [
    "df_AD_v = df_AD.drop(columns=['names','Classifier'])"
   ]
  },
  {
   "cell_type": "code",
   "execution_count": 12,
   "metadata": {},
   "outputs": [],
   "source": [
    "df_MCI = df[df['Classifier']=='MCI']"
   ]
  },
  {
   "cell_type": "code",
   "execution_count": 13,
   "metadata": {},
   "outputs": [
    {
     "data": {
      "text/plain": [
       "(438, 151)"
      ]
     },
     "execution_count": 13,
     "metadata": {},
     "output_type": "execute_result"
    }
   ],
   "source": [
    "df_MCI.shape"
   ]
  },
  {
   "cell_type": "code",
   "execution_count": 14,
   "metadata": {},
   "outputs": [],
   "source": [
    "df_CN = df[df['Classifier']=='CN']"
   ]
  },
  {
   "cell_type": "code",
   "execution_count": 15,
   "metadata": {},
   "outputs": [
    {
     "data": {
      "text/plain": [
       "(424, 151)"
      ]
     },
     "execution_count": 15,
     "metadata": {},
     "output_type": "execute_result"
    }
   ],
   "source": [
    "df_CN.shape"
   ]
  },
  {
   "cell_type": "code",
   "execution_count": 16,
   "metadata": {
    "scrolled": true
   },
   "outputs": [
    {
     "data": {
      "text/plain": [
       "<AxesSubplot:xlabel='lCbeWM', ylabel='Classifier'>"
      ]
     },
     "execution_count": 16,
     "metadata": {},
     "output_type": "execute_result"
    },
    {
     "data": {
      "image/png": "[encoded data removed]",
      "text/plain": [
       "<Figure size 1080x1440 with 15 Axes>"
      ]
     },
     "metadata": {
      "needs_background": "light"
     },
     "output_type": "display_data"
    }
   ],
   "source": [
    "fig, axs = plt.subplots(5,3, figsize=(15,20))\n",
    "sns.boxplot(data=df, x=df['l3thVen'], y=df['Classifier'], ax = axs[0,0])\n",
    "sns.boxplot(data=df, x=df['r3thVen'], y=df['Classifier'], ax = axs[0,1])\n",
    "sns.boxplot(data=df, x=df['l4thVen'], y=df['Classifier'], ax = axs[0,2])\n",
    "sns.boxplot(data=df, x=df['r4thVen'], y=df['Classifier'], ax = axs[1,0])\n",
    "sns.boxplot(data=df, x=df['lAcc'], y=df['Classifier'], ax = axs[1,1])\n",
    "sns.boxplot(data=df, x=df['rAcc'], y=df['Classifier'], ax = axs[1,2])\n",
    "sns.boxplot(data=df, x=df['lAmy'], y=df['Classifier'], ax = axs[2,0])\n",
    "sns.boxplot(data=df, x=df['rAmy'], y=df['Classifier'], ax = axs[2,1])\n",
    "sns.boxplot(data=df, x=df['lBst'], y=df['Classifier'], ax = axs[2,2])\n",
    "sns.boxplot(data=df, x=df['rBst'], y=df['Classifier'], ax = axs[3,0])\n",
    "sns.boxplot(data=df, x=df['lCau'], y=df['Classifier'], ax = axs[3,1])\n",
    "sns.boxplot(data=df, x=df['rCau'], y=df['Classifier'], ax = axs[3,2])\n",
    "sns.boxplot(data=df, x=df['lExtCbe'], y=df['Classifier'], ax = axs[4,0])\n",
    "sns.boxplot(data=df, x=df['rExtCbe'], y=df['Classifier'], ax = axs[4,1])\n",
    "sns.boxplot(data=df, x=df['lCbeWM'], y=df['Classifier'], ax = axs[4,2])"
   ]
  },
  {
   "cell_type": "code",
   "execution_count": 17,
   "metadata": {
    "scrolled": true
   },
   "outputs": [
    {
     "data": {
      "text/plain": [
       "<AxesSubplot:xlabel='rPut', ylabel='Classifier'>"
      ]
     },
     "execution_count": 17,
     "metadata": {},
     "output_type": "execute_result"
    },
    {
     "data": {
      "image/png": "[encoded data removed]",
      "text/plain": [
       "<Figure size 1080x1440 with 15 Axes>"
      ]
     },
     "metadata": {
      "needs_background": "light"
     },
     "output_type": "display_data"
    }
   ],
   "source": [
    "fig, axs = plt.subplots(5,3, figsize=(15,20))\n",
    "sns.boxplot(data=df, x=df['rCbeWM'], y=df['Classifier'], ax = axs[0,0])\n",
    "sns.boxplot(data=df, x=df['lCbrWM'], y=df['Classifier'], ax = axs[0,1])\n",
    "sns.boxplot(data=df, x=df['rCbrWM'], y=df['Classifier'], ax = axs[0,2])\n",
    "sns.boxplot(data=df, x=df['lCSF'], y=df['Classifier'], ax = axs[1,0])\n",
    "sns.boxplot(data=df, x=df['rCSF'], y=df['Classifier'], ax = axs[1,1])\n",
    "sns.boxplot(data=df, x=df['lHip'], y=df['Classifier'], ax = axs[1,2])\n",
    "sns.boxplot(data=df, x=df['rHip'], y=df['Classifier'], ax = axs[2,0])\n",
    "sns.boxplot(data=df, x=df['lInfLatVen'], y=df['Classifier'], ax = axs[2,1])\n",
    "sns.boxplot(data=df, x=df['rInfLatVen'], y=df['Classifier'], ax = axs[2,2])\n",
    "sns.boxplot(data=df, x=df['lLatVen'], y=df['Classifier'], ax = axs[3,0])\n",
    "sns.boxplot(data=df, x=df['rLatVen'], y=df['Classifier'], ax = axs[3,1])\n",
    "sns.boxplot(data=df, x=df['lPal'], y=df['Classifier'], ax = axs[3,2])\n",
    "sns.boxplot(data=df, x=df['rPal'], y=df['Classifier'], ax = axs[4,0])\n",
    "sns.boxplot(data=df, x=df['lPut'], y=df['Classifier'], ax = axs[4,1])\n",
    "sns.boxplot(data=df, x=df['rPut'], y=df['Classifier'], ax = axs[4,2])"
   ]
  },
  {
   "cell_type": "code",
   "execution_count": 18,
   "metadata": {
    "scrolled": true
   },
   "outputs": [
    {
     "data": {
      "text/plain": [
       "<AxesSubplot:xlabel='lAntCinGy', ylabel='Classifier'>"
      ]
     },
     "execution_count": 18,
     "metadata": {},
     "output_type": "execute_result"
    },
    {
     "data": {
      "image/png": "[encoded data removed]",
      "text/plain": [
       "<Figure size 1080x1440 with 15 Axes>"
      ]
     },
     "metadata": {
      "needs_background": "light"
     },
     "output_type": "display_data"
    }
   ],
   "source": [
    "fig, axs = plt.subplots(5,3, figsize=(15,20))\n",
    "sns.boxplot(data=df, x=df['lThaPro'], y=df['Classifier'], ax = axs[0,0])\n",
    "sns.boxplot(data=df, x=df['rThaPro'], y=df['Classifier'], ax = axs[0,1])\n",
    "sns.boxplot(data=df, x=df['lVenVen'], y=df['Classifier'], ax = axs[0,2])\n",
    "sns.boxplot(data=df, x=df['rVenVen'], y=df['Classifier'], ax = axs[1,0])\n",
    "sns.boxplot(data=df, x=df['lOC'], y=df['Classifier'], ax = axs[1,1])\n",
    "sns.boxplot(data=df, x=df['rOC'], y=df['Classifier'], ax = axs[1,2])\n",
    "sns.boxplot(data=df, x=df['lCbeLoCbe1-5'], y=df['Classifier'], ax = axs[2,0])\n",
    "sns.boxplot(data=df, x=df['rCbeLoCbe1-5'], y=df['Classifier'], ax = axs[2,1])\n",
    "sns.boxplot(data=df, x=df['lCbeLoCbe6-7'], y=df['Classifier'], ax = axs[2,2])\n",
    "sns.boxplot(data=df, x=df['rCbeLoCbe6-7'], y=df['Classifier'], ax = axs[3,0])\n",
    "sns.boxplot(data=df, x=df['lCbeLoCbe8-10'], y=df['Classifier'], ax = axs[3,1])\n",
    "sns.boxplot(data=df, x=df['rCbeLoCbe8-10'], y=df['Classifier'], ax = axs[3,2])\n",
    "sns.boxplot(data=df, x=df['lBasCbr+FobBr'], y=df['Classifier'], ax = axs[4,0])\n",
    "sns.boxplot(data=df, x=df['rBasCbr+FobBr'], y=df['Classifier'], ax = axs[4,1])\n",
    "sns.boxplot(data=df, x=df['lAntCinGy'], y=df['Classifier'], ax = axs[4,2])"
   ]
  },
  {
   "cell_type": "code",
   "execution_count": 19,
   "metadata": {
    "scrolled": true
   },
   "outputs": [
    {
     "data": {
      "text/plain": [
       "<AxesSubplot:xlabel='rFroOpe', ylabel='Classifier'>"
      ]
     },
     "execution_count": 19,
     "metadata": {},
     "output_type": "execute_result"
    },
    {
     "data": {
      "image/png": "[encoded data removed]",
      "text/plain": [
       "<Figure size 1080x1440 with 15 Axes>"
      ]
     },
     "metadata": {
      "needs_background": "light"
     },
     "output_type": "display_data"
    }
   ],
   "source": [
    "fig, axs = plt.subplots(5,3, figsize=(15,20))\n",
    "sns.boxplot(data=df, x=df['rAntCinGy'], y=df['Classifier'], ax = axs[0,0])\n",
    "sns.boxplot(data=df, x=df['lAntIns'], y=df['Classifier'], ax = axs[0,1])\n",
    "sns.boxplot(data=df, x=df['rAntIns'], y=df['Classifier'], ax = axs[0,2])\n",
    "sns.boxplot(data=df, x=df['lAntOrbGy'], y=df['Classifier'], ax = axs[1,0])\n",
    "sns.boxplot(data=df, x=df['rAntOrbGy'], y=df['Classifier'], ax = axs[1,1])\n",
    "sns.boxplot(data=df, x=df['lCal+Cbr'], y=df['Classifier'], ax = axs[1,2])\n",
    "sns.boxplot(data=df, x=df['rCal+Cbr'], y=df['Classifier'], ax = axs[2,0])\n",
    "sns.boxplot(data=df, x=df['lCenOpe'], y=df['Classifier'], ax = axs[2,1])\n",
    "sns.boxplot(data=df, x=df['rCenOpe'], y=df['Classifier'], ax = axs[2,2])\n",
    "sns.boxplot(data=df, x=df['lCun'], y=df['Classifier'], ax = axs[3,0])\n",
    "sns.boxplot(data=df, x=df['rCun'], y=df['Classifier'], ax = axs[3,1])\n",
    "sns.boxplot(data=df, x=df['lEnt'], y=df['Classifier'], ax = axs[3,2])\n",
    "sns.boxplot(data=df, x=df['rEnt'], y=df['Classifier'], ax = axs[4,0])\n",
    "sns.boxplot(data=df, x=df['lFroOpe'], y=df['Classifier'], ax = axs[4,1])\n",
    "sns.boxplot(data=df, x=df['rFroOpe'], y=df['Classifier'], ax = axs[4,2])"
   ]
  },
  {
   "cell_type": "code",
   "execution_count": 20,
   "metadata": {
    "scrolled": true
   },
   "outputs": [
    {
     "data": {
      "text/plain": [
       "<AxesSubplot:xlabel='lMidCinGy', ylabel='Classifier'>"
      ]
     },
     "execution_count": 20,
     "metadata": {},
     "output_type": "execute_result"
    },
    {
     "data": {
      "image/png": "[encoded data removed]",
      "text/plain": [
       "<Figure size 1080x1440 with 15 Axes>"
      ]
     },
     "metadata": {
      "needs_background": "light"
     },
     "output_type": "display_data"
    }
   ],
   "source": [
    "fig, axs = plt.subplots(5,3, figsize=(15,20))\n",
    "sns.boxplot(data=df, x=df['lFroPo'], y=df['Classifier'], ax = axs[0,0])\n",
    "sns.boxplot(data=df, x=df['rFroPo'], y=df['Classifier'], ax = axs[0,1])\n",
    "sns.boxplot(data=df, x=df['lFusGy'], y=df['Classifier'], ax = axs[0,2])\n",
    "sns.boxplot(data=df, x=df['rFusGy'], y=df['Classifier'], ax = axs[1,0])\n",
    "sns.boxplot(data=df, x=df['lRecGy'], y=df['Classifier'], ax = axs[1,1])\n",
    "sns.boxplot(data=df, x=df['rRecGy'], y=df['Classifier'], ax = axs[1,2])\n",
    "sns.boxplot(data=df, x=df['lInfOccGy'], y=df['Classifier'], ax = axs[2,0])\n",
    "sns.boxplot(data=df, x=df['rInfOccGy'], y=df['Classifier'], ax = axs[2,1])\n",
    "sns.boxplot(data=df, x=df['lInfTemGy'], y=df['Classifier'], ax = axs[2,2])\n",
    "sns.boxplot(data=df, x=df['rInfTemGy'], y=df['Classifier'], ax = axs[3,0])\n",
    "sns.boxplot(data=df, x=df['lLinGy'], y=df['Classifier'], ax = axs[3,1])\n",
    "sns.boxplot(data=df, x=df['rLinGy'], y=df['Classifier'], ax = axs[3,2])\n",
    "sns.boxplot(data=df, x=df['lLatOrbGy'], y=df['Classifier'], ax = axs[4,0])\n",
    "sns.boxplot(data=df, x=df['rLatOrbGy'], y=df['Classifier'], ax = axs[4,1])\n",
    "sns.boxplot(data=df, x=df['lMidCinGy'], y=df['Classifier'], ax = axs[4,2])"
   ]
  },
  {
   "cell_type": "code",
   "execution_count": 21,
   "metadata": {
    "scrolled": true
   },
   "outputs": [
    {
     "data": {
      "text/plain": [
       "<AxesSubplot:xlabel='rSupMedFroGy', ylabel='Classifier'>"
      ]
     },
     "execution_count": 21,
     "metadata": {},
     "output_type": "execute_result"
    },
    {
     "data": {
      "image/png": "[encoded data removed]",
      "text/plain": [
       "<Figure size 1080x1440 with 15 Axes>"
      ]
     },
     "metadata": {
      "needs_background": "light"
     },
     "output_type": "display_data"
    }
   ],
   "source": [
    "fig, axs = plt.subplots(5,3, figsize=(15,20))\n",
    "sns.boxplot(data=df, x=df['rMidCinGy'], y=df['Classifier'], ax = axs[0,0])\n",
    "sns.boxplot(data=df, x=df['lMedFroCbr'], y=df['Classifier'], ax = axs[0,1])\n",
    "sns.boxplot(data=df, x=df['rMedFroCbr'], y=df['Classifier'], ax = axs[0,2])\n",
    "sns.boxplot(data=df, x=df['lMidFroGy'], y=df['Classifier'], ax = axs[1,0])\n",
    "sns.boxplot(data=df, x=df['rMidFroGy'], y=df['Classifier'], ax = axs[1,1])\n",
    "sns.boxplot(data=df, x=df['lMidOccGy'], y=df['Classifier'], ax = axs[1,2])\n",
    "sns.boxplot(data=df, x=df['rMidOccGy'], y=df['Classifier'], ax = axs[2,0])\n",
    "sns.boxplot(data=df, x=df['lMedOrbGy'], y=df['Classifier'], ax = axs[2,1])\n",
    "sns.boxplot(data=df, x=df['rMedOrbGy'], y=df['Classifier'], ax = axs[2,2])\n",
    "sns.boxplot(data=df, x=df['lMedPoCGy'], y=df['Classifier'], ax = axs[3,0])\n",
    "sns.boxplot(data=df, x=df['rMedPoCGy'], y=df['Classifier'], ax = axs[3,1])\n",
    "sns.boxplot(data=df, x=df['lMedPrcGy'], y=df['Classifier'], ax = axs[3,2])\n",
    "sns.boxplot(data=df, x=df['rMedPrcGy'], y=df['Classifier'], ax = axs[4,0])\n",
    "sns.boxplot(data=df, x=df['lSupMedFroGy'], y=df['Classifier'], ax = axs[4,1])\n",
    "sns.boxplot(data=df, x=df['rSupMedFroGy'], y=df['Classifier'], ax = axs[4,2])"
   ]
  },
  {
   "cell_type": "code",
   "execution_count": 22,
   "metadata": {
    "scrolled": true
   },
   "outputs": [
    {
     "data": {
      "text/plain": [
       "<AxesSubplot:xlabel='lParHipGy', ylabel='Classifier'>"
      ]
     },
     "execution_count": 22,
     "metadata": {},
     "output_type": "execute_result"
    },
    {
     "data": {
      "image/png": "[encoded data removed]",
      "text/plain": [
       "<Figure size 1080x1440 with 15 Axes>"
      ]
     },
     "metadata": {
      "needs_background": "light"
     },
     "output_type": "display_data"
    }
   ],
   "source": [
    "fig, axs = plt.subplots(5,3, figsize=(15,20))\n",
    "sns.boxplot(data=df, x=df['lMidTemGy'], y=df['Classifier'], ax = axs[0,0])\n",
    "sns.boxplot(data=df, x=df['rMidTemGy'], y=df['Classifier'], ax = axs[0,1])\n",
    "sns.boxplot(data=df, x=df['lOccPo'], y=df['Classifier'], ax = axs[0,2])\n",
    "sns.boxplot(data=df, x=df['rOccPo'], y=df['Classifier'], ax = axs[1,0])\n",
    "sns.boxplot(data=df, x=df['lOccFusGy'], y=df['Classifier'], ax = axs[1,1])\n",
    "sns.boxplot(data=df, x=df['rOccFusGy'], y=df['Classifier'], ax = axs[1,2])\n",
    "sns.boxplot(data=df, x=df['lInfFroGy'], y=df['Classifier'], ax = axs[2,0])\n",
    "sns.boxplot(data=df, x=df['rInfFroGy'], y=df['Classifier'], ax = axs[2,1])\n",
    "sns.boxplot(data=df, x=df['lInfFroOrbGy'], y=df['Classifier'], ax = axs[2,2])\n",
    "sns.boxplot(data=df, x=df['rInfFroOrbGy'], y=df['Classifier'], ax = axs[3,0])\n",
    "sns.boxplot(data=df, x=df['lPosCinGy'], y=df['Classifier'], ax = axs[3,1])\n",
    "sns.boxplot(data=df, x=df['rPosCinGy'], y=df['Classifier'], ax = axs[3,2])\n",
    "sns.boxplot(data=df, x=df['lPCu'], y=df['Classifier'], ax = axs[4,0])\n",
    "sns.boxplot(data=df, x=df['rPCu'], y=df['Classifier'], ax = axs[4,1])\n",
    "sns.boxplot(data=df, x=df['lParHipGy'], y=df['Classifier'], ax = axs[4,2])"
   ]
  },
  {
   "cell_type": "code",
   "execution_count": 23,
   "metadata": {
    "scrolled": true
   },
   "outputs": [
    {
     "data": {
      "text/plain": [
       "<AxesSubplot:xlabel='rTem', ylabel='Classifier'>"
      ]
     },
     "execution_count": 23,
     "metadata": {},
     "output_type": "execute_result"
    },
    {
     "data": {
      "image/png": "[encoded data removed]",
      "text/plain": [
       "<Figure size 1080x1440 with 15 Axes>"
      ]
     },
     "metadata": {
      "needs_background": "light"
     },
     "output_type": "display_data"
    }
   ],
   "source": [
    "fig, axs = plt.subplots(5,3, figsize=(15,20))\n",
    "sns.boxplot(data=df, x=df['rParHipGy'], y=df['Classifier'], ax = axs[0,0])\n",
    "sns.boxplot(data=df, x=df['lPosIns'], y=df['Classifier'], ax = axs[0,1])\n",
    "sns.boxplot(data=df, x=df['rPosIns'], y=df['Classifier'], ax = axs[0,2])\n",
    "sns.boxplot(data=df, x=df['lParOpe'], y=df['Classifier'], ax = axs[1,0])\n",
    "sns.boxplot(data=df, x=df['rParOpe'], y=df['Classifier'], ax = axs[1,1])\n",
    "sns.boxplot(data=df, x=df['lPoCGy'], y=df['Classifier'], ax = axs[1,2])\n",
    "sns.boxplot(data=df, x=df['rPoCGy'], y=df['Classifier'], ax = axs[2,0])\n",
    "sns.boxplot(data=df, x=df['lPosOrbGy'], y=df['Classifier'], ax = axs[2,1])\n",
    "sns.boxplot(data=df, x=df['rPosOrbGy'], y=df['Classifier'], ax = axs[2,2])\n",
    "sns.boxplot(data=df, x=df['lPla'], y=df['Classifier'], ax = axs[3,0])\n",
    "sns.boxplot(data=df, x=df['rPla'], y=df['Classifier'], ax = axs[3,1])\n",
    "sns.boxplot(data=df, x=df['lPrcGy'], y=df['Classifier'], ax = axs[3,2])\n",
    "sns.boxplot(data=df, x=df['rPrcGy'], y=df['Classifier'], ax = axs[4,0])\n",
    "sns.boxplot(data=df, x=df['lTem'], y=df['Classifier'], ax = axs[4,1])\n",
    "sns.boxplot(data=df, x=df['rTem'], y=df['Classifier'], ax = axs[4,2])"
   ]
  },
  {
   "cell_type": "code",
   "execution_count": 24,
   "metadata": {
    "scrolled": true
   },
   "outputs": [
    {
     "data": {
      "text/plain": [
       "<AxesSubplot:xlabel='lTemPo', ylabel='Classifier'>"
      ]
     },
     "execution_count": 24,
     "metadata": {},
     "output_type": "execute_result"
    },
    {
     "data": {
      "image/png": "[encoded data removed]",
      "text/plain": [
       "<Figure size 1080x1440 with 15 Axes>"
      ]
     },
     "metadata": {
      "needs_background": "light"
     },
     "output_type": "display_data"
    }
   ],
   "source": [
    "fig, axs = plt.subplots(5,3, figsize=(15,20))\n",
    "sns.boxplot(data=df, x=df['lSCA'], y=df['Classifier'], ax = axs[0,0])\n",
    "sns.boxplot(data=df, x=df['rSCA'], y=df['Classifier'], ax = axs[0,1])\n",
    "sns.boxplot(data=df, x=df['lSupFroGy'], y=df['Classifier'], ax = axs[0,2])\n",
    "sns.boxplot(data=df, x=df['rSupFroGy'], y=df['Classifier'], ax = axs[1,0])\n",
    "sns.boxplot(data=df, x=df['lCbr+Mot'], y=df['Classifier'], ax = axs[1,1])\n",
    "sns.boxplot(data=df, x=df['rCbr+Mot'], y=df['Classifier'], ax = axs[1,2])\n",
    "sns.boxplot(data=df, x=df['lSupMarGy'], y=df['Classifier'], ax = axs[2,0])\n",
    "sns.boxplot(data=df, x=df['rSupMarGy'], y=df['Classifier'], ax = axs[2,1])\n",
    "sns.boxplot(data=df, x=df['lSupOccGy'], y=df['Classifier'], ax = axs[2,2])\n",
    "sns.boxplot(data=df, x=df['rSupOccGy'], y=df['Classifier'], ax = axs[3,0])\n",
    "sns.boxplot(data=df, x=df['lSupParLo'], y=df['Classifier'], ax = axs[3,1])\n",
    "sns.boxplot(data=df, x=df['rSupParLo'], y=df['Classifier'], ax = axs[3,2])\n",
    "sns.boxplot(data=df, x=df['lSupTemGy'], y=df['Classifier'], ax = axs[4,0])\n",
    "sns.boxplot(data=df, x=df['rSupTemGy'], y=df['Classifier'], ax = axs[4,1])\n",
    "sns.boxplot(data=df, x=df['lTemPo'], y=df['Classifier'], ax = axs[4,2])"
   ]
  },
  {
   "cell_type": "code",
   "execution_count": 25,
   "metadata": {
    "scrolled": true
   },
   "outputs": [
    {
     "data": {
      "text/plain": [
       "<AxesSubplot:xlabel='MidTemp.bl', ylabel='Classifier'>"
      ]
     },
     "execution_count": 25,
     "metadata": {},
     "output_type": "execute_result"
    },
    {
     "data": {
      "image/png": "[encoded data removed]",
      "text/plain": [
       "<Figure size 1080x1440 with 12 Axes>"
      ]
     },
     "metadata": {
      "needs_background": "light"
     },
     "output_type": "display_data"
    }
   ],
   "source": [
    "fig, axs = plt.subplots(4,3, figsize=(15,20))\n",
    "sns.boxplot(data=df, x=df['rTemPo'], y=df['Classifier'], ax = axs[0,0])\n",
    "sns.boxplot(data=df, x=df['lInfFroAngGy'], y=df['Classifier'], ax = axs[0,1])\n",
    "sns.boxplot(data=df, x=df['rInfFroAngGy'], y=df['Classifier'], ax = axs[0,2])\n",
    "sns.boxplot(data=df, x=df['lTemTraGy'], y=df['Classifier'], ax = axs[1,0])\n",
    "sns.boxplot(data=df, x=df['rTemTraGy'], y=df['Classifier'], ax = axs[1,1])\n",
    "sns.boxplot(data=df, x=df['AGE'], y=df['Classifier'], ax = axs[1,2])\n",
    "sns.boxplot(data=df, x=df['Hippocampus.bl'], y=df['Classifier'], ax = axs[2,0])\n",
    "sns.boxplot(data=df, x=df['WholeBrain.bl'], y=df['Classifier'], ax = axs[2,1])\n",
    "sns.boxplot(data=df, x=df['Entorhinal.bl'], y=df['Classifier'], ax = axs[2,2])\n",
    "sns.boxplot(data=df, x=df['Fusiform.bl'], y=df['Classifier'], ax = axs[3,0])\n",
    "sns.boxplot(data=df, x=df['MidTemp.bl'], y=df['Classifier'], ax = axs[3,1])"
   ]
  },
  {
   "cell_type": "markdown",
   "metadata": {},
   "source": [
    "# ANOVA Testing"
   ]
  },
  {
   "cell_type": "code",
   "execution_count": 26,
   "metadata": {},
   "outputs": [],
   "source": [
    "import statsmodels.api as sm\n",
    "from statsmodels.formula.api import ols\n",
    "import statsmodels.stats.multicomp as multi"
   ]
  },
  {
   "cell_type": "code",
   "execution_count": 27,
   "metadata": {},
   "outputs": [
    {
     "data": {
      "text/html": [
       "<div>\n",
       "<style scoped>\n",
       "    .dataframe tbody tr th:only-of-type {\n",
       "        vertical-align: middle;\n",
       "    }\n",
       "\n",
       "    .dataframe tbody tr th {\n",
       "        vertical-align: top;\n",
       "    }\n",
       "\n",
       "    .dataframe thead th {\n",
       "        text-align: right;\n",
       "    }\n",
       "</style>\n",
       "<table border=\"1\" class=\"dataframe\">\n",
       "  <thead>\n",
       "    <tr style=\"text-align: right;\">\n",
       "      <th></th>\n",
       "      <th>df</th>\n",
       "      <th>sum_sq</th>\n",
       "      <th>mean_sq</th>\n",
       "      <th>F</th>\n",
       "      <th>PR(&gt;F)</th>\n",
       "    </tr>\n",
       "  </thead>\n",
       "  <tbody>\n",
       "    <tr>\n",
       "      <th>C(Classifier)</th>\n",
       "      <td>2.0</td>\n",
       "      <td>74.649455</td>\n",
       "      <td>37.324727</td>\n",
       "      <td>289.958339</td>\n",
       "      <td>1.933267e-105</td>\n",
       "    </tr>\n",
       "    <tr>\n",
       "      <th>Residual</th>\n",
       "      <td>1346.0</td>\n",
       "      <td>173.263109</td>\n",
       "      <td>0.128724</td>\n",
       "      <td>NaN</td>\n",
       "      <td>NaN</td>\n",
       "    </tr>\n",
       "  </tbody>\n",
       "</table>\n",
       "</div>"
      ],
      "text/plain": [
       "                   df      sum_sq    mean_sq           F         PR(>F)\n",
       "C(Classifier)     2.0   74.649455  37.324727  289.958339  1.933267e-105\n",
       "Residual       1346.0  173.263109   0.128724         NaN            NaN"
      ]
     },
     "execution_count": 27,
     "metadata": {},
     "output_type": "execute_result"
    }
   ],
   "source": [
    "model_Hip = ols('lHip ~ C(Classifier)', data=df).fit()\n",
    "anova_table_Hip = sm.stats.anova_lm(model_Hip)\n",
    "anova_table_Hip"
   ]
  },
  {
   "cell_type": "markdown",
   "metadata": {},
   "source": [
    "# Find out which pair of treatments are significantly different from each other"
   ]
  },
  {
   "cell_type": "code",
   "execution_count": 28,
   "metadata": {},
   "outputs": [
    {
     "name": "stdout",
     "output_type": "stream",
     "text": [
      "Multiple Comparison of Means - Tukey HSD, FWER=0.05\n",
      "==================================================\n",
      "group1 group2 meandiff p-adj lower   upper  reject\n",
      "--------------------------------------------------\n",
      "    AD     CN   0.5739 0.001  0.518  0.6298   True\n",
      "    AD    MCI   0.2642 0.001 0.2088  0.3197   True\n",
      "    CN    MCI  -0.3096 0.001 -0.367 -0.2523   True\n",
      "--------------------------------------------------\n"
     ]
    }
   ],
   "source": [
    "mclHip = multi.MultiComparison(df['lHip'], df['Classifier'])\n",
    "results_lHip = mclHip.tukeyhsd()\n",
    "print(results_lHip.summary())"
   ]
  },
  {
   "cell_type": "code",
   "execution_count": 29,
   "metadata": {},
   "outputs": [
    {
     "data": {
      "text/html": [
       "<div>\n",
       "<style scoped>\n",
       "    .dataframe tbody tr th:only-of-type {\n",
       "        vertical-align: middle;\n",
       "    }\n",
       "\n",
       "    .dataframe tbody tr th {\n",
       "        vertical-align: top;\n",
       "    }\n",
       "\n",
       "    .dataframe thead th {\n",
       "        text-align: right;\n",
       "    }\n",
       "</style>\n",
       "<table border=\"1\" class=\"dataframe\">\n",
       "  <thead>\n",
       "    <tr style=\"text-align: right;\">\n",
       "      <th></th>\n",
       "      <th>df</th>\n",
       "      <th>sum_sq</th>\n",
       "      <th>mean_sq</th>\n",
       "      <th>F</th>\n",
       "      <th>PR(&gt;F)</th>\n",
       "    </tr>\n",
       "  </thead>\n",
       "  <tbody>\n",
       "    <tr>\n",
       "      <th>Classifier</th>\n",
       "      <td>2.0</td>\n",
       "      <td>9.490633</td>\n",
       "      <td>4.745317</td>\n",
       "      <td>14.358477</td>\n",
       "      <td>6.757437e-07</td>\n",
       "    </tr>\n",
       "    <tr>\n",
       "      <th>Residual</th>\n",
       "      <td>1346.0</td>\n",
       "      <td>444.838007</td>\n",
       "      <td>0.330489</td>\n",
       "      <td>NaN</td>\n",
       "      <td>NaN</td>\n",
       "    </tr>\n",
       "  </tbody>\n",
       "</table>\n",
       "</div>"
      ],
      "text/plain": [
       "                df      sum_sq   mean_sq          F        PR(>F)\n",
       "Classifier     2.0    9.490633  4.745317  14.358477  6.757437e-07\n",
       "Residual    1346.0  444.838007  0.330489        NaN           NaN"
      ]
     },
     "execution_count": 29,
     "metadata": {},
     "output_type": "execute_result"
    }
   ],
   "source": [
    "model_Occ = ols(\"lOccPo ~ Classifier\", data=df).fit()\n",
    "anova_table_Occ = sm.stats.anova_lm(model_Occ)\n",
    "anova_table_Occ"
   ]
  },
  {
   "cell_type": "code",
   "execution_count": 30,
   "metadata": {},
   "outputs": [
    {
     "name": "stdout",
     "output_type": "stream",
     "text": [
      "Multiple Comparison of Means - Tukey HSD, FWER=0.05\n",
      "===================================================\n",
      "group1 group2 meandiff p-adj   lower  upper  reject\n",
      "---------------------------------------------------\n",
      "    AD     CN   0.1437  0.001  0.0541 0.2333   True\n",
      "    AD    MCI   0.1944  0.001  0.1056 0.2832   True\n",
      "    CN    MCI   0.0507 0.4006 -0.0412 0.1426  False\n",
      "---------------------------------------------------\n"
     ]
    }
   ],
   "source": [
    "mclOcc = multi.MultiComparison(df['lOccPo'], df['Classifier'])\n",
    "results_lOcc = mclOcc.tukeyhsd()\n",
    "print(results_lOcc.summary())"
   ]
  },
  {
   "cell_type": "code",
   "execution_count": 31,
   "metadata": {},
   "outputs": [
    {
     "data": {
      "text/html": [
       "<div>\n",
       "<style scoped>\n",
       "    .dataframe tbody tr th:only-of-type {\n",
       "        vertical-align: middle;\n",
       "    }\n",
       "\n",
       "    .dataframe tbody tr th {\n",
       "        vertical-align: top;\n",
       "    }\n",
       "\n",
       "    .dataframe thead th {\n",
       "        text-align: right;\n",
       "    }\n",
       "</style>\n",
       "<table border=\"1\" class=\"dataframe\">\n",
       "  <thead>\n",
       "    <tr style=\"text-align: right;\">\n",
       "      <th></th>\n",
       "      <th>df</th>\n",
       "      <th>sum_sq</th>\n",
       "      <th>mean_sq</th>\n",
       "      <th>F</th>\n",
       "      <th>PR(&gt;F)</th>\n",
       "    </tr>\n",
       "  </thead>\n",
       "  <tbody>\n",
       "    <tr>\n",
       "      <th>Classifier</th>\n",
       "      <td>2.0</td>\n",
       "      <td>6.939212</td>\n",
       "      <td>3.469606</td>\n",
       "      <td>225.448822</td>\n",
       "      <td>3.573698e-85</td>\n",
       "    </tr>\n",
       "    <tr>\n",
       "      <th>Residual</th>\n",
       "      <td>1346.0</td>\n",
       "      <td>20.714634</td>\n",
       "      <td>0.015390</td>\n",
       "      <td>NaN</td>\n",
       "      <td>NaN</td>\n",
       "    </tr>\n",
       "  </tbody>\n",
       "</table>\n",
       "</div>"
      ],
      "text/plain": [
       "                df     sum_sq   mean_sq           F        PR(>F)\n",
       "Classifier     2.0   6.939212  3.469606  225.448822  3.573698e-85\n",
       "Residual    1346.0  20.714634  0.015390         NaN           NaN"
      ]
     },
     "execution_count": 31,
     "metadata": {},
     "output_type": "execute_result"
    }
   ],
   "source": [
    "model_lAmy = ols(\"lAmy ~ Classifier\", data=df).fit()\n",
    "anova_table_lAmy = sm.stats.anova_lm(model_lAmy)\n",
    "anova_table_lAmy"
   ]
  },
  {
   "cell_type": "code",
   "execution_count": 32,
   "metadata": {},
   "outputs": [
    {
     "name": "stdout",
     "output_type": "stream",
     "text": [
      "Multiple Comparison of Means - Tukey HSD, FWER=0.05\n",
      "===================================================\n",
      "group1 group2 meandiff p-adj  lower   upper  reject\n",
      "---------------------------------------------------\n",
      "    AD     CN    0.175 0.001  0.1556  0.1943   True\n",
      "    AD    MCI   0.0804 0.001  0.0612  0.0996   True\n",
      "    CN    MCI  -0.0946 0.001 -0.1144 -0.0747   True\n",
      "---------------------------------------------------\n"
     ]
    }
   ],
   "source": [
    "mclAmy = multi.MultiComparison(df['lAmy'], df['Classifier'])\n",
    "results_lAmy = mclAmy.tukeyhsd()\n",
    "print(results_lAmy.summary())"
   ]
  },
  {
   "cell_type": "code",
   "execution_count": 33,
   "metadata": {},
   "outputs": [
    {
     "data": {
      "text/html": [
       "<div>\n",
       "<style scoped>\n",
       "    .dataframe tbody tr th:only-of-type {\n",
       "        vertical-align: middle;\n",
       "    }\n",
       "\n",
       "    .dataframe tbody tr th {\n",
       "        vertical-align: top;\n",
       "    }\n",
       "\n",
       "    .dataframe thead th {\n",
       "        text-align: right;\n",
       "    }\n",
       "</style>\n",
       "<table border=\"1\" class=\"dataframe\">\n",
       "  <thead>\n",
       "    <tr style=\"text-align: right;\">\n",
       "      <th></th>\n",
       "      <th>df</th>\n",
       "      <th>sum_sq</th>\n",
       "      <th>mean_sq</th>\n",
       "      <th>F</th>\n",
       "      <th>PR(&gt;F)</th>\n",
       "    </tr>\n",
       "  </thead>\n",
       "  <tbody>\n",
       "    <tr>\n",
       "      <th>Classifier</th>\n",
       "      <td>2.0</td>\n",
       "      <td>1.061130</td>\n",
       "      <td>0.530565</td>\n",
       "      <td>2.171113</td>\n",
       "      <td>0.11445</td>\n",
       "    </tr>\n",
       "    <tr>\n",
       "      <th>Residual</th>\n",
       "      <td>1346.0</td>\n",
       "      <td>328.928294</td>\n",
       "      <td>0.244375</td>\n",
       "      <td>NaN</td>\n",
       "      <td>NaN</td>\n",
       "    </tr>\n",
       "  </tbody>\n",
       "</table>\n",
       "</div>"
      ],
      "text/plain": [
       "                df      sum_sq   mean_sq         F   PR(>F)\n",
       "Classifier     2.0    1.061130  0.530565  2.171113  0.11445\n",
       "Residual    1346.0  328.928294  0.244375       NaN      NaN"
      ]
     },
     "execution_count": 33,
     "metadata": {},
     "output_type": "execute_result"
    }
   ],
   "source": [
    "model_Fro = ols(\"rFroPo ~ Classifier\", data=df).fit()\n",
    "anova_table_Fro = sm.stats.anova_lm(model_Fro)\n",
    "anova_table_Fro"
   ]
  },
  {
   "cell_type": "code",
   "execution_count": 34,
   "metadata": {
    "scrolled": true
   },
   "outputs": [
    {
     "name": "stdout",
     "output_type": "stream",
     "text": [
      "Multiple Comparison of Means - Tukey HSD, FWER=0.05\n",
      "===================================================\n",
      "group1 group2 meandiff p-adj   lower  upper  reject\n",
      "---------------------------------------------------\n",
      "    AD     CN    0.067 0.1032 -0.0101  0.144  False\n",
      "    AD    MCI   0.0434 0.3782  -0.033 0.1198  False\n",
      "    CN    MCI  -0.0236 0.7432 -0.1026 0.0554  False\n",
      "---------------------------------------------------\n"
     ]
    }
   ],
   "source": [
    "mclFro = multi.MultiComparison(df['rFroPo'], df['Classifier'])\n",
    "results_Fro = mclFro.tukeyhsd()\n",
    "print(results_Fro.summary())"
   ]
  },
  {
   "cell_type": "code",
   "execution_count": null,
   "metadata": {},
   "outputs": [],
   "source": []
  },
  {
   "cell_type": "markdown",
   "metadata": {},
   "source": [
    "# Models"
   ]
  },
  {
   "cell_type": "code",
   "execution_count": 35,
   "metadata": {},
   "outputs": [],
   "source": [
    "from sklearn.tree import DecisionTreeClassifier\n",
    "from sklearn import svm\n",
    "from sklearn.ensemble import RandomForestClassifier\n",
    "from sklearn import linear_model\n",
    "from sklearn.model_selection import train_test_split\n",
    "from sklearn.model_selection import cross_val_score\n",
    "from xgboost import XGBClassifier\n",
    "from sklearn.ensemble import GradientBoostingClassifier\n",
    "from sklearn.ensemble import AdaBoostClassifier\n",
    "from sklearn.naive_bayes import GaussianNB, BernoulliNB, MultinomialNB, CategoricalNB\n",
    "from sklearn.metrics import accuracy_score, precision_score, recall_score, f1_score, classification_report, roc_auc_score"
   ]
  },
  {
   "cell_type": "code",
   "execution_count": 36,
   "metadata": {},
   "outputs": [],
   "source": [
    "target = 'Classifier'"
   ]
  },
  {
   "cell_type": "code",
   "execution_count": 37,
   "metadata": {},
   "outputs": [
    {
     "data": {
      "text/plain": [
       "(1349, 151)"
      ]
     },
     "execution_count": 37,
     "metadata": {},
     "output_type": "execute_result"
    }
   ],
   "source": [
    "df.shape"
   ]
  },
  {
   "cell_type": "markdown",
   "metadata": {},
   "source": [
    "# 40 Features"
   ]
  },
  {
   "cell_type": "code",
   "execution_count": 38,
   "metadata": {},
   "outputs": [],
   "source": [
    "features_40 = ['lHip','Entorhinal.bl','Hippocampus.bl','lMidTemGy','lInfTemGy',\n",
    "    'lAmy','lFusGy','lSupTemGy','rAmy','lAcc','rPosCinGy','lLatVen','rHip','lAngGy',\n",
    "    'rTemPo','lMidOccGy','MidTemp.bl','lEnt','rPrcGy','rInfTemGy','lTemPo','lCun',\n",
    "    'rLinGy','lSupMarGy','AGE','lOccPo','lFroPo','rMidTemGy','rSupParLo','rSupMarGy',\n",
    "    'rAngGy','lBasCbr+FobBr','rFroPo','lCau','rCbrWM','r3thVen','rCal+Cbr','lTem','rEnt','rCun']"
   ]
  },
  {
   "cell_type": "code",
   "execution_count": 39,
   "metadata": {},
   "outputs": [],
   "source": [
    "df_f = df[features_40].values\n",
    "df_t = df[target].values"
   ]
  },
  {
   "cell_type": "code",
   "execution_count": 91,
   "metadata": {},
   "outputs": [],
   "source": [
    "# Using GridsearchCV - to tune the best hyerparameters for random forest classifier\n",
    "from sklearn.model_selection import GridSearchCV\n",
    "rf_model = RandomForestClassifier(random_state=42)"
   ]
  },
  {
   "cell_type": "code",
   "execution_count": 92,
   "metadata": {},
   "outputs": [],
   "source": [
    "param_grid = { \n",
    "    'n_estimators': [200, 250, 300, 350],\n",
    "    'max_features': ['auto', 'sqrt', 'log2'],\n",
    "    'max_depth' : [4,5,6,7,8],\n",
    "    'criterion' :['gini', 'entropy']\n",
    "}"
   ]
  },
  {
   "cell_type": "code",
   "execution_count": 44,
   "metadata": {
    "scrolled": true
   },
   "outputs": [
    {
     "data": {
      "text/plain": [
       "GridSearchCV(cv=5, estimator=RandomForestClassifier(random_state=42),\n",
       "             param_grid={'criterion': ['gini', 'entropy'],\n",
       "                         'max_depth': [4, 5, 6, 7, 8],\n",
       "                         'max_features': ['auto', 'sqrt', 'log2'],\n",
       "                         'n_estimators': [200, 250, 300, 350]})"
      ]
     },
     "execution_count": 44,
     "metadata": {},
     "output_type": "execute_result"
    }
   ],
   "source": [
    "CV_rf_model = GridSearchCV(estimator=rf_model, param_grid=param_grid, cv= 5)\n",
    "CV_rf_model.fit(df_f, df_t)"
   ]
  },
  {
   "cell_type": "code",
   "execution_count": 46,
   "metadata": {},
   "outputs": [
    {
     "data": {
      "text/plain": [
       "{'criterion': 'gini',\n",
       " 'max_depth': 8,\n",
       " 'max_features': 'auto',\n",
       " 'n_estimators': 300}"
      ]
     },
     "execution_count": 46,
     "metadata": {},
     "output_type": "execute_result"
    }
   ],
   "source": [
    "CV_rf_model.best_params_"
   ]
  },
  {
   "cell_type": "code",
   "execution_count": 40,
   "metadata": {},
   "outputs": [
    {
     "name": "stdout",
     "output_type": "stream",
     "text": [
      "score for 5 folds: [0.78518519 0.85185185 0.81481481 0.81851852 0.78066914]\n",
      "RF_GINI_mean 0.8102079030703566\n",
      "RF_GINI_std 0.02578054722019021\n"
     ]
    }
   ],
   "source": [
    "rf_model = RandomForestClassifier(n_estimators=250, random_state=10)\n",
    "scores_rf = cross_val_score(rf_model, df_f, df_t, cv=5, scoring = 'accuracy')\n",
    "#scores_rf_roc = cross_val_score(rf_model, df_f, df_t, cv=5, scoring = 'roc_auc')\n",
    "print(f'score for {5} folds:', scores_rf)\n",
    "print('RF_GINI_mean',scores_rf.mean())\n",
    "print('RF_GINI_std',scores_rf.std())\n",
    "#print('RF_GINI_roc_mean',scores_rf_roc.mean())\n",
    "#print('RF_GINI_roc_std',scores_rf_roc.std())"
   ]
  },
  {
   "cell_type": "code",
   "execution_count": 41,
   "metadata": {},
   "outputs": [
    {
     "name": "stderr",
     "output_type": "stream",
     "text": [
      "/data/users/dverma01/conda/envs/tf1gcolab/lib/python3.6/site-packages/xgboost/sklearn.py:1146: UserWarning: The use of label encoder in XGBClassifier is deprecated and will be removed in a future release. To remove this warning, do the following: 1) Pass option use_label_encoder=False when constructing XGBClassifier object; and 2) Encode your labels (y) as integers starting with 0, i.e. 0, 1, 2, ..., [num_class - 1].\n",
      "  warnings.warn(label_encoder_deprecation_msg, UserWarning)\n"
     ]
    },
    {
     "name": "stdout",
     "output_type": "stream",
     "text": [
      "[09:39:13] WARNING: ../src/learner.cc:1095: Starting in XGBoost 1.3.0, the default evaluation metric used with the objective 'multi:softprob' was changed from 'merror' to 'mlogloss'. Explicitly set eval_metric if you'd like to restore the old behavior.\n"
     ]
    },
    {
     "name": "stderr",
     "output_type": "stream",
     "text": [
      "/data/users/dverma01/conda/envs/tf1gcolab/lib/python3.6/site-packages/xgboost/sklearn.py:1146: UserWarning: The use of label encoder in XGBClassifier is deprecated and will be removed in a future release. To remove this warning, do the following: 1) Pass option use_label_encoder=False when constructing XGBClassifier object; and 2) Encode your labels (y) as integers starting with 0, i.e. 0, 1, 2, ..., [num_class - 1].\n",
      "  warnings.warn(label_encoder_deprecation_msg, UserWarning)\n"
     ]
    },
    {
     "name": "stdout",
     "output_type": "stream",
     "text": [
      "[09:39:15] WARNING: ../src/learner.cc:1095: Starting in XGBoost 1.3.0, the default evaluation metric used with the objective 'multi:softprob' was changed from 'merror' to 'mlogloss'. Explicitly set eval_metric if you'd like to restore the old behavior.\n"
     ]
    },
    {
     "name": "stderr",
     "output_type": "stream",
     "text": [
      "/data/users/dverma01/conda/envs/tf1gcolab/lib/python3.6/site-packages/xgboost/sklearn.py:1146: UserWarning: The use of label encoder in XGBClassifier is deprecated and will be removed in a future release. To remove this warning, do the following: 1) Pass option use_label_encoder=False when constructing XGBClassifier object; and 2) Encode your labels (y) as integers starting with 0, i.e. 0, 1, 2, ..., [num_class - 1].\n",
      "  warnings.warn(label_encoder_deprecation_msg, UserWarning)\n"
     ]
    },
    {
     "name": "stdout",
     "output_type": "stream",
     "text": [
      "[09:39:17] WARNING: ../src/learner.cc:1095: Starting in XGBoost 1.3.0, the default evaluation metric used with the objective 'multi:softprob' was changed from 'merror' to 'mlogloss'. Explicitly set eval_metric if you'd like to restore the old behavior.\n"
     ]
    },
    {
     "name": "stderr",
     "output_type": "stream",
     "text": [
      "/data/users/dverma01/conda/envs/tf1gcolab/lib/python3.6/site-packages/xgboost/sklearn.py:1146: UserWarning: The use of label encoder in XGBClassifier is deprecated and will be removed in a future release. To remove this warning, do the following: 1) Pass option use_label_encoder=False when constructing XGBClassifier object; and 2) Encode your labels (y) as integers starting with 0, i.e. 0, 1, 2, ..., [num_class - 1].\n",
      "  warnings.warn(label_encoder_deprecation_msg, UserWarning)\n"
     ]
    },
    {
     "name": "stdout",
     "output_type": "stream",
     "text": [
      "[09:39:19] WARNING: ../src/learner.cc:1095: Starting in XGBoost 1.3.0, the default evaluation metric used with the objective 'multi:softprob' was changed from 'merror' to 'mlogloss'. Explicitly set eval_metric if you'd like to restore the old behavior.\n"
     ]
    },
    {
     "name": "stderr",
     "output_type": "stream",
     "text": [
      "/data/users/dverma01/conda/envs/tf1gcolab/lib/python3.6/site-packages/xgboost/sklearn.py:1146: UserWarning: The use of label encoder in XGBClassifier is deprecated and will be removed in a future release. To remove this warning, do the following: 1) Pass option use_label_encoder=False when constructing XGBClassifier object; and 2) Encode your labels (y) as integers starting with 0, i.e. 0, 1, 2, ..., [num_class - 1].\n",
      "  warnings.warn(label_encoder_deprecation_msg, UserWarning)\n"
     ]
    },
    {
     "name": "stdout",
     "output_type": "stream",
     "text": [
      "[09:39:21] WARNING: ../src/learner.cc:1095: Starting in XGBoost 1.3.0, the default evaluation metric used with the objective 'multi:softprob' was changed from 'merror' to 'mlogloss'. Explicitly set eval_metric if you'd like to restore the old behavior.\n",
      "score for 5 folds: [0.83333333 0.84444444 0.82592593 0.85185185 0.80669145]\n",
      "XG_Model 0.8324494010739365\n",
      "XG_Model 0.015666175532008185\n"
     ]
    }
   ],
   "source": [
    "xg_model = XGBClassifier(n_estimators=200, learning_rate=0.5)\n",
    "scores_xg = cross_val_score(xg_model, df_f, df_t, cv=5, scoring = 'accuracy')\n",
    "#scores_xg_roc = cross_val_score(xg_model, df_f, df_t, cv=5, scoring = 'roc_auc')\n",
    "print(f'score for {5} folds:', scores_xg)\n",
    "print('XG_Model',scores_xg.mean())\n",
    "print('XG_Model',scores_xg.std())\n",
    "#print('XG_roc_mean',scores_xg_roc.mean())\n",
    "#print('XG_roc_std',scores_xg_roc.std())"
   ]
  },
  {
   "cell_type": "code",
   "execution_count": 42,
   "metadata": {},
   "outputs": [
    {
     "name": "stdout",
     "output_type": "stream",
     "text": [
      "score for 5 folds: [0.84074074 0.85925926 0.71481481 0.85925926 0.79182156]\n",
      "SVM_Model_mean 0.8131791270824728\n",
      "SVM_Model_std 0.055023782590284134\n"
     ]
    }
   ],
   "source": [
    "\n",
    "svm_model = svm.SVC(kernel='rbf', C=30, gamma='auto')\n",
    "scores_svm = cross_val_score(svm_model, df_f, df_t, cv=5, scoring = 'accuracy')\n",
    "#scores_svm_roc = cross_val_score(svm_model, df_f, df_t, cv=5, scoring = 'roc_auc')\n",
    "print(f'score for {5} folds:', scores_svm)\n",
    "print('SVM_Model_mean',scores_svm.mean())\n",
    "print('SVM_Model_std',scores_svm.std())\n",
    "#print('SVM_roc_mean',scores_svm_roc.mean())\n",
    "#print('SVM_roc_std',scores_svm_roc.std())"
   ]
  },
  {
   "cell_type": "code",
   "execution_count": 43,
   "metadata": {},
   "outputs": [
    {
     "name": "stdout",
     "output_type": "stream",
     "text": [
      "score for 5 folds: [0.84444444 0.86296296 0.82222222 0.86296296 0.80297398]\n",
      "GDB_Model_mean 0.839113314057552\n",
      "GDB_Model_std 0.023483581809970604\n"
     ]
    }
   ],
   "source": [
    "gdb_model = GradientBoostingClassifier(n_estimators=200, learning_rate = 0.8, random_state=1)\n",
    "scores_gdb = cross_val_score(gdb_model, df_f, df_t, cv=5, scoring = 'accuracy')\n",
    "#scores_gdb_roc = cross_val_score(gdb_model, df_f, df_t, cv=5, scoring = 'roc_auc')\n",
    "print(f'score for {5} folds:', scores_gdb)\n",
    "print('GDB_Model_mean', mean(scores_gdb))\n",
    "print('GDB_Model_std', std(scores_gdb))\n",
    "#print('GDB_roc_mean',scores_gdb_roc.mean())\n",
    "#print('GDB_roc_std',scores_gdb_roc.std())"
   ]
  },
  {
   "cell_type": "code",
   "execution_count": 44,
   "metadata": {},
   "outputs": [
    {
     "name": "stdout",
     "output_type": "stream",
     "text": [
      "score for 5 folds: [0.80740741 0.74074074 0.72962963 0.82962963 0.78810409]\n",
      "Ada_Model_mean 0.7791022993253476\n",
      "Ada_Model_std 0.03835199263759932\n"
     ]
    }
   ],
   "source": [
    "clf = DecisionTreeClassifier(criterion='entropy', max_depth=4)\n",
    "\n",
    "ada_model = AdaBoostClassifier(base_estimator = clf, n_estimators=200, learning_rate=0.8)\n",
    "scores_ada = cross_val_score(ada_model, df_f, df_t, cv=5, scoring = 'accuracy')\n",
    "#scores_ada_roc = cross_val_score(ada_model, df_f, df_t, cv=5, scoring = 'roc_auc')\n",
    "print(f'score for {5} folds:', scores_ada)\n",
    "print('Ada_Model_mean', mean(scores_ada))\n",
    "print('Ada_Model_std',std(scores_ada))\n",
    "#print('Ada_roc_mean',scores_ada_roc.mean())\n",
    "#print('Ada_roc_std',scores_ada_roc.std())"
   ]
  },
  {
   "cell_type": "markdown",
   "metadata": {},
   "source": [
    "# T-test Ranking"
   ]
  },
  {
   "cell_type": "code",
   "execution_count": 60,
   "metadata": {},
   "outputs": [],
   "source": [
    "# Convert CN and MCI to NonAD \n",
    "df.Classifier.replace(to_replace=dict(CN='NonAD', MCI='NonAD'), inplace=True)\n",
    "\n",
    "df_ad = df[df['Classifier']=='AD']\n",
    "df_nonad = df[df['Classifier'] =='NonAD']"
   ]
  },
  {
   "cell_type": "code",
   "execution_count": 61,
   "metadata": {},
   "outputs": [
    {
     "data": {
      "text/plain": [
       "((487, 151), (862, 151))"
      ]
     },
     "execution_count": 61,
     "metadata": {},
     "output_type": "execute_result"
    }
   ],
   "source": [
    "df_ad.shape, df_nonad.shape"
   ]
  },
  {
   "cell_type": "code",
   "execution_count": 65,
   "metadata": {},
   "outputs": [
    {
     "data": {
      "text/html": [
       "<div>\n",
       "<style scoped>\n",
       "    .dataframe tbody tr th:only-of-type {\n",
       "        vertical-align: middle;\n",
       "    }\n",
       "\n",
       "    .dataframe tbody tr th {\n",
       "        vertical-align: top;\n",
       "    }\n",
       "\n",
       "    .dataframe thead th {\n",
       "        text-align: right;\n",
       "    }\n",
       "</style>\n",
       "<table border=\"1\" class=\"dataframe\">\n",
       "  <thead>\n",
       "    <tr style=\"text-align: right;\">\n",
       "      <th></th>\n",
       "      <th>names</th>\n",
       "      <th>l3thVen</th>\n",
       "      <th>r3thVen</th>\n",
       "      <th>l4thVen</th>\n",
       "      <th>r4thVen</th>\n",
       "      <th>lAcc</th>\n",
       "      <th>rAcc</th>\n",
       "      <th>lAmy</th>\n",
       "      <th>rAmy</th>\n",
       "      <th>lBst</th>\n",
       "      <th>...</th>\n",
       "      <th>lTemTraGy</th>\n",
       "      <th>rTemTraGy</th>\n",
       "      <th>Classifier</th>\n",
       "      <th>AGE</th>\n",
       "      <th>PTGENDER</th>\n",
       "      <th>Hippocampus.bl</th>\n",
       "      <th>WholeBrain.bl</th>\n",
       "      <th>Entorhinal.bl</th>\n",
       "      <th>Fusiform.bl</th>\n",
       "      <th>MidTemp.bl</th>\n",
       "    </tr>\n",
       "  </thead>\n",
       "  <tbody>\n",
       "    <tr>\n",
       "      <th>0</th>\n",
       "      <td>002_S_5018</td>\n",
       "      <td>0.0375</td>\n",
       "      <td>0.0335</td>\n",
       "      <td>0.0714</td>\n",
       "      <td>0.0686</td>\n",
       "      <td>0.3669</td>\n",
       "      <td>0.3540</td>\n",
       "      <td>0.6013</td>\n",
       "      <td>0.7083</td>\n",
       "      <td>0.2747</td>\n",
       "      <td>...</td>\n",
       "      <td>1.1541</td>\n",
       "      <td>1.0597</td>\n",
       "      <td>AD</td>\n",
       "      <td>73.3</td>\n",
       "      <td>0</td>\n",
       "      <td>7431</td>\n",
       "      <td>1.077908e+06</td>\n",
       "      <td>2910</td>\n",
       "      <td>18214</td>\n",
       "      <td>18684</td>\n",
       "    </tr>\n",
       "    <tr>\n",
       "      <th>1</th>\n",
       "      <td>003_S_4152</td>\n",
       "      <td>0.0384</td>\n",
       "      <td>0.0340</td>\n",
       "      <td>0.0671</td>\n",
       "      <td>0.0672</td>\n",
       "      <td>0.3147</td>\n",
       "      <td>0.3206</td>\n",
       "      <td>0.6352</td>\n",
       "      <td>0.7062</td>\n",
       "      <td>0.5595</td>\n",
       "      <td>...</td>\n",
       "      <td>1.1327</td>\n",
       "      <td>0.9901</td>\n",
       "      <td>AD</td>\n",
       "      <td>60.7</td>\n",
       "      <td>0</td>\n",
       "      <td>6696</td>\n",
       "      <td>1.004905e+06</td>\n",
       "      <td>3120</td>\n",
       "      <td>16872</td>\n",
       "      <td>15846</td>\n",
       "    </tr>\n",
       "    <tr>\n",
       "      <th>2</th>\n",
       "      <td>003_S_4373</td>\n",
       "      <td>0.0196</td>\n",
       "      <td>0.0165</td>\n",
       "      <td>0.0506</td>\n",
       "      <td>0.0587</td>\n",
       "      <td>0.1784</td>\n",
       "      <td>0.1950</td>\n",
       "      <td>0.4251</td>\n",
       "      <td>0.4827</td>\n",
       "      <td>0.4255</td>\n",
       "      <td>...</td>\n",
       "      <td>0.6465</td>\n",
       "      <td>0.5112</td>\n",
       "      <td>AD</td>\n",
       "      <td>71.1</td>\n",
       "      <td>1</td>\n",
       "      <td>5458</td>\n",
       "      <td>7.545074e+05</td>\n",
       "      <td>2136</td>\n",
       "      <td>11897</td>\n",
       "      <td>12577</td>\n",
       "    </tr>\n",
       "    <tr>\n",
       "      <th>3</th>\n",
       "      <td>003_S_4892</td>\n",
       "      <td>0.0230</td>\n",
       "      <td>0.0191</td>\n",
       "      <td>0.0477</td>\n",
       "      <td>0.0597</td>\n",
       "      <td>0.3344</td>\n",
       "      <td>0.3376</td>\n",
       "      <td>0.6638</td>\n",
       "      <td>0.7090</td>\n",
       "      <td>0.8452</td>\n",
       "      <td>...</td>\n",
       "      <td>1.1333</td>\n",
       "      <td>0.8846</td>\n",
       "      <td>AD</td>\n",
       "      <td>75.1</td>\n",
       "      <td>1</td>\n",
       "      <td>6726</td>\n",
       "      <td>9.486256e+05</td>\n",
       "      <td>3128</td>\n",
       "      <td>15315</td>\n",
       "      <td>17518</td>\n",
       "    </tr>\n",
       "    <tr>\n",
       "      <th>4</th>\n",
       "      <td>003_S_5165</td>\n",
       "      <td>0.0303</td>\n",
       "      <td>0.0161</td>\n",
       "      <td>0.0333</td>\n",
       "      <td>0.0511</td>\n",
       "      <td>0.2932</td>\n",
       "      <td>0.3143</td>\n",
       "      <td>0.7388</td>\n",
       "      <td>0.6866</td>\n",
       "      <td>0.9777</td>\n",
       "      <td>...</td>\n",
       "      <td>1.2027</td>\n",
       "      <td>0.7114</td>\n",
       "      <td>AD</td>\n",
       "      <td>78.8</td>\n",
       "      <td>0</td>\n",
       "      <td>6269</td>\n",
       "      <td>1.107883e+06</td>\n",
       "      <td>3739</td>\n",
       "      <td>17495</td>\n",
       "      <td>19446</td>\n",
       "    </tr>\n",
       "  </tbody>\n",
       "</table>\n",
       "<p>5 rows × 151 columns</p>\n",
       "</div>"
      ],
      "text/plain": [
       "        names  l3thVen  r3thVen  l4thVen  r4thVen    lAcc    rAcc    lAmy  \\\n",
       "0  002_S_5018   0.0375   0.0335   0.0714   0.0686  0.3669  0.3540  0.6013   \n",
       "1  003_S_4152   0.0384   0.0340   0.0671   0.0672  0.3147  0.3206  0.6352   \n",
       "2  003_S_4373   0.0196   0.0165   0.0506   0.0587  0.1784  0.1950  0.4251   \n",
       "3  003_S_4892   0.0230   0.0191   0.0477   0.0597  0.3344  0.3376  0.6638   \n",
       "4  003_S_5165   0.0303   0.0161   0.0333   0.0511  0.2932  0.3143  0.7388   \n",
       "\n",
       "     rAmy    lBst  ...  lTemTraGy  rTemTraGy  Classifier   AGE  PTGENDER  \\\n",
       "0  0.7083  0.2747  ...     1.1541     1.0597          AD  73.3         0   \n",
       "1  0.7062  0.5595  ...     1.1327     0.9901          AD  60.7         0   \n",
       "2  0.4827  0.4255  ...     0.6465     0.5112          AD  71.1         1   \n",
       "3  0.7090  0.8452  ...     1.1333     0.8846          AD  75.1         1   \n",
       "4  0.6866  0.9777  ...     1.2027     0.7114          AD  78.8         0   \n",
       "\n",
       "   Hippocampus.bl  WholeBrain.bl  Entorhinal.bl  Fusiform.bl  MidTemp.bl  \n",
       "0            7431   1.077908e+06           2910        18214       18684  \n",
       "1            6696   1.004905e+06           3120        16872       15846  \n",
       "2            5458   7.545074e+05           2136        11897       12577  \n",
       "3            6726   9.486256e+05           3128        15315       17518  \n",
       "4            6269   1.107883e+06           3739        17495       19446  \n",
       "\n",
       "[5 rows x 151 columns]"
      ]
     },
     "execution_count": 65,
     "metadata": {},
     "output_type": "execute_result"
    }
   ],
   "source": [
    "df_ad.head()"
   ]
  },
  {
   "cell_type": "code",
   "execution_count": 64,
   "metadata": {},
   "outputs": [
    {
     "data": {
      "text/html": [
       "<div>\n",
       "<style scoped>\n",
       "    .dataframe tbody tr th:only-of-type {\n",
       "        vertical-align: middle;\n",
       "    }\n",
       "\n",
       "    .dataframe tbody tr th {\n",
       "        vertical-align: top;\n",
       "    }\n",
       "\n",
       "    .dataframe thead th {\n",
       "        text-align: right;\n",
       "    }\n",
       "</style>\n",
       "<table border=\"1\" class=\"dataframe\">\n",
       "  <thead>\n",
       "    <tr style=\"text-align: right;\">\n",
       "      <th></th>\n",
       "      <th>names</th>\n",
       "      <th>l3thVen</th>\n",
       "      <th>r3thVen</th>\n",
       "      <th>l4thVen</th>\n",
       "      <th>r4thVen</th>\n",
       "      <th>lAcc</th>\n",
       "      <th>rAcc</th>\n",
       "      <th>lAmy</th>\n",
       "      <th>rAmy</th>\n",
       "      <th>lBst</th>\n",
       "      <th>...</th>\n",
       "      <th>lTemTraGy</th>\n",
       "      <th>rTemTraGy</th>\n",
       "      <th>Classifier</th>\n",
       "      <th>AGE</th>\n",
       "      <th>PTGENDER</th>\n",
       "      <th>Hippocampus.bl</th>\n",
       "      <th>WholeBrain.bl</th>\n",
       "      <th>Entorhinal.bl</th>\n",
       "      <th>Fusiform.bl</th>\n",
       "      <th>MidTemp.bl</th>\n",
       "    </tr>\n",
       "  </thead>\n",
       "  <tbody>\n",
       "    <tr>\n",
       "      <th>203</th>\n",
       "      <td>002_S_0295</td>\n",
       "      <td>0.0424</td>\n",
       "      <td>0.0319</td>\n",
       "      <td>0.0854</td>\n",
       "      <td>0.0787</td>\n",
       "      <td>0.3417</td>\n",
       "      <td>0.3439</td>\n",
       "      <td>0.8079</td>\n",
       "      <td>0.8015</td>\n",
       "      <td>0.6866</td>\n",
       "      <td>...</td>\n",
       "      <td>1.1240</td>\n",
       "      <td>0.9116</td>\n",
       "      <td>NonAD</td>\n",
       "      <td>84.8</td>\n",
       "      <td>0</td>\n",
       "      <td>7068</td>\n",
       "      <td>1076351.0</td>\n",
       "      <td>3619</td>\n",
       "      <td>16561</td>\n",
       "      <td>19829</td>\n",
       "    </tr>\n",
       "    <tr>\n",
       "      <th>204</th>\n",
       "      <td>002_S_0413</td>\n",
       "      <td>0.0255</td>\n",
       "      <td>0.0280</td>\n",
       "      <td>0.0824</td>\n",
       "      <td>0.0737</td>\n",
       "      <td>0.3316</td>\n",
       "      <td>0.3500</td>\n",
       "      <td>0.7749</td>\n",
       "      <td>0.7718</td>\n",
       "      <td>0.6807</td>\n",
       "      <td>...</td>\n",
       "      <td>0.8411</td>\n",
       "      <td>1.1115</td>\n",
       "      <td>NonAD</td>\n",
       "      <td>76.3</td>\n",
       "      <td>1</td>\n",
       "      <td>6905</td>\n",
       "      <td>1052839.0</td>\n",
       "      <td>4133</td>\n",
       "      <td>20208</td>\n",
       "      <td>20341</td>\n",
       "    </tr>\n",
       "    <tr>\n",
       "      <th>205</th>\n",
       "      <td>002_S_0685</td>\n",
       "      <td>0.0209</td>\n",
       "      <td>0.0104</td>\n",
       "      <td>0.0824</td>\n",
       "      <td>0.0809</td>\n",
       "      <td>0.3169</td>\n",
       "      <td>0.3057</td>\n",
       "      <td>0.7389</td>\n",
       "      <td>0.6782</td>\n",
       "      <td>1.0458</td>\n",
       "      <td>...</td>\n",
       "      <td>0.6285</td>\n",
       "      <td>0.5104</td>\n",
       "      <td>NonAD</td>\n",
       "      <td>89.6</td>\n",
       "      <td>1</td>\n",
       "      <td>7194</td>\n",
       "      <td>989449.0</td>\n",
       "      <td>4201</td>\n",
       "      <td>13629</td>\n",
       "      <td>18673</td>\n",
       "    </tr>\n",
       "    <tr>\n",
       "      <th>206</th>\n",
       "      <td>002_S_1261</td>\n",
       "      <td>0.0427</td>\n",
       "      <td>0.0159</td>\n",
       "      <td>0.0462</td>\n",
       "      <td>0.0498</td>\n",
       "      <td>0.2953</td>\n",
       "      <td>0.2784</td>\n",
       "      <td>0.5552</td>\n",
       "      <td>0.5670</td>\n",
       "      <td>0.6572</td>\n",
       "      <td>...</td>\n",
       "      <td>0.9451</td>\n",
       "      <td>0.9445</td>\n",
       "      <td>NonAD</td>\n",
       "      <td>71.1</td>\n",
       "      <td>1</td>\n",
       "      <td>6261</td>\n",
       "      <td>1012397.0</td>\n",
       "      <td>2623</td>\n",
       "      <td>16949</td>\n",
       "      <td>19828</td>\n",
       "    </tr>\n",
       "    <tr>\n",
       "      <th>207</th>\n",
       "      <td>002_S_1280</td>\n",
       "      <td>0.0377</td>\n",
       "      <td>0.0431</td>\n",
       "      <td>0.0820</td>\n",
       "      <td>0.1180</td>\n",
       "      <td>0.3157</td>\n",
       "      <td>0.3694</td>\n",
       "      <td>0.7339</td>\n",
       "      <td>0.7266</td>\n",
       "      <td>0.8675</td>\n",
       "      <td>...</td>\n",
       "      <td>1.0981</td>\n",
       "      <td>0.9504</td>\n",
       "      <td>NonAD</td>\n",
       "      <td>70.7</td>\n",
       "      <td>1</td>\n",
       "      <td>6708</td>\n",
       "      <td>974216.0</td>\n",
       "      <td>3706</td>\n",
       "      <td>16768</td>\n",
       "      <td>17715</td>\n",
       "    </tr>\n",
       "  </tbody>\n",
       "</table>\n",
       "<p>5 rows × 151 columns</p>\n",
       "</div>"
      ],
      "text/plain": [
       "          names  l3thVen  r3thVen  l4thVen  r4thVen    lAcc    rAcc    lAmy  \\\n",
       "203  002_S_0295   0.0424   0.0319   0.0854   0.0787  0.3417  0.3439  0.8079   \n",
       "204  002_S_0413   0.0255   0.0280   0.0824   0.0737  0.3316  0.3500  0.7749   \n",
       "205  002_S_0685   0.0209   0.0104   0.0824   0.0809  0.3169  0.3057  0.7389   \n",
       "206  002_S_1261   0.0427   0.0159   0.0462   0.0498  0.2953  0.2784  0.5552   \n",
       "207  002_S_1280   0.0377   0.0431   0.0820   0.1180  0.3157  0.3694  0.7339   \n",
       "\n",
       "       rAmy    lBst  ...  lTemTraGy  rTemTraGy  Classifier   AGE  PTGENDER  \\\n",
       "203  0.8015  0.6866  ...     1.1240     0.9116       NonAD  84.8         0   \n",
       "204  0.7718  0.6807  ...     0.8411     1.1115       NonAD  76.3         1   \n",
       "205  0.6782  1.0458  ...     0.6285     0.5104       NonAD  89.6         1   \n",
       "206  0.5670  0.6572  ...     0.9451     0.9445       NonAD  71.1         1   \n",
       "207  0.7266  0.8675  ...     1.0981     0.9504       NonAD  70.7         1   \n",
       "\n",
       "     Hippocampus.bl  WholeBrain.bl  Entorhinal.bl  Fusiform.bl  MidTemp.bl  \n",
       "203            7068      1076351.0           3619        16561       19829  \n",
       "204            6905      1052839.0           4133        20208       20341  \n",
       "205            7194       989449.0           4201        13629       18673  \n",
       "206            6261      1012397.0           2623        16949       19828  \n",
       "207            6708       974216.0           3706        16768       17715  \n",
       "\n",
       "[5 rows x 151 columns]"
      ]
     },
     "execution_count": 64,
     "metadata": {},
     "output_type": "execute_result"
    }
   ],
   "source": [
    "df_nonad.head()"
   ]
  },
  {
   "cell_type": "markdown",
   "metadata": {},
   "source": [
    "# Gini impurity"
   ]
  },
  {
   "cell_type": "code",
   "execution_count": 66,
   "metadata": {},
   "outputs": [],
   "source": [
    "from numpy import mean\n",
    "from numpy import std"
   ]
  },
  {
   "cell_type": "code",
   "execution_count": 67,
   "metadata": {},
   "outputs": [],
   "source": [
    "features = ['lHip','Entorhinal.bl','Hippocampus.bl','lMidTemGy','lInfTemGy',\n",
    "    'lAmy','lFusGy','lSupTemGy','rAmy','lAcc','rPosCinGy','lLatVen','rHip','lAngGy',\n",
    "    'rTemPo','lMidOccGy','MidTemp.bl','lEnt','rPrcGy','rInfTemGy','lTemPo','lCun',\n",
    "    'rLinGy','lSupMarGy','AGE','lOccPo','lFroPo','rMidTemGy','rSupParLo','rSupMarGy',\n",
    "    'rAngGy','lBasCbr+FobBr','rFroPo','lCau','rCbrWM','r3thVen','rCal+Cbr','lTem','rEnt','rCun']"
   ]
  },
  {
   "cell_type": "code",
   "execution_count": 69,
   "metadata": {},
   "outputs": [],
   "source": [
    "df_A = df[(df['Classifier']=='AD') | (df['Classifier'] == 'NonAD')]    \n",
    "df_f = df_A[features].values\n",
    "df_t = df_A.Classifier.values"
   ]
  },
  {
   "cell_type": "code",
   "execution_count": 82,
   "metadata": {},
   "outputs": [
    {
     "name": "stdout",
     "output_type": "stream",
     "text": [
      "score for 5 folds: [0.92962963 0.79259259 0.93333333 0.97037037 0.85130112]\n",
      "RF_GINI_mean 0.8954454082335124\n",
      "RF_GINI_std 0.0644130826789957\n"
     ]
    }
   ],
   "source": [
    "rf_model = RandomForestClassifier(n_estimators=250,random_state=10)\n",
    "scores_rf = cross_val_score(rf_model, df_f, df_t, cv=5, scoring = 'accuracy')\n",
    "print(f'score for {5} folds:', scores_rf)\n",
    "print('RF_GINI_mean', mean(scores_rf))\n",
    "print('RF_GINI_std', std(scores_rf))"
   ]
  },
  {
   "cell_type": "code",
   "execution_count": 83,
   "metadata": {},
   "outputs": [],
   "source": [
    "from sklearn.metrics import classification_report\n",
    "from sklearn.metrics import precision_score\n",
    "from sklearn.metrics import recall_score\n",
    "from sklearn.metrics import f1_score"
   ]
  },
  {
   "cell_type": "code",
   "execution_count": 84,
   "metadata": {},
   "outputs": [
    {
     "name": "stdout",
     "output_type": "stream",
     "text": [
      "0.9538137409171847\n",
      "0.04251496134543527\n",
      "0.8954454082335124\n",
      "0.0644130826789957\n",
      "\n",
      "\n"
     ]
    }
   ],
   "source": [
    "for score in [\"roc_auc\",  \"accuracy\"]:\n",
    "    cvs = cross_val_score(rf_model, df_f, df_t, cv=5, scoring=score)\n",
    "    print(mean(cvs))\n",
    "    print(std(cvs))\n",
    "#     print(cvs)\n",
    "print('\\n')"
   ]
  },
  {
   "cell_type": "code",
   "execution_count": 85,
   "metadata": {},
   "outputs": [],
   "source": [
    "df_ad = df_ad.drop(columns=['names', 'Classifier'], axis=1)"
   ]
  },
  {
   "cell_type": "code",
   "execution_count": 86,
   "metadata": {},
   "outputs": [],
   "source": [
    "df_nonad = df_nonad.drop(columns=['names', 'Classifier'], axis=1)"
   ]
  },
  {
   "cell_type": "code",
   "execution_count": 87,
   "metadata": {
    "scrolled": true
   },
   "outputs": [
    {
     "data": {
      "text/html": [
       "<div>\n",
       "<style scoped>\n",
       "    .dataframe tbody tr th:only-of-type {\n",
       "        vertical-align: middle;\n",
       "    }\n",
       "\n",
       "    .dataframe tbody tr th {\n",
       "        vertical-align: top;\n",
       "    }\n",
       "\n",
       "    .dataframe thead th {\n",
       "        text-align: right;\n",
       "    }\n",
       "</style>\n",
       "<table border=\"1\" class=\"dataframe\">\n",
       "  <thead>\n",
       "    <tr style=\"text-align: right;\">\n",
       "      <th></th>\n",
       "      <th>l3thVen</th>\n",
       "      <th>r3thVen</th>\n",
       "      <th>l4thVen</th>\n",
       "      <th>r4thVen</th>\n",
       "      <th>lAcc</th>\n",
       "      <th>rAcc</th>\n",
       "      <th>lAmy</th>\n",
       "      <th>rAmy</th>\n",
       "      <th>lBst</th>\n",
       "      <th>rBst</th>\n",
       "      <th>...</th>\n",
       "      <th>rInfFroAngGy</th>\n",
       "      <th>lTemTraGy</th>\n",
       "      <th>rTemTraGy</th>\n",
       "      <th>AGE</th>\n",
       "      <th>PTGENDER</th>\n",
       "      <th>Hippocampus.bl</th>\n",
       "      <th>WholeBrain.bl</th>\n",
       "      <th>Entorhinal.bl</th>\n",
       "      <th>Fusiform.bl</th>\n",
       "      <th>MidTemp.bl</th>\n",
       "    </tr>\n",
       "  </thead>\n",
       "  <tbody>\n",
       "    <tr>\n",
       "      <th>203</th>\n",
       "      <td>0.0424</td>\n",
       "      <td>0.0319</td>\n",
       "      <td>0.0854</td>\n",
       "      <td>0.0787</td>\n",
       "      <td>0.3417</td>\n",
       "      <td>0.3439</td>\n",
       "      <td>0.8079</td>\n",
       "      <td>0.8015</td>\n",
       "      <td>0.6866</td>\n",
       "      <td>0.7160</td>\n",
       "      <td>...</td>\n",
       "      <td>3.4264</td>\n",
       "      <td>1.1240</td>\n",
       "      <td>0.9116</td>\n",
       "      <td>84.8</td>\n",
       "      <td>0</td>\n",
       "      <td>7068</td>\n",
       "      <td>1076351.0</td>\n",
       "      <td>3619</td>\n",
       "      <td>16561</td>\n",
       "      <td>19829</td>\n",
       "    </tr>\n",
       "    <tr>\n",
       "      <th>204</th>\n",
       "      <td>0.0255</td>\n",
       "      <td>0.0280</td>\n",
       "      <td>0.0824</td>\n",
       "      <td>0.0737</td>\n",
       "      <td>0.3316</td>\n",
       "      <td>0.3500</td>\n",
       "      <td>0.7749</td>\n",
       "      <td>0.7718</td>\n",
       "      <td>0.6807</td>\n",
       "      <td>0.8302</td>\n",
       "      <td>...</td>\n",
       "      <td>2.8515</td>\n",
       "      <td>0.8411</td>\n",
       "      <td>1.1115</td>\n",
       "      <td>76.3</td>\n",
       "      <td>1</td>\n",
       "      <td>6905</td>\n",
       "      <td>1052839.0</td>\n",
       "      <td>4133</td>\n",
       "      <td>20208</td>\n",
       "      <td>20341</td>\n",
       "    </tr>\n",
       "    <tr>\n",
       "      <th>205</th>\n",
       "      <td>0.0209</td>\n",
       "      <td>0.0104</td>\n",
       "      <td>0.0824</td>\n",
       "      <td>0.0809</td>\n",
       "      <td>0.3169</td>\n",
       "      <td>0.3057</td>\n",
       "      <td>0.7389</td>\n",
       "      <td>0.6782</td>\n",
       "      <td>1.0458</td>\n",
       "      <td>0.9061</td>\n",
       "      <td>...</td>\n",
       "      <td>2.3530</td>\n",
       "      <td>0.6285</td>\n",
       "      <td>0.5104</td>\n",
       "      <td>89.6</td>\n",
       "      <td>1</td>\n",
       "      <td>7194</td>\n",
       "      <td>989449.0</td>\n",
       "      <td>4201</td>\n",
       "      <td>13629</td>\n",
       "      <td>18673</td>\n",
       "    </tr>\n",
       "    <tr>\n",
       "      <th>206</th>\n",
       "      <td>0.0427</td>\n",
       "      <td>0.0159</td>\n",
       "      <td>0.0462</td>\n",
       "      <td>0.0498</td>\n",
       "      <td>0.2953</td>\n",
       "      <td>0.2784</td>\n",
       "      <td>0.5552</td>\n",
       "      <td>0.5670</td>\n",
       "      <td>0.6572</td>\n",
       "      <td>0.9336</td>\n",
       "      <td>...</td>\n",
       "      <td>2.4871</td>\n",
       "      <td>0.9451</td>\n",
       "      <td>0.9445</td>\n",
       "      <td>71.1</td>\n",
       "      <td>1</td>\n",
       "      <td>6261</td>\n",
       "      <td>1012397.0</td>\n",
       "      <td>2623</td>\n",
       "      <td>16949</td>\n",
       "      <td>19828</td>\n",
       "    </tr>\n",
       "    <tr>\n",
       "      <th>207</th>\n",
       "      <td>0.0377</td>\n",
       "      <td>0.0431</td>\n",
       "      <td>0.0820</td>\n",
       "      <td>0.1180</td>\n",
       "      <td>0.3157</td>\n",
       "      <td>0.3694</td>\n",
       "      <td>0.7339</td>\n",
       "      <td>0.7266</td>\n",
       "      <td>0.8675</td>\n",
       "      <td>0.8867</td>\n",
       "      <td>...</td>\n",
       "      <td>2.6292</td>\n",
       "      <td>1.0981</td>\n",
       "      <td>0.9504</td>\n",
       "      <td>70.7</td>\n",
       "      <td>1</td>\n",
       "      <td>6708</td>\n",
       "      <td>974216.0</td>\n",
       "      <td>3706</td>\n",
       "      <td>16768</td>\n",
       "      <td>17715</td>\n",
       "    </tr>\n",
       "  </tbody>\n",
       "</table>\n",
       "<p>5 rows × 149 columns</p>\n",
       "</div>"
      ],
      "text/plain": [
       "     l3thVen  r3thVen  l4thVen  r4thVen    lAcc    rAcc    lAmy    rAmy  \\\n",
       "203   0.0424   0.0319   0.0854   0.0787  0.3417  0.3439  0.8079  0.8015   \n",
       "204   0.0255   0.0280   0.0824   0.0737  0.3316  0.3500  0.7749  0.7718   \n",
       "205   0.0209   0.0104   0.0824   0.0809  0.3169  0.3057  0.7389  0.6782   \n",
       "206   0.0427   0.0159   0.0462   0.0498  0.2953  0.2784  0.5552  0.5670   \n",
       "207   0.0377   0.0431   0.0820   0.1180  0.3157  0.3694  0.7339  0.7266   \n",
       "\n",
       "       lBst    rBst  ...  rInfFroAngGy  lTemTraGy  rTemTraGy   AGE  PTGENDER  \\\n",
       "203  0.6866  0.7160  ...        3.4264     1.1240     0.9116  84.8         0   \n",
       "204  0.6807  0.8302  ...        2.8515     0.8411     1.1115  76.3         1   \n",
       "205  1.0458  0.9061  ...        2.3530     0.6285     0.5104  89.6         1   \n",
       "206  0.6572  0.9336  ...        2.4871     0.9451     0.9445  71.1         1   \n",
       "207  0.8675  0.8867  ...        2.6292     1.0981     0.9504  70.7         1   \n",
       "\n",
       "     Hippocampus.bl  WholeBrain.bl  Entorhinal.bl  Fusiform.bl  MidTemp.bl  \n",
       "203            7068      1076351.0           3619        16561       19829  \n",
       "204            6905      1052839.0           4133        20208       20341  \n",
       "205            7194       989449.0           4201        13629       18673  \n",
       "206            6261      1012397.0           2623        16949       19828  \n",
       "207            6708       974216.0           3706        16768       17715  \n",
       "\n",
       "[5 rows x 149 columns]"
      ]
     },
     "execution_count": 87,
     "metadata": {},
     "output_type": "execute_result"
    }
   ],
   "source": [
    "df_nonad.head()"
   ]
  },
  {
   "cell_type": "code",
   "execution_count": 88,
   "metadata": {},
   "outputs": [],
   "source": [
    "features = df_ad.columns.tolist()"
   ]
  },
  {
   "cell_type": "code",
   "execution_count": 89,
   "metadata": {},
   "outputs": [
    {
     "name": "stderr",
     "output_type": "stream",
     "text": [
      "/home/dverma01/.local/lib/python3.6/site-packages/ipykernel_launcher.py:5: RuntimeWarning: invalid value encountered in double_scalars\n",
      "  \"\"\"\n"
     ]
    }
   ],
   "source": [
    "dict1 = {}\n",
    "for i in features:\n",
    "    num = abs(df_ad[i].mean() - df_nonad[i].mean())\n",
    "    deno = np.sqrt(df_ad[i].var()/len(df_ad[i]) + df_nonad[i].var()/len(df_nonad[i]))\n",
    "    dict1[i]=(num/deno)"
   ]
  },
  {
   "cell_type": "code",
   "execution_count": 90,
   "metadata": {
    "scrolled": true
   },
   "outputs": [
    {
     "data": {
      "text/plain": [
       "{'l3thVen': 6.8418715445515526,\n",
       " 'r3thVen': 6.325040076958272,\n",
       " 'l4thVen': 3.2793025993250255,\n",
       " 'r4thVen': 3.2783799320849454,\n",
       " 'lAcc': 7.512301600439085,\n",
       " 'rAcc': 5.692900571397279,\n",
       " 'lAmy': 17.304933226586087,\n",
       " 'rAmy': 15.754159039692603,\n",
       " 'lBst': 5.334416223156306,\n",
       " 'rBst': 2.844401920359485,\n",
       " 'lCau': 6.646122614340323,\n",
       " 'rCau': 5.026694600145935,\n",
       " 'lExtCbe': 3.8341015611967784,\n",
       " 'rExtCbe': 3.625320743346468,\n",
       " 'lCbeWM': 6.250490972652986,\n",
       " 'rCbeWM': 5.696336534405127,\n",
       " 'lCbrWM': 1.3080315921457761,\n",
       " 'rCbrWM': 1.4990732679342273,\n",
       " 'lCSF': 1.290848548758028,\n",
       " 'rCSF': 2.1845790303935932,\n",
       " 'lHip': 19.76489741047833,\n",
       " 'rHip': 17.202507595989946,\n",
       " 'lInfLatVen': nan,\n",
       " 'rInfLatVen': 8.779242696097228,\n",
       " 'lLatVen': 9.277742597124718,\n",
       " 'rLatVen': 9.366330080626714,\n",
       " 'lPal': 1.0513126143673945,\n",
       " 'rPal': 1.2331401817644188,\n",
       " 'lPut': 5.4266191671629995,\n",
       " 'rPut': 3.585727663633461,\n",
       " 'lThaPro': 8.381813697979291,\n",
       " 'rThaPro': 6.642217221554015,\n",
       " 'lVenVen': 10.544223602763333,\n",
       " 'rVenVen': 10.517104933071403,\n",
       " 'lOC': nan,\n",
       " 'rOC': 0.835094210020041,\n",
       " 'lCbeLoCbe1-5': 3.409540341965433,\n",
       " 'rCbeLoCbe1-5': 3.0215666083968213,\n",
       " 'lCbeLoCbe6-7': 1.8392103200028678,\n",
       " 'rCbeLoCbe6-7': 2.959471736158642,\n",
       " 'lCbeLoCbe8-10': 2.020074962594685,\n",
       " 'rCbeLoCbe8-10': 1.1392351040373319,\n",
       " 'lBasCbr+FobBr': 11.118688166296382,\n",
       " 'rBasCbr+FobBr': 9.184430239696436,\n",
       " 'lAntCinGy': 7.755029021504307,\n",
       " 'rAntCinGy': 3.4221241947736654,\n",
       " 'lAntIns': 7.294848068291484,\n",
       " 'rAntIns': 6.569778977688985,\n",
       " 'lAntOrbGy': 5.515843657958447,\n",
       " 'rAntOrbGy': 8.08013131297138,\n",
       " 'lAngGy': 13.37582523248407,\n",
       " 'rAngGy': 12.185575023198988,\n",
       " 'lCal+Cbr': 1.594577555066564,\n",
       " 'rCal+Cbr': 0.51773844494899,\n",
       " 'lCenOpe': 7.486503546075827,\n",
       " 'rCenOpe': 6.2062046144606695,\n",
       " 'lCun': 5.593847288116549,\n",
       " 'rCun': 4.785778628525711,\n",
       " 'lEnt': 15.105408968872037,\n",
       " 'rEnt': 14.262072666225171,\n",
       " 'lFroOpe': 6.156194655661343,\n",
       " 'rFroOpe': 7.314996588242781,\n",
       " 'lFroPo': 1.5190130088340548,\n",
       " 'rFroPo': 1.9036480717178716,\n",
       " 'lFusGy': 13.703594261186415,\n",
       " 'rFusGy': 12.670482598356765,\n",
       " 'lRecGy': 5.833200093934093,\n",
       " 'rRecGy': 6.024078694657589,\n",
       " 'lInfOccGy': 11.028916890630322,\n",
       " 'rInfOccGy': 10.475660857343328,\n",
       " 'lInfTemGy': 17.36698018047503,\n",
       " 'rInfTemGy': 14.645411112882918,\n",
       " 'lLinGy': 5.53910957680952,\n",
       " 'rLinGy': 5.083862227225369,\n",
       " 'lLatOrbGy': 5.384807116482088,\n",
       " 'rLatOrbGy': 4.872221681913401,\n",
       " 'lMidCinGy': 6.005888750618772,\n",
       " 'rMidCinGy': 4.83851170637178,\n",
       " 'lMedFroCbr': 5.687170352487086,\n",
       " 'rMedFroCbr': 8.156305181471119,\n",
       " 'lMidFroGy': 7.579067990485498,\n",
       " 'rMidFroGy': 6.974191917212558,\n",
       " 'lMidOccGy': 10.442570834216472,\n",
       " 'rMidOccGy': 10.140650333867063,\n",
       " 'lMedOrbGy': 6.82680891854651,\n",
       " 'rMedOrbGy': 6.389474620862548,\n",
       " 'lMedPoCGy': 0.8756077209773669,\n",
       " 'rMedPoCGy': 2.260890485442225,\n",
       " 'lMedPrcGy': 2.4327190225807898,\n",
       " 'rMedPrcGy': 1.545266776759613,\n",
       " 'lSupMedFroGy': 6.0295892998361325,\n",
       " 'rSupMedFroGy': 6.3008692737579945,\n",
       " 'lMidTemGy': 17.548150048850406,\n",
       " 'rMidTemGy': 14.714847371851377,\n",
       " 'lOccPo': 4.968917641593532,\n",
       " 'rOccPo': 4.560481732290399,\n",
       " 'lOccFusGy': 7.9837586020909805,\n",
       " 'rOccFusGy': 7.70720827093689,\n",
       " 'lInfFroGy': 4.208101777580175,\n",
       " 'rInfFroGy': 3.271731889996102,\n",
       " 'lInfFroOrbGy': 6.167375430679186,\n",
       " 'rInfFroOrbGy': 4.280248294645936,\n",
       " 'lPosCinGy': 10.315928592247854,\n",
       " 'rPosCinGy': 8.414760683059066,\n",
       " 'lPCu': 9.332847053708253,\n",
       " 'rPCu': 9.123533867096587,\n",
       " 'lParHipGy': 13.599206664079757,\n",
       " 'rParHipGy': 10.679579291047377,\n",
       " 'lPosIns': 6.598604635356536,\n",
       " 'rPosIns': 5.733972623337713,\n",
       " 'lParOpe': 7.251516300091027,\n",
       " 'rParOpe': 5.487715588434782,\n",
       " 'lPoCGy': 4.696892103366065,\n",
       " 'rPoCGy': 2.464018338423364,\n",
       " 'lPosOrbGy': 7.548486920966862,\n",
       " 'rPosOrbGy': 6.768440262665041,\n",
       " 'lPla': 9.454046342607748,\n",
       " 'rPla': 6.998072286087715,\n",
       " 'lPrcGy': 1.1710697139264203,\n",
       " 'rPrcGy': 0.5231958459323113,\n",
       " 'lTem': 10.041002302249401,\n",
       " 'rTem': 8.286382898254775,\n",
       " 'lSCA': 6.399193291623853,\n",
       " 'rSCA': 5.828200653158196,\n",
       " 'lSupFroGy': 5.407852196837392,\n",
       " 'rSupFroGy': 5.3839148781065695,\n",
       " 'lCbr+Mot': 4.663909097599965,\n",
       " 'rCbr+Mot': 3.3449477031606083,\n",
       " 'lSupMarGy': 13.322813997217349,\n",
       " 'rSupMarGy': 11.828512764180784,\n",
       " 'lSupOccGy': 7.174929772808853,\n",
       " 'rSupOccGy': 7.966438419467287,\n",
       " 'lSupParLo': 8.355964827068412,\n",
       " 'rSupParLo': 7.597766591143495,\n",
       " 'lSupTemGy': 13.355801010496176,\n",
       " 'rSupTemGy': 10.653093589680294,\n",
       " 'lTemPo': 14.088879178956669,\n",
       " 'rTemPo': 12.696007454808989,\n",
       " 'lInfFroAngGy': 3.245379130051883,\n",
       " 'rInfFroAngGy': 3.054286583508388,\n",
       " 'lTemTraGy': 4.010918648981329,\n",
       " 'rTemTraGy': 4.618167213863205,\n",
       " 'AGE': 0.36417370011853134,\n",
       " 'PTGENDER': 0.6652928770437124,\n",
       " 'Hippocampus.bl': 18.40717457569234,\n",
       " 'WholeBrain.bl': 5.585902072050743,\n",
       " 'Entorhinal.bl': 17.63452117051923,\n",
       " 'Fusiform.bl': 10.05818217896809,\n",
       " 'MidTemp.bl': 12.308260471409042}"
      ]
     },
     "execution_count": 90,
     "metadata": {},
     "output_type": "execute_result"
    }
   ],
   "source": [
    "dict1"
   ]
  },
  {
   "cell_type": "code",
   "execution_count": 91,
   "metadata": {},
   "outputs": [],
   "source": [
    "from operator import itemgetter"
   ]
  },
  {
   "cell_type": "code",
   "execution_count": 92,
   "metadata": {},
   "outputs": [],
   "source": [
    "dict1_sort = sorted(dict1.items(), key=itemgetter(1))"
   ]
  },
  {
   "cell_type": "code",
   "execution_count": 93,
   "metadata": {},
   "outputs": [],
   "source": [
    "top_features = dict1_sort[-30:]"
   ]
  },
  {
   "cell_type": "code",
   "execution_count": 94,
   "metadata": {
    "scrolled": true
   },
   "outputs": [
    {
     "data": {
      "text/plain": [
       "[('lPla', 9.454046342607748),\n",
       " ('lTem', 10.041002302249401),\n",
       " ('Fusiform.bl', 10.05818217896809),\n",
       " ('rMidOccGy', 10.140650333867063),\n",
       " ('lPosCinGy', 10.315928592247854),\n",
       " ('lMidOccGy', 10.442570834216472),\n",
       " ('rInfOccGy', 10.475660857343328),\n",
       " ('rSupTemGy', 10.653093589680294),\n",
       " ('rParHipGy', 10.679579291047377),\n",
       " ('lInfOccGy', 11.028916890630322),\n",
       " ('lBasCbr+FobBr', 11.118688166296382),\n",
       " ('rSupMarGy', 11.828512764180784),\n",
       " ('rAngGy', 12.185575023198988),\n",
       " ('MidTemp.bl', 12.308260471409042),\n",
       " ('rFusGy', 12.670482598356765),\n",
       " ('rTemPo', 12.696007454808989),\n",
       " ('lSupMarGy', 13.322813997217349),\n",
       " ('lSupTemGy', 13.355801010496176),\n",
       " ('lAngGy', 13.37582523248407),\n",
       " ('lParHipGy', 13.599206664079757),\n",
       " ('lFusGy', 13.703594261186415),\n",
       " ('lTemPo', 14.088879178956669),\n",
       " ('rEnt', 14.262072666225171),\n",
       " ('rInfTemGy', 14.645411112882918),\n",
       " ('rMidTemGy', 14.714847371851377),\n",
       " ('lEnt', 15.105408968872037),\n",
       " ('lInfTemGy', 17.36698018047503),\n",
       " ('lMidTemGy', 17.548150048850406),\n",
       " ('Entorhinal.bl', 17.63452117051923),\n",
       " ('Hippocampus.bl', 18.40717457569234)]"
      ]
     },
     "execution_count": 94,
     "metadata": {},
     "output_type": "execute_result"
    }
   ],
   "source": [
    "top_features"
   ]
  },
  {
   "cell_type": "code",
   "execution_count": 95,
   "metadata": {},
   "outputs": [],
   "source": [
    "top_features_lst = [x[0] for x in top_features]"
   ]
  },
  {
   "cell_type": "code",
   "execution_count": 96,
   "metadata": {
    "scrolled": true
   },
   "outputs": [
    {
     "data": {
      "text/plain": [
       "['lPla',\n",
       " 'lTem',\n",
       " 'Fusiform.bl',\n",
       " 'rMidOccGy',\n",
       " 'lPosCinGy',\n",
       " 'lMidOccGy',\n",
       " 'rInfOccGy',\n",
       " 'rSupTemGy',\n",
       " 'rParHipGy',\n",
       " 'lInfOccGy',\n",
       " 'lBasCbr+FobBr',\n",
       " 'rSupMarGy',\n",
       " 'rAngGy',\n",
       " 'MidTemp.bl',\n",
       " 'rFusGy',\n",
       " 'rTemPo',\n",
       " 'lSupMarGy',\n",
       " 'lSupTemGy',\n",
       " 'lAngGy',\n",
       " 'lParHipGy',\n",
       " 'lFusGy',\n",
       " 'lTemPo',\n",
       " 'rEnt',\n",
       " 'rInfTemGy',\n",
       " 'rMidTemGy',\n",
       " 'lEnt',\n",
       " 'lInfTemGy',\n",
       " 'lMidTemGy',\n",
       " 'Entorhinal.bl',\n",
       " 'Hippocampus.bl']"
      ]
     },
     "execution_count": 96,
     "metadata": {},
     "output_type": "execute_result"
    }
   ],
   "source": [
    "top_features_lst"
   ]
  },
  {
   "cell_type": "code",
   "execution_count": 97,
   "metadata": {},
   "outputs": [],
   "source": [
    "top_features_lst.append('AGE')\n",
    "df_top = df[top_features_lst]"
   ]
  },
  {
   "cell_type": "code",
   "execution_count": 98,
   "metadata": {},
   "outputs": [
    {
     "data": {
      "text/plain": [
       "(1349, 31)"
      ]
     },
     "execution_count": 98,
     "metadata": {},
     "output_type": "execute_result"
    }
   ],
   "source": [
    "df_top.shape"
   ]
  },
  {
   "cell_type": "code",
   "execution_count": 99,
   "metadata": {
    "scrolled": true
   },
   "outputs": [
    {
     "data": {
      "text/html": [
       "<div>\n",
       "<style scoped>\n",
       "    .dataframe tbody tr th:only-of-type {\n",
       "        vertical-align: middle;\n",
       "    }\n",
       "\n",
       "    .dataframe tbody tr th {\n",
       "        vertical-align: top;\n",
       "    }\n",
       "\n",
       "    .dataframe thead th {\n",
       "        text-align: right;\n",
       "    }\n",
       "</style>\n",
       "<table border=\"1\" class=\"dataframe\">\n",
       "  <thead>\n",
       "    <tr style=\"text-align: right;\">\n",
       "      <th></th>\n",
       "      <th>lPla</th>\n",
       "      <th>lTem</th>\n",
       "      <th>Fusiform.bl</th>\n",
       "      <th>rMidOccGy</th>\n",
       "      <th>lPosCinGy</th>\n",
       "      <th>lMidOccGy</th>\n",
       "      <th>rInfOccGy</th>\n",
       "      <th>rSupTemGy</th>\n",
       "      <th>rParHipGy</th>\n",
       "      <th>lInfOccGy</th>\n",
       "      <th>...</th>\n",
       "      <th>lTemPo</th>\n",
       "      <th>rEnt</th>\n",
       "      <th>rInfTemGy</th>\n",
       "      <th>rMidTemGy</th>\n",
       "      <th>lEnt</th>\n",
       "      <th>lInfTemGy</th>\n",
       "      <th>lMidTemGy</th>\n",
       "      <th>Entorhinal.bl</th>\n",
       "      <th>Hippocampus.bl</th>\n",
       "      <th>AGE</th>\n",
       "    </tr>\n",
       "  </thead>\n",
       "  <tbody>\n",
       "    <tr>\n",
       "      <th>0</th>\n",
       "      <td>1.8666</td>\n",
       "      <td>1.5523</td>\n",
       "      <td>18214</td>\n",
       "      <td>4.2128</td>\n",
       "      <td>3.2053</td>\n",
       "      <td>4.2604</td>\n",
       "      <td>5.7751</td>\n",
       "      <td>5.2262</td>\n",
       "      <td>2.8666</td>\n",
       "      <td>5.2443</td>\n",
       "      <td>...</td>\n",
       "      <td>6.0391</td>\n",
       "      <td>2.4875</td>\n",
       "      <td>9.5343</td>\n",
       "      <td>10.7535</td>\n",
       "      <td>1.9611</td>\n",
       "      <td>6.5359</td>\n",
       "      <td>8.4208</td>\n",
       "      <td>2910</td>\n",
       "      <td>7431</td>\n",
       "      <td>73.3</td>\n",
       "    </tr>\n",
       "    <tr>\n",
       "      <th>1</th>\n",
       "      <td>1.7015</td>\n",
       "      <td>1.3594</td>\n",
       "      <td>16872</td>\n",
       "      <td>3.5458</td>\n",
       "      <td>3.1646</td>\n",
       "      <td>4.3478</td>\n",
       "      <td>5.8382</td>\n",
       "      <td>5.1582</td>\n",
       "      <td>3.1614</td>\n",
       "      <td>5.4008</td>\n",
       "      <td>...</td>\n",
       "      <td>5.8517</td>\n",
       "      <td>2.5753</td>\n",
       "      <td>8.7412</td>\n",
       "      <td>9.5301</td>\n",
       "      <td>2.2577</td>\n",
       "      <td>7.8496</td>\n",
       "      <td>7.9947</td>\n",
       "      <td>3120</td>\n",
       "      <td>6696</td>\n",
       "      <td>60.7</td>\n",
       "    </tr>\n",
       "    <tr>\n",
       "      <th>2</th>\n",
       "      <td>1.1280</td>\n",
       "      <td>1.2033</td>\n",
       "      <td>11897</td>\n",
       "      <td>2.5895</td>\n",
       "      <td>1.8981</td>\n",
       "      <td>2.0497</td>\n",
       "      <td>3.5831</td>\n",
       "      <td>3.7848</td>\n",
       "      <td>2.1963</td>\n",
       "      <td>2.7001</td>\n",
       "      <td>...</td>\n",
       "      <td>4.4062</td>\n",
       "      <td>1.5885</td>\n",
       "      <td>5.9360</td>\n",
       "      <td>6.3739</td>\n",
       "      <td>1.1618</td>\n",
       "      <td>3.8938</td>\n",
       "      <td>5.3251</td>\n",
       "      <td>2136</td>\n",
       "      <td>5458</td>\n",
       "      <td>71.1</td>\n",
       "    </tr>\n",
       "    <tr>\n",
       "      <th>3</th>\n",
       "      <td>1.7689</td>\n",
       "      <td>1.3396</td>\n",
       "      <td>15315</td>\n",
       "      <td>3.3379</td>\n",
       "      <td>3.0609</td>\n",
       "      <td>4.2482</td>\n",
       "      <td>5.0018</td>\n",
       "      <td>5.1624</td>\n",
       "      <td>2.8227</td>\n",
       "      <td>4.3529</td>\n",
       "      <td>...</td>\n",
       "      <td>5.9074</td>\n",
       "      <td>2.0780</td>\n",
       "      <td>8.2820</td>\n",
       "      <td>10.0208</td>\n",
       "      <td>1.9250</td>\n",
       "      <td>6.6810</td>\n",
       "      <td>8.1043</td>\n",
       "      <td>3128</td>\n",
       "      <td>6726</td>\n",
       "      <td>75.1</td>\n",
       "    </tr>\n",
       "    <tr>\n",
       "      <th>4</th>\n",
       "      <td>1.6610</td>\n",
       "      <td>1.3916</td>\n",
       "      <td>17495</td>\n",
       "      <td>3.6462</td>\n",
       "      <td>3.2825</td>\n",
       "      <td>4.7772</td>\n",
       "      <td>4.8746</td>\n",
       "      <td>4.7759</td>\n",
       "      <td>2.8171</td>\n",
       "      <td>5.2639</td>\n",
       "      <td>...</td>\n",
       "      <td>6.6901</td>\n",
       "      <td>1.7369</td>\n",
       "      <td>8.9172</td>\n",
       "      <td>10.8657</td>\n",
       "      <td>2.0043</td>\n",
       "      <td>8.5626</td>\n",
       "      <td>10.2845</td>\n",
       "      <td>3739</td>\n",
       "      <td>6269</td>\n",
       "      <td>78.8</td>\n",
       "    </tr>\n",
       "  </tbody>\n",
       "</table>\n",
       "<p>5 rows × 31 columns</p>\n",
       "</div>"
      ],
      "text/plain": [
       "     lPla    lTem  Fusiform.bl  rMidOccGy  lPosCinGy  lMidOccGy  rInfOccGy  \\\n",
       "0  1.8666  1.5523        18214     4.2128     3.2053     4.2604     5.7751   \n",
       "1  1.7015  1.3594        16872     3.5458     3.1646     4.3478     5.8382   \n",
       "2  1.1280  1.2033        11897     2.5895     1.8981     2.0497     3.5831   \n",
       "3  1.7689  1.3396        15315     3.3379     3.0609     4.2482     5.0018   \n",
       "4  1.6610  1.3916        17495     3.6462     3.2825     4.7772     4.8746   \n",
       "\n",
       "   rSupTemGy  rParHipGy  lInfOccGy  ...  lTemPo    rEnt  rInfTemGy  rMidTemGy  \\\n",
       "0     5.2262     2.8666     5.2443  ...  6.0391  2.4875     9.5343    10.7535   \n",
       "1     5.1582     3.1614     5.4008  ...  5.8517  2.5753     8.7412     9.5301   \n",
       "2     3.7848     2.1963     2.7001  ...  4.4062  1.5885     5.9360     6.3739   \n",
       "3     5.1624     2.8227     4.3529  ...  5.9074  2.0780     8.2820    10.0208   \n",
       "4     4.7759     2.8171     5.2639  ...  6.6901  1.7369     8.9172    10.8657   \n",
       "\n",
       "     lEnt  lInfTemGy  lMidTemGy  Entorhinal.bl  Hippocampus.bl   AGE  \n",
       "0  1.9611     6.5359     8.4208           2910            7431  73.3  \n",
       "1  2.2577     7.8496     7.9947           3120            6696  60.7  \n",
       "2  1.1618     3.8938     5.3251           2136            5458  71.1  \n",
       "3  1.9250     6.6810     8.1043           3128            6726  75.1  \n",
       "4  2.0043     8.5626    10.2845           3739            6269  78.8  \n",
       "\n",
       "[5 rows x 31 columns]"
      ]
     },
     "execution_count": 99,
     "metadata": {},
     "output_type": "execute_result"
    }
   ],
   "source": [
    "df_top.head()"
   ]
  },
  {
   "cell_type": "code",
   "execution_count": 100,
   "metadata": {},
   "outputs": [],
   "source": [
    "df_target = df[target]"
   ]
  },
  {
   "cell_type": "code",
   "execution_count": 101,
   "metadata": {},
   "outputs": [
    {
     "data": {
      "text/plain": [
       "(1349,)"
      ]
     },
     "execution_count": 101,
     "metadata": {},
     "output_type": "execute_result"
    }
   ],
   "source": [
    "df_target.shape"
   ]
  },
  {
   "cell_type": "code",
   "execution_count": 102,
   "metadata": {},
   "outputs": [
    {
     "data": {
      "text/plain": [
       "((1079, 31), (270, 31), (1079,), (270,))"
      ]
     },
     "execution_count": 102,
     "metadata": {},
     "output_type": "execute_result"
    }
   ],
   "source": [
    "X_train_top, X_test_top, y_train_top, y_test_top = train_test_split(df_top, df_target, test_size=0.2, random_state=1)\n",
    "X_train_top.shape, X_test_top.shape, y_train_top.shape, y_test_top.shape"
   ]
  },
  {
   "cell_type": "code",
   "execution_count": 103,
   "metadata": {},
   "outputs": [],
   "source": [
    "rf_model = RandomForestClassifier(n_estimators=150,random_state=42)"
   ]
  },
  {
   "cell_type": "code",
   "execution_count": 104,
   "metadata": {},
   "outputs": [
    {
     "data": {
      "text/plain": [
       "RandomForestClassifier(n_estimators=150, random_state=42)"
      ]
     },
     "execution_count": 104,
     "metadata": {},
     "output_type": "execute_result"
    }
   ],
   "source": [
    "rf_model.fit(X_train_top,y_train_top)"
   ]
  },
  {
   "cell_type": "code",
   "execution_count": 105,
   "metadata": {},
   "outputs": [],
   "source": [
    "y_pred_top = rf_model.predict(X_test_top)"
   ]
  },
  {
   "cell_type": "code",
   "execution_count": 106,
   "metadata": {},
   "outputs": [
    {
     "name": "stdout",
     "output_type": "stream",
     "text": [
      "0.8740740740740741\n"
     ]
    }
   ],
   "source": [
    "print(accuracy_score(y_test_top,y_pred_top))"
   ]
  },
  {
   "cell_type": "code",
   "execution_count": 107,
   "metadata": {},
   "outputs": [
    {
     "name": "stdout",
     "output_type": "stream",
     "text": [
      "score for 10 folds:  [0.85925926 0.93333333 0.79259259 0.79259259 0.91111111 0.94814815\n",
      " 0.97777778 0.8962963  0.88888889 0.81343284]\n"
     ]
    }
   ],
   "source": [
    "scores_rf = cross_val_score(rf_model, df_top, df_target, cv=10,\n",
    "                         scoring = 'accuracy')\n",
    "print(f'score for {10} folds: ', scores_rf)"
   ]
  },
  {
   "cell_type": "code",
   "execution_count": 108,
   "metadata": {},
   "outputs": [
    {
     "data": {
      "text/plain": [
       "0.8813432835820896"
      ]
     },
     "execution_count": 108,
     "metadata": {},
     "output_type": "execute_result"
    }
   ],
   "source": [
    "scores_rf.mean()"
   ]
  },
  {
   "cell_type": "code",
   "execution_count": 109,
   "metadata": {
    "scrolled": true
   },
   "outputs": [
    {
     "data": {
      "image/png": "[encoded data removed]",
      "text/plain": [
       "<Figure size 720x720 with 1 Axes>"
      ]
     },
     "metadata": {
      "needs_background": "light"
     },
     "output_type": "display_data"
    }
   ],
   "source": [
    "m = rf_model\n",
    "cols = X_train_top.columns\n",
    "importances = pd.Series(m.feature_importances_, cols)\n",
    "plt.figure(figsize = (10,10))\n",
    "importances.sort_values().plot.barh(color='blue');"
   ]
  },
  {
   "cell_type": "markdown",
   "metadata": {},
   "source": [
    "# LogisticRegression"
   ]
  },
  {
   "cell_type": "code",
   "execution_count": 110,
   "metadata": {},
   "outputs": [
    {
     "name": "stderr",
     "output_type": "stream",
     "text": [
      "/data/users/dverma01/conda/envs/tf1gcolab/lib/python3.6/site-packages/sklearn/linear_model/_logistic.py:765: ConvergenceWarning: lbfgs failed to converge (status=1):\n",
      "STOP: TOTAL NO. of ITERATIONS REACHED LIMIT.\n",
      "\n",
      "Increase the number of iterations (max_iter) or scale the data as shown in:\n",
      "    https://scikit-learn.org/stable/modules/preprocessing.html\n",
      "Please also refer to the documentation for alternative solver options:\n",
      "    https://scikit-learn.org/stable/modules/linear_model.html#logistic-regression\n",
      "  extra_warning_msg=_LOGISTIC_SOLVER_CONVERGENCE_MSG)\n",
      "/data/users/dverma01/conda/envs/tf1gcolab/lib/python3.6/site-packages/sklearn/linear_model/_logistic.py:765: ConvergenceWarning: lbfgs failed to converge (status=1):\n",
      "STOP: TOTAL NO. of ITERATIONS REACHED LIMIT.\n",
      "\n",
      "Increase the number of iterations (max_iter) or scale the data as shown in:\n",
      "    https://scikit-learn.org/stable/modules/preprocessing.html\n",
      "Please also refer to the documentation for alternative solver options:\n",
      "    https://scikit-learn.org/stable/modules/linear_model.html#logistic-regression\n",
      "  extra_warning_msg=_LOGISTIC_SOLVER_CONVERGENCE_MSG)\n"
     ]
    },
    {
     "name": "stdout",
     "output_type": "stream",
     "text": [
      "0.7666666666666667\n"
     ]
    },
    {
     "name": "stderr",
     "output_type": "stream",
     "text": [
      "/data/users/dverma01/conda/envs/tf1gcolab/lib/python3.6/site-packages/sklearn/linear_model/_logistic.py:765: ConvergenceWarning: lbfgs failed to converge (status=1):\n",
      "STOP: TOTAL NO. of ITERATIONS REACHED LIMIT.\n",
      "\n",
      "Increase the number of iterations (max_iter) or scale the data as shown in:\n",
      "    https://scikit-learn.org/stable/modules/preprocessing.html\n",
      "Please also refer to the documentation for alternative solver options:\n",
      "    https://scikit-learn.org/stable/modules/linear_model.html#logistic-regression\n",
      "  extra_warning_msg=_LOGISTIC_SOLVER_CONVERGENCE_MSG)\n",
      "/data/users/dverma01/conda/envs/tf1gcolab/lib/python3.6/site-packages/sklearn/linear_model/_logistic.py:765: ConvergenceWarning: lbfgs failed to converge (status=1):\n",
      "STOP: TOTAL NO. of ITERATIONS REACHED LIMIT.\n",
      "\n",
      "Increase the number of iterations (max_iter) or scale the data as shown in:\n",
      "    https://scikit-learn.org/stable/modules/preprocessing.html\n",
      "Please also refer to the documentation for alternative solver options:\n",
      "    https://scikit-learn.org/stable/modules/linear_model.html#logistic-regression\n",
      "  extra_warning_msg=_LOGISTIC_SOLVER_CONVERGENCE_MSG)\n",
      "/data/users/dverma01/conda/envs/tf1gcolab/lib/python3.6/site-packages/sklearn/linear_model/_logistic.py:765: ConvergenceWarning: lbfgs failed to converge (status=1):\n",
      "STOP: TOTAL NO. of ITERATIONS REACHED LIMIT.\n",
      "\n",
      "Increase the number of iterations (max_iter) or scale the data as shown in:\n",
      "    https://scikit-learn.org/stable/modules/preprocessing.html\n",
      "Please also refer to the documentation for alternative solver options:\n",
      "    https://scikit-learn.org/stable/modules/linear_model.html#logistic-regression\n",
      "  extra_warning_msg=_LOGISTIC_SOLVER_CONVERGENCE_MSG)\n"
     ]
    },
    {
     "name": "stdout",
     "output_type": "stream",
     "text": [
      "score for 10 folds: [0.8        0.79259259 0.76296296 0.68888889 0.7037037  0.77777778\n",
      " 0.78518519 0.73333333 0.71111111 0.7238806 ]\n",
      "0.747943615257048\n"
     ]
    },
    {
     "name": "stderr",
     "output_type": "stream",
     "text": [
      "/data/users/dverma01/conda/envs/tf1gcolab/lib/python3.6/site-packages/sklearn/linear_model/_logistic.py:765: ConvergenceWarning: lbfgs failed to converge (status=1):\n",
      "STOP: TOTAL NO. of ITERATIONS REACHED LIMIT.\n",
      "\n",
      "Increase the number of iterations (max_iter) or scale the data as shown in:\n",
      "    https://scikit-learn.org/stable/modules/preprocessing.html\n",
      "Please also refer to the documentation for alternative solver options:\n",
      "    https://scikit-learn.org/stable/modules/linear_model.html#logistic-regression\n",
      "  extra_warning_msg=_LOGISTIC_SOLVER_CONVERGENCE_MSG)\n",
      "/data/users/dverma01/conda/envs/tf1gcolab/lib/python3.6/site-packages/sklearn/linear_model/_logistic.py:765: ConvergenceWarning: lbfgs failed to converge (status=1):\n",
      "STOP: TOTAL NO. of ITERATIONS REACHED LIMIT.\n",
      "\n",
      "Increase the number of iterations (max_iter) or scale the data as shown in:\n",
      "    https://scikit-learn.org/stable/modules/preprocessing.html\n",
      "Please also refer to the documentation for alternative solver options:\n",
      "    https://scikit-learn.org/stable/modules/linear_model.html#logistic-regression\n",
      "  extra_warning_msg=_LOGISTIC_SOLVER_CONVERGENCE_MSG)\n"
     ]
    }
   ],
   "source": [
    "lg_model_top = linear_model.LogisticRegression()\n",
    "lg_model_top.fit(X_train_top,y_train_top)\n",
    "y_lg_pred_top = lg_model_top.predict(X_test_top)\n",
    "print(accuracy_score(y_test_top, y_lg_pred_top))\n",
    "scores_lg_top = cross_val_score(lg_model_top, df_top, df_target, cv=10, scoring = 'accuracy')\n",
    "print(f'score for {10} folds:', scores_lg_top)\n",
    "print(scores_lg_top.mean())"
   ]
  },
  {
   "cell_type": "markdown",
   "metadata": {},
   "source": [
    "# XGBoost"
   ]
  },
  {
   "cell_type": "code",
   "execution_count": 111,
   "metadata": {},
   "outputs": [],
   "source": [
    "xg_model_top = XGBClassifier(n_estimators=150, random_state=42, learning_rate=0.5)"
   ]
  },
  {
   "cell_type": "code",
   "execution_count": 112,
   "metadata": {
    "scrolled": true
   },
   "outputs": [
    {
     "name": "stderr",
     "output_type": "stream",
     "text": [
      "/data/users/dverma01/conda/envs/tf1gcolab/lib/python3.6/site-packages/xgboost/sklearn.py:1146: UserWarning: The use of label encoder in XGBClassifier is deprecated and will be removed in a future release. To remove this warning, do the following: 1) Pass option use_label_encoder=False when constructing XGBClassifier object; and 2) Encode your labels (y) as integers starting with 0, i.e. 0, 1, 2, ..., [num_class - 1].\n",
      "  warnings.warn(label_encoder_deprecation_msg, UserWarning)\n"
     ]
    },
    {
     "name": "stdout",
     "output_type": "stream",
     "text": [
      "[10:30:57] WARNING: ../src/learner.cc:1095: Starting in XGBoost 1.3.0, the default evaluation metric used with the objective 'binary:logistic' was changed from 'error' to 'logloss'. Explicitly set eval_metric if you'd like to restore the old behavior.\n"
     ]
    },
    {
     "data": {
      "text/plain": [
       "XGBClassifier(base_score=0.5, booster='gbtree', colsample_bylevel=1,\n",
       "              colsample_bynode=1, colsample_bytree=1, gamma=0, gpu_id=-1,\n",
       "              importance_type='gain', interaction_constraints='',\n",
       "              learning_rate=0.5, max_delta_step=0, max_depth=6,\n",
       "              min_child_weight=1, missing=nan, monotone_constraints='()',\n",
       "              n_estimators=150, n_jobs=40, num_parallel_tree=1, random_state=42,\n",
       "              reg_alpha=0, reg_lambda=1, scale_pos_weight=1, subsample=1,\n",
       "              tree_method='exact', validate_parameters=1, verbosity=None)"
      ]
     },
     "execution_count": 112,
     "metadata": {},
     "output_type": "execute_result"
    }
   ],
   "source": [
    "xg_model_top.fit(X_train_top,y_train_top)"
   ]
  },
  {
   "cell_type": "code",
   "execution_count": 113,
   "metadata": {},
   "outputs": [
    {
     "name": "stderr",
     "output_type": "stream",
     "text": [
      "/data/users/dverma01/conda/envs/tf1gcolab/lib/python3.6/site-packages/xgboost/data.py:115: UserWarning: Use subset (sliced data) of np.ndarray is not recommended because it will generate extra copies and increase memory consumption\n",
      "  \"memory consumption\")\n"
     ]
    }
   ],
   "source": [
    "y_xg_pred_top = xg_model_top.predict(X_test_top)"
   ]
  },
  {
   "cell_type": "code",
   "execution_count": 114,
   "metadata": {
    "scrolled": true
   },
   "outputs": [
    {
     "name": "stdout",
     "output_type": "stream",
     "text": [
      "0.9074074074074074\n"
     ]
    }
   ],
   "source": [
    "print(accuracy_score(y_test_top, y_xg_pred_top))"
   ]
  },
  {
   "cell_type": "code",
   "execution_count": 115,
   "metadata": {
    "scrolled": true
   },
   "outputs": [
    {
     "name": "stderr",
     "output_type": "stream",
     "text": [
      "/data/users/dverma01/conda/envs/tf1gcolab/lib/python3.6/site-packages/xgboost/sklearn.py:1146: UserWarning: The use of label encoder in XGBClassifier is deprecated and will be removed in a future release. To remove this warning, do the following: 1) Pass option use_label_encoder=False when constructing XGBClassifier object; and 2) Encode your labels (y) as integers starting with 0, i.e. 0, 1, 2, ..., [num_class - 1].\n",
      "  warnings.warn(label_encoder_deprecation_msg, UserWarning)\n"
     ]
    },
    {
     "name": "stdout",
     "output_type": "stream",
     "text": [
      "[10:31:08] WARNING: ../src/learner.cc:1095: Starting in XGBoost 1.3.0, the default evaluation metric used with the objective 'binary:logistic' was changed from 'error' to 'logloss'. Explicitly set eval_metric if you'd like to restore the old behavior.\n"
     ]
    },
    {
     "name": "stderr",
     "output_type": "stream",
     "text": [
      "/data/users/dverma01/conda/envs/tf1gcolab/lib/python3.6/site-packages/xgboost/data.py:115: UserWarning: Use subset (sliced data) of np.ndarray is not recommended because it will generate extra copies and increase memory consumption\n",
      "  \"memory consumption\")\n",
      "/data/users/dverma01/conda/envs/tf1gcolab/lib/python3.6/site-packages/xgboost/sklearn.py:1146: UserWarning: The use of label encoder in XGBClassifier is deprecated and will be removed in a future release. To remove this warning, do the following: 1) Pass option use_label_encoder=False when constructing XGBClassifier object; and 2) Encode your labels (y) as integers starting with 0, i.e. 0, 1, 2, ..., [num_class - 1].\n",
      "  warnings.warn(label_encoder_deprecation_msg, UserWarning)\n"
     ]
    },
    {
     "name": "stdout",
     "output_type": "stream",
     "text": [
      "[10:31:09] WARNING: ../src/learner.cc:1095: Starting in XGBoost 1.3.0, the default evaluation metric used with the objective 'binary:logistic' was changed from 'error' to 'logloss'. Explicitly set eval_metric if you'd like to restore the old behavior.\n"
     ]
    },
    {
     "name": "stderr",
     "output_type": "stream",
     "text": [
      "/data/users/dverma01/conda/envs/tf1gcolab/lib/python3.6/site-packages/xgboost/data.py:115: UserWarning: Use subset (sliced data) of np.ndarray is not recommended because it will generate extra copies and increase memory consumption\n",
      "  \"memory consumption\")\n",
      "/data/users/dverma01/conda/envs/tf1gcolab/lib/python3.6/site-packages/xgboost/sklearn.py:1146: UserWarning: The use of label encoder in XGBClassifier is deprecated and will be removed in a future release. To remove this warning, do the following: 1) Pass option use_label_encoder=False when constructing XGBClassifier object; and 2) Encode your labels (y) as integers starting with 0, i.e. 0, 1, 2, ..., [num_class - 1].\n",
      "  warnings.warn(label_encoder_deprecation_msg, UserWarning)\n"
     ]
    },
    {
     "name": "stdout",
     "output_type": "stream",
     "text": [
      "[10:31:09] WARNING: ../src/learner.cc:1095: Starting in XGBoost 1.3.0, the default evaluation metric used with the objective 'binary:logistic' was changed from 'error' to 'logloss'. Explicitly set eval_metric if you'd like to restore the old behavior.\n"
     ]
    },
    {
     "name": "stderr",
     "output_type": "stream",
     "text": [
      "/data/users/dverma01/conda/envs/tf1gcolab/lib/python3.6/site-packages/xgboost/data.py:115: UserWarning: Use subset (sliced data) of np.ndarray is not recommended because it will generate extra copies and increase memory consumption\n",
      "  \"memory consumption\")\n",
      "/data/users/dverma01/conda/envs/tf1gcolab/lib/python3.6/site-packages/xgboost/sklearn.py:1146: UserWarning: The use of label encoder in XGBClassifier is deprecated and will be removed in a future release. To remove this warning, do the following: 1) Pass option use_label_encoder=False when constructing XGBClassifier object; and 2) Encode your labels (y) as integers starting with 0, i.e. 0, 1, 2, ..., [num_class - 1].\n",
      "  warnings.warn(label_encoder_deprecation_msg, UserWarning)\n"
     ]
    },
    {
     "name": "stdout",
     "output_type": "stream",
     "text": [
      "[10:31:10] WARNING: ../src/learner.cc:1095: Starting in XGBoost 1.3.0, the default evaluation metric used with the objective 'binary:logistic' was changed from 'error' to 'logloss'. Explicitly set eval_metric if you'd like to restore the old behavior.\n"
     ]
    },
    {
     "name": "stderr",
     "output_type": "stream",
     "text": [
      "/data/users/dverma01/conda/envs/tf1gcolab/lib/python3.6/site-packages/xgboost/data.py:115: UserWarning: Use subset (sliced data) of np.ndarray is not recommended because it will generate extra copies and increase memory consumption\n",
      "  \"memory consumption\")\n",
      "/data/users/dverma01/conda/envs/tf1gcolab/lib/python3.6/site-packages/xgboost/sklearn.py:1146: UserWarning: The use of label encoder in XGBClassifier is deprecated and will be removed in a future release. To remove this warning, do the following: 1) Pass option use_label_encoder=False when constructing XGBClassifier object; and 2) Encode your labels (y) as integers starting with 0, i.e. 0, 1, 2, ..., [num_class - 1].\n",
      "  warnings.warn(label_encoder_deprecation_msg, UserWarning)\n"
     ]
    },
    {
     "name": "stdout",
     "output_type": "stream",
     "text": [
      "[10:31:10] WARNING: ../src/learner.cc:1095: Starting in XGBoost 1.3.0, the default evaluation metric used with the objective 'binary:logistic' was changed from 'error' to 'logloss'. Explicitly set eval_metric if you'd like to restore the old behavior.\n"
     ]
    },
    {
     "name": "stderr",
     "output_type": "stream",
     "text": [
      "/data/users/dverma01/conda/envs/tf1gcolab/lib/python3.6/site-packages/xgboost/data.py:115: UserWarning: Use subset (sliced data) of np.ndarray is not recommended because it will generate extra copies and increase memory consumption\n",
      "  \"memory consumption\")\n",
      "/data/users/dverma01/conda/envs/tf1gcolab/lib/python3.6/site-packages/xgboost/sklearn.py:1146: UserWarning: The use of label encoder in XGBClassifier is deprecated and will be removed in a future release. To remove this warning, do the following: 1) Pass option use_label_encoder=False when constructing XGBClassifier object; and 2) Encode your labels (y) as integers starting with 0, i.e. 0, 1, 2, ..., [num_class - 1].\n",
      "  warnings.warn(label_encoder_deprecation_msg, UserWarning)\n"
     ]
    },
    {
     "name": "stdout",
     "output_type": "stream",
     "text": [
      "[10:31:11] WARNING: ../src/learner.cc:1095: Starting in XGBoost 1.3.0, the default evaluation metric used with the objective 'binary:logistic' was changed from 'error' to 'logloss'. Explicitly set eval_metric if you'd like to restore the old behavior.\n"
     ]
    },
    {
     "name": "stderr",
     "output_type": "stream",
     "text": [
      "/data/users/dverma01/conda/envs/tf1gcolab/lib/python3.6/site-packages/xgboost/data.py:115: UserWarning: Use subset (sliced data) of np.ndarray is not recommended because it will generate extra copies and increase memory consumption\n",
      "  \"memory consumption\")\n",
      "/data/users/dverma01/conda/envs/tf1gcolab/lib/python3.6/site-packages/xgboost/sklearn.py:1146: UserWarning: The use of label encoder in XGBClassifier is deprecated and will be removed in a future release. To remove this warning, do the following: 1) Pass option use_label_encoder=False when constructing XGBClassifier object; and 2) Encode your labels (y) as integers starting with 0, i.e. 0, 1, 2, ..., [num_class - 1].\n",
      "  warnings.warn(label_encoder_deprecation_msg, UserWarning)\n"
     ]
    },
    {
     "name": "stdout",
     "output_type": "stream",
     "text": [
      "[10:31:11] WARNING: ../src/learner.cc:1095: Starting in XGBoost 1.3.0, the default evaluation metric used with the objective 'binary:logistic' was changed from 'error' to 'logloss'. Explicitly set eval_metric if you'd like to restore the old behavior.\n"
     ]
    },
    {
     "name": "stderr",
     "output_type": "stream",
     "text": [
      "/data/users/dverma01/conda/envs/tf1gcolab/lib/python3.6/site-packages/xgboost/data.py:115: UserWarning: Use subset (sliced data) of np.ndarray is not recommended because it will generate extra copies and increase memory consumption\n",
      "  \"memory consumption\")\n",
      "/data/users/dverma01/conda/envs/tf1gcolab/lib/python3.6/site-packages/xgboost/sklearn.py:1146: UserWarning: The use of label encoder in XGBClassifier is deprecated and will be removed in a future release. To remove this warning, do the following: 1) Pass option use_label_encoder=False when constructing XGBClassifier object; and 2) Encode your labels (y) as integers starting with 0, i.e. 0, 1, 2, ..., [num_class - 1].\n",
      "  warnings.warn(label_encoder_deprecation_msg, UserWarning)\n"
     ]
    },
    {
     "name": "stdout",
     "output_type": "stream",
     "text": [
      "[10:31:11] WARNING: ../src/learner.cc:1095: Starting in XGBoost 1.3.0, the default evaluation metric used with the objective 'binary:logistic' was changed from 'error' to 'logloss'. Explicitly set eval_metric if you'd like to restore the old behavior.\n"
     ]
    },
    {
     "name": "stderr",
     "output_type": "stream",
     "text": [
      "/data/users/dverma01/conda/envs/tf1gcolab/lib/python3.6/site-packages/xgboost/data.py:115: UserWarning: Use subset (sliced data) of np.ndarray is not recommended because it will generate extra copies and increase memory consumption\n",
      "  \"memory consumption\")\n",
      "/data/users/dverma01/conda/envs/tf1gcolab/lib/python3.6/site-packages/xgboost/sklearn.py:1146: UserWarning: The use of label encoder in XGBClassifier is deprecated and will be removed in a future release. To remove this warning, do the following: 1) Pass option use_label_encoder=False when constructing XGBClassifier object; and 2) Encode your labels (y) as integers starting with 0, i.e. 0, 1, 2, ..., [num_class - 1].\n",
      "  warnings.warn(label_encoder_deprecation_msg, UserWarning)\n"
     ]
    },
    {
     "name": "stdout",
     "output_type": "stream",
     "text": [
      "[10:31:12] WARNING: ../src/learner.cc:1095: Starting in XGBoost 1.3.0, the default evaluation metric used with the objective 'binary:logistic' was changed from 'error' to 'logloss'. Explicitly set eval_metric if you'd like to restore the old behavior.\n"
     ]
    },
    {
     "name": "stderr",
     "output_type": "stream",
     "text": [
      "/data/users/dverma01/conda/envs/tf1gcolab/lib/python3.6/site-packages/xgboost/data.py:115: UserWarning: Use subset (sliced data) of np.ndarray is not recommended because it will generate extra copies and increase memory consumption\n",
      "  \"memory consumption\")\n",
      "/data/users/dverma01/conda/envs/tf1gcolab/lib/python3.6/site-packages/xgboost/sklearn.py:1146: UserWarning: The use of label encoder in XGBClassifier is deprecated and will be removed in a future release. To remove this warning, do the following: 1) Pass option use_label_encoder=False when constructing XGBClassifier object; and 2) Encode your labels (y) as integers starting with 0, i.e. 0, 1, 2, ..., [num_class - 1].\n",
      "  warnings.warn(label_encoder_deprecation_msg, UserWarning)\n"
     ]
    },
    {
     "name": "stdout",
     "output_type": "stream",
     "text": [
      "[10:31:12] WARNING: ../src/learner.cc:1095: Starting in XGBoost 1.3.0, the default evaluation metric used with the objective 'binary:logistic' was changed from 'error' to 'logloss'. Explicitly set eval_metric if you'd like to restore the old behavior.\n",
      "score for 10 folds:  [0.84444444 0.97037037 0.82962963 0.82962963 0.88888889 0.96296296\n",
      " 0.99259259 0.9037037  0.8962963  0.81343284]\n"
     ]
    },
    {
     "name": "stderr",
     "output_type": "stream",
     "text": [
      "/data/users/dverma01/conda/envs/tf1gcolab/lib/python3.6/site-packages/xgboost/data.py:115: UserWarning: Use subset (sliced data) of np.ndarray is not recommended because it will generate extra copies and increase memory consumption\n",
      "  \"memory consumption\")\n"
     ]
    }
   ],
   "source": [
    "scores_xg = cross_val_score(xg_model_top, df_top, df_target, cv=10,\n",
    "                         scoring = 'accuracy')\n",
    "print(f'score for {10} folds: ', scores_xg)"
   ]
  },
  {
   "cell_type": "code",
   "execution_count": 116,
   "metadata": {},
   "outputs": [
    {
     "data": {
      "text/plain": [
       "0.8931951354339412"
      ]
     },
     "execution_count": 116,
     "metadata": {},
     "output_type": "execute_result"
    }
   ],
   "source": [
    "scores_xg.mean()"
   ]
  },
  {
   "cell_type": "code",
   "execution_count": 117,
   "metadata": {
    "scrolled": true
   },
   "outputs": [
    {
     "data": {
      "image/png": "[encoded data removed]",
      "text/plain": [
       "<Figure size 720x720 with 1 Axes>"
      ]
     },
     "metadata": {
      "needs_background": "light"
     },
     "output_type": "display_data"
    }
   ],
   "source": [
    "m_xg = xg_model_top\n",
    "cols_xg = X_train_top.columns\n",
    "importances_xg = pd.Series(m_xg.feature_importances_, cols_xg)\n",
    "plt.figure(figsize = (10,10))\n",
    "importances_xg.sort_values().plot.barh(color='blue');"
   ]
  },
  {
   "cell_type": "code",
   "execution_count": 120,
   "metadata": {},
   "outputs": [],
   "source": [
    "svm_model_top = svm.SVC(kernel='linear')"
   ]
  },
  {
   "cell_type": "code",
   "execution_count": 121,
   "metadata": {},
   "outputs": [
    {
     "data": {
      "text/plain": [
       "SVC(kernel='linear')"
      ]
     },
     "execution_count": 121,
     "metadata": {},
     "output_type": "execute_result"
    }
   ],
   "source": [
    "svm_model_top.fit(X_train_top, y_train_top)"
   ]
  },
  {
   "cell_type": "code",
   "execution_count": 122,
   "metadata": {},
   "outputs": [],
   "source": [
    "y_pred_top = svm_model_top.predict(X_test_top)"
   ]
  },
  {
   "cell_type": "code",
   "execution_count": 123,
   "metadata": {},
   "outputs": [
    {
     "name": "stdout",
     "output_type": "stream",
     "text": [
      "0.7555555555555555\n"
     ]
    }
   ],
   "source": [
    "print(accuracy_score(y_test_top,y_pred_top))"
   ]
  },
  {
   "cell_type": "code",
   "execution_count": 124,
   "metadata": {},
   "outputs": [],
   "source": [
    "svm_model_top_rbf = svm.SVC(kernel='rbf', C=30, gamma='auto')"
   ]
  },
  {
   "cell_type": "code",
   "execution_count": 125,
   "metadata": {},
   "outputs": [
    {
     "data": {
      "text/plain": [
       "SVC(C=30, gamma='auto')"
      ]
     },
     "execution_count": 125,
     "metadata": {},
     "output_type": "execute_result"
    }
   ],
   "source": [
    "svm_model_top_rbf.fit(X_train_top, y_train_top)"
   ]
  },
  {
   "cell_type": "code",
   "execution_count": 126,
   "metadata": {},
   "outputs": [],
   "source": [
    "y_pred_top_svm_rbf = svm_model_top_rbf.predict(X_test_top)"
   ]
  },
  {
   "cell_type": "code",
   "execution_count": 127,
   "metadata": {},
   "outputs": [
    {
     "name": "stdout",
     "output_type": "stream",
     "text": [
      "0.9444444444444444\n"
     ]
    }
   ],
   "source": [
    "print(accuracy_score(y_test_top,y_pred_top_svm_rbf))"
   ]
  },
  {
   "cell_type": "code",
   "execution_count": 128,
   "metadata": {},
   "outputs": [
    {
     "name": "stdout",
     "output_type": "stream",
     "text": [
      "score for 5 folds:  [0.87777778 0.88888889 0.98888889 1.         0.98513011]\n"
     ]
    }
   ],
   "source": [
    "scores_svm = cross_val_score(svm_model_top_rbf, df_top, df_target, cv=5,\n",
    "                         scoring = 'accuracy')\n",
    "print(f'score for {5} folds: ', scores_svm)"
   ]
  },
  {
   "cell_type": "code",
   "execution_count": 129,
   "metadata": {},
   "outputs": [
    {
     "data": {
      "text/plain": [
       "0.9481371334159437"
      ]
     },
     "execution_count": 129,
     "metadata": {},
     "output_type": "execute_result"
    }
   ],
   "source": [
    "scores_svm.mean()"
   ]
  },
  {
   "cell_type": "code",
   "execution_count": 130,
   "metadata": {},
   "outputs": [
    {
     "name": "stdout",
     "output_type": "stream",
     "text": [
      "0.7444444444444445\n"
     ]
    }
   ],
   "source": [
    "svm_model_top_pl = svm.SVC(kernel='poly')\n",
    "svm_model_top_pl.fit(X_train_top, y_train_top)\n",
    "y_pred_top_svm_pl = svm_model_top_pl.predict(X_test_top)\n",
    "print(accuracy_score(y_test_top,y_pred_top_svm_pl))"
   ]
  },
  {
   "cell_type": "code",
   "execution_count": 131,
   "metadata": {},
   "outputs": [
    {
     "name": "stdout",
     "output_type": "stream",
     "text": [
      "score for 5 folds:  [0.78518519 0.72962963 0.70740741 0.75185185 0.64684015]\n",
      "0.7241828445545918\n"
     ]
    }
   ],
   "source": [
    "scores_svm_pl = cross_val_score(svm_model_top_pl, df_top, df_target, cv=5,\n",
    "                         scoring = 'accuracy')\n",
    "print(f'score for {5} folds: ', scores_svm_pl)\n",
    "print(scores_svm_pl.mean())"
   ]
  },
  {
   "cell_type": "code",
   "execution_count": 132,
   "metadata": {},
   "outputs": [
    {
     "name": "stdout",
     "output_type": "stream",
     "text": [
      "0.6259259259259259\n"
     ]
    }
   ],
   "source": [
    "svm_model_top_sg = svm.SVC(kernel='sigmoid',C=20, gamma='auto')\n",
    "svm_model_top_sg.fit(X_train_top, y_train_top)\n",
    "y_pred_top_svm_sg = svm_model_top_sg.predict(X_test_top)\n",
    "print(accuracy_score(y_test_top,y_pred_top_svm_sg))"
   ]
  },
  {
   "cell_type": "code",
   "execution_count": 133,
   "metadata": {},
   "outputs": [
    {
     "name": "stdout",
     "output_type": "stream",
     "text": [
      "score for 5 folds:  [0.63703704 0.63703704 0.64074074 0.64074074 0.6394052 ]\n",
      "0.6389921520033044\n"
     ]
    }
   ],
   "source": [
    "scores_svm_sig = cross_val_score(svm_model_top_sg, df_top, df_target, cv=5,\n",
    "                         scoring = 'accuracy')\n",
    "print(f'score for {5} folds: ', scores_svm_sig)\n",
    "print(scores_svm_sig.mean())"
   ]
  },
  {
   "cell_type": "markdown",
   "metadata": {},
   "source": [
    "# Gaussian Naive Bayes"
   ]
  },
  {
   "cell_type": "code",
   "execution_count": 134,
   "metadata": {},
   "outputs": [
    {
     "name": "stdout",
     "output_type": "stream",
     "text": [
      "0.7148148148148148\n"
     ]
    }
   ],
   "source": [
    "gnb = GaussianNB()\n",
    "gnb.fit(X_train_top, y_train_top)\n",
    "y_pred_top_gnb = gnb.predict(X_test_top)\n",
    "print(accuracy_score(y_test_top,y_pred_top_gnb))"
   ]
  },
  {
   "cell_type": "code",
   "execution_count": 135,
   "metadata": {},
   "outputs": [
    {
     "name": "stdout",
     "output_type": "stream",
     "text": [
      "score for 5 folds:  [0.74074074 0.64444444 0.71851852 0.73703704 0.6394052 ]\n",
      "0.6960291890403414\n"
     ]
    }
   ],
   "source": [
    "scores_gnb = cross_val_score(gnb, df_top, df_target, cv=5,\n",
    "                         scoring = 'accuracy')\n",
    "print(f'score for {5} folds: ', scores_gnb)\n",
    "print(scores_gnb.mean())"
   ]
  },
  {
   "cell_type": "code",
   "execution_count": 136,
   "metadata": {},
   "outputs": [
    {
     "name": "stdout",
     "output_type": "stream",
     "text": [
      "0.6259259259259259\n"
     ]
    }
   ],
   "source": [
    "bnb = BernoulliNB()\n",
    "bnb.fit(X_train_top, y_train_top)\n",
    "y_pred_top_bnb = bnb.predict(X_test_top)\n",
    "print(accuracy_score(y_test_top,y_pred_top_bnb))"
   ]
  },
  {
   "cell_type": "code",
   "execution_count": 137,
   "metadata": {},
   "outputs": [
    {
     "name": "stdout",
     "output_type": "stream",
     "text": [
      "score for 5 folds:  [0.63703704 0.63703704 0.64074074 0.64074074 0.6394052 ]\n",
      "0.6389921520033044\n"
     ]
    }
   ],
   "source": [
    "scores_bnb = cross_val_score(bnb, df_top, df_target, cv=5,\n",
    "                         scoring = 'accuracy')\n",
    "print(f'score for {5} folds: ', scores_bnb)\n",
    "print(scores_bnb.mean())"
   ]
  },
  {
   "cell_type": "code",
   "execution_count": 138,
   "metadata": {},
   "outputs": [
    {
     "name": "stdout",
     "output_type": "stream",
     "text": [
      "0.6925925925925925\n"
     ]
    }
   ],
   "source": [
    "mnb = MultinomialNB()\n",
    "mnb.fit(X_train_top, y_train_top)\n",
    "y_pred_top_mnb = mnb.predict(X_test_top)\n",
    "print(accuracy_score(y_test_top,y_pred_top_mnb))"
   ]
  },
  {
   "cell_type": "code",
   "execution_count": 139,
   "metadata": {},
   "outputs": [
    {
     "name": "stdout",
     "output_type": "stream",
     "text": [
      "score for 5 folds:  [0.73703704 0.70740741 0.62592593 0.65925926 0.63197026]\n",
      "0.6723199779705356\n"
     ]
    }
   ],
   "source": [
    "scores_mnb = cross_val_score(mnb, df_top, df_target, cv=5,\n",
    "                         scoring = 'accuracy')\n",
    "print(f'score for {5} folds: ', scores_mnb)\n",
    "print(scores_mnb.mean())"
   ]
  },
  {
   "cell_type": "code",
   "execution_count": 140,
   "metadata": {},
   "outputs": [
    {
     "data": {
      "text/plain": [
       "(1079, 31)"
      ]
     },
     "execution_count": 140,
     "metadata": {},
     "output_type": "execute_result"
    }
   ],
   "source": [
    "X_train_top.shape"
   ]
  },
  {
   "cell_type": "code",
   "execution_count": 141,
   "metadata": {},
   "outputs": [
    {
     "data": {
      "text/plain": [
       "(270, 31)"
      ]
     },
     "execution_count": 141,
     "metadata": {},
     "output_type": "execute_result"
    }
   ],
   "source": [
    "X_test_top.shape"
   ]
  },
  {
   "cell_type": "markdown",
   "metadata": {},
   "source": [
    "# KernelPCA Modeling"
   ]
  },
  {
   "cell_type": "code",
   "execution_count": 142,
   "metadata": {},
   "outputs": [],
   "source": [
    "from sklearn.decomposition import KernelPCA"
   ]
  },
  {
   "cell_type": "code",
   "execution_count": 143,
   "metadata": {},
   "outputs": [
    {
     "data": {
      "text/html": [
       "<div>\n",
       "<style scoped>\n",
       "    .dataframe tbody tr th:only-of-type {\n",
       "        vertical-align: middle;\n",
       "    }\n",
       "\n",
       "    .dataframe tbody tr th {\n",
       "        vertical-align: top;\n",
       "    }\n",
       "\n",
       "    .dataframe thead th {\n",
       "        text-align: right;\n",
       "    }\n",
       "</style>\n",
       "<table border=\"1\" class=\"dataframe\">\n",
       "  <thead>\n",
       "    <tr style=\"text-align: right;\">\n",
       "      <th></th>\n",
       "      <th>names</th>\n",
       "      <th>l3thVen</th>\n",
       "      <th>r3thVen</th>\n",
       "      <th>l4thVen</th>\n",
       "      <th>r4thVen</th>\n",
       "      <th>lAcc</th>\n",
       "      <th>rAcc</th>\n",
       "      <th>lAmy</th>\n",
       "      <th>rAmy</th>\n",
       "      <th>lBst</th>\n",
       "      <th>...</th>\n",
       "      <th>lTemTraGy</th>\n",
       "      <th>rTemTraGy</th>\n",
       "      <th>Classifier</th>\n",
       "      <th>AGE</th>\n",
       "      <th>PTGENDER</th>\n",
       "      <th>Hippocampus.bl</th>\n",
       "      <th>WholeBrain.bl</th>\n",
       "      <th>Entorhinal.bl</th>\n",
       "      <th>Fusiform.bl</th>\n",
       "      <th>MidTemp.bl</th>\n",
       "    </tr>\n",
       "  </thead>\n",
       "  <tbody>\n",
       "    <tr>\n",
       "      <th>0</th>\n",
       "      <td>002_S_5018</td>\n",
       "      <td>0.0375</td>\n",
       "      <td>0.0335</td>\n",
       "      <td>0.0714</td>\n",
       "      <td>0.0686</td>\n",
       "      <td>0.3669</td>\n",
       "      <td>0.3540</td>\n",
       "      <td>0.6013</td>\n",
       "      <td>0.7083</td>\n",
       "      <td>0.2747</td>\n",
       "      <td>...</td>\n",
       "      <td>1.1541</td>\n",
       "      <td>1.0597</td>\n",
       "      <td>AD</td>\n",
       "      <td>73.3</td>\n",
       "      <td>0</td>\n",
       "      <td>7431</td>\n",
       "      <td>1.077908e+06</td>\n",
       "      <td>2910</td>\n",
       "      <td>18214</td>\n",
       "      <td>18684</td>\n",
       "    </tr>\n",
       "    <tr>\n",
       "      <th>1</th>\n",
       "      <td>003_S_4152</td>\n",
       "      <td>0.0384</td>\n",
       "      <td>0.0340</td>\n",
       "      <td>0.0671</td>\n",
       "      <td>0.0672</td>\n",
       "      <td>0.3147</td>\n",
       "      <td>0.3206</td>\n",
       "      <td>0.6352</td>\n",
       "      <td>0.7062</td>\n",
       "      <td>0.5595</td>\n",
       "      <td>...</td>\n",
       "      <td>1.1327</td>\n",
       "      <td>0.9901</td>\n",
       "      <td>AD</td>\n",
       "      <td>60.7</td>\n",
       "      <td>0</td>\n",
       "      <td>6696</td>\n",
       "      <td>1.004905e+06</td>\n",
       "      <td>3120</td>\n",
       "      <td>16872</td>\n",
       "      <td>15846</td>\n",
       "    </tr>\n",
       "    <tr>\n",
       "      <th>2</th>\n",
       "      <td>003_S_4373</td>\n",
       "      <td>0.0196</td>\n",
       "      <td>0.0165</td>\n",
       "      <td>0.0506</td>\n",
       "      <td>0.0587</td>\n",
       "      <td>0.1784</td>\n",
       "      <td>0.1950</td>\n",
       "      <td>0.4251</td>\n",
       "      <td>0.4827</td>\n",
       "      <td>0.4255</td>\n",
       "      <td>...</td>\n",
       "      <td>0.6465</td>\n",
       "      <td>0.5112</td>\n",
       "      <td>AD</td>\n",
       "      <td>71.1</td>\n",
       "      <td>1</td>\n",
       "      <td>5458</td>\n",
       "      <td>7.545074e+05</td>\n",
       "      <td>2136</td>\n",
       "      <td>11897</td>\n",
       "      <td>12577</td>\n",
       "    </tr>\n",
       "    <tr>\n",
       "      <th>3</th>\n",
       "      <td>003_S_4892</td>\n",
       "      <td>0.0230</td>\n",
       "      <td>0.0191</td>\n",
       "      <td>0.0477</td>\n",
       "      <td>0.0597</td>\n",
       "      <td>0.3344</td>\n",
       "      <td>0.3376</td>\n",
       "      <td>0.6638</td>\n",
       "      <td>0.7090</td>\n",
       "      <td>0.8452</td>\n",
       "      <td>...</td>\n",
       "      <td>1.1333</td>\n",
       "      <td>0.8846</td>\n",
       "      <td>AD</td>\n",
       "      <td>75.1</td>\n",
       "      <td>1</td>\n",
       "      <td>6726</td>\n",
       "      <td>9.486256e+05</td>\n",
       "      <td>3128</td>\n",
       "      <td>15315</td>\n",
       "      <td>17518</td>\n",
       "    </tr>\n",
       "    <tr>\n",
       "      <th>4</th>\n",
       "      <td>003_S_5165</td>\n",
       "      <td>0.0303</td>\n",
       "      <td>0.0161</td>\n",
       "      <td>0.0333</td>\n",
       "      <td>0.0511</td>\n",
       "      <td>0.2932</td>\n",
       "      <td>0.3143</td>\n",
       "      <td>0.7388</td>\n",
       "      <td>0.6866</td>\n",
       "      <td>0.9777</td>\n",
       "      <td>...</td>\n",
       "      <td>1.2027</td>\n",
       "      <td>0.7114</td>\n",
       "      <td>AD</td>\n",
       "      <td>78.8</td>\n",
       "      <td>0</td>\n",
       "      <td>6269</td>\n",
       "      <td>1.107883e+06</td>\n",
       "      <td>3739</td>\n",
       "      <td>17495</td>\n",
       "      <td>19446</td>\n",
       "    </tr>\n",
       "  </tbody>\n",
       "</table>\n",
       "<p>5 rows × 151 columns</p>\n",
       "</div>"
      ],
      "text/plain": [
       "        names  l3thVen  r3thVen  l4thVen  r4thVen    lAcc    rAcc    lAmy  \\\n",
       "0  002_S_5018   0.0375   0.0335   0.0714   0.0686  0.3669  0.3540  0.6013   \n",
       "1  003_S_4152   0.0384   0.0340   0.0671   0.0672  0.3147  0.3206  0.6352   \n",
       "2  003_S_4373   0.0196   0.0165   0.0506   0.0587  0.1784  0.1950  0.4251   \n",
       "3  003_S_4892   0.0230   0.0191   0.0477   0.0597  0.3344  0.3376  0.6638   \n",
       "4  003_S_5165   0.0303   0.0161   0.0333   0.0511  0.2932  0.3143  0.7388   \n",
       "\n",
       "     rAmy    lBst  ...  lTemTraGy  rTemTraGy  Classifier   AGE  PTGENDER  \\\n",
       "0  0.7083  0.2747  ...     1.1541     1.0597          AD  73.3         0   \n",
       "1  0.7062  0.5595  ...     1.1327     0.9901          AD  60.7         0   \n",
       "2  0.4827  0.4255  ...     0.6465     0.5112          AD  71.1         1   \n",
       "3  0.7090  0.8452  ...     1.1333     0.8846          AD  75.1         1   \n",
       "4  0.6866  0.9777  ...     1.2027     0.7114          AD  78.8         0   \n",
       "\n",
       "   Hippocampus.bl  WholeBrain.bl  Entorhinal.bl  Fusiform.bl  MidTemp.bl  \n",
       "0            7431   1.077908e+06           2910        18214       18684  \n",
       "1            6696   1.004905e+06           3120        16872       15846  \n",
       "2            5458   7.545074e+05           2136        11897       12577  \n",
       "3            6726   9.486256e+05           3128        15315       17518  \n",
       "4            6269   1.107883e+06           3739        17495       19446  \n",
       "\n",
       "[5 rows x 151 columns]"
      ]
     },
     "execution_count": 143,
     "metadata": {},
     "output_type": "execute_result"
    }
   ],
   "source": [
    "df.head()"
   ]
  },
  {
   "cell_type": "code",
   "execution_count": 144,
   "metadata": {},
   "outputs": [],
   "source": [
    "df_f_PCA = df.drop(columns=['names', 'Classifier'], axis=1)"
   ]
  },
  {
   "cell_type": "code",
   "execution_count": 145,
   "metadata": {},
   "outputs": [
    {
     "data": {
      "text/html": [
       "<div>\n",
       "<style scoped>\n",
       "    .dataframe tbody tr th:only-of-type {\n",
       "        vertical-align: middle;\n",
       "    }\n",
       "\n",
       "    .dataframe tbody tr th {\n",
       "        vertical-align: top;\n",
       "    }\n",
       "\n",
       "    .dataframe thead th {\n",
       "        text-align: right;\n",
       "    }\n",
       "</style>\n",
       "<table border=\"1\" class=\"dataframe\">\n",
       "  <thead>\n",
       "    <tr style=\"text-align: right;\">\n",
       "      <th></th>\n",
       "      <th>l3thVen</th>\n",
       "      <th>r3thVen</th>\n",
       "      <th>l4thVen</th>\n",
       "      <th>r4thVen</th>\n",
       "      <th>lAcc</th>\n",
       "      <th>rAcc</th>\n",
       "      <th>lAmy</th>\n",
       "      <th>rAmy</th>\n",
       "      <th>lBst</th>\n",
       "      <th>rBst</th>\n",
       "      <th>...</th>\n",
       "      <th>rInfFroAngGy</th>\n",
       "      <th>lTemTraGy</th>\n",
       "      <th>rTemTraGy</th>\n",
       "      <th>AGE</th>\n",
       "      <th>PTGENDER</th>\n",
       "      <th>Hippocampus.bl</th>\n",
       "      <th>WholeBrain.bl</th>\n",
       "      <th>Entorhinal.bl</th>\n",
       "      <th>Fusiform.bl</th>\n",
       "      <th>MidTemp.bl</th>\n",
       "    </tr>\n",
       "  </thead>\n",
       "  <tbody>\n",
       "    <tr>\n",
       "      <th>0</th>\n",
       "      <td>0.0375</td>\n",
       "      <td>0.0335</td>\n",
       "      <td>0.0714</td>\n",
       "      <td>0.0686</td>\n",
       "      <td>0.3669</td>\n",
       "      <td>0.3540</td>\n",
       "      <td>0.6013</td>\n",
       "      <td>0.7083</td>\n",
       "      <td>0.2747</td>\n",
       "      <td>0.5086</td>\n",
       "      <td>...</td>\n",
       "      <td>3.2430</td>\n",
       "      <td>1.1541</td>\n",
       "      <td>1.0597</td>\n",
       "      <td>73.3</td>\n",
       "      <td>0</td>\n",
       "      <td>7431</td>\n",
       "      <td>1.077908e+06</td>\n",
       "      <td>2910</td>\n",
       "      <td>18214</td>\n",
       "      <td>18684</td>\n",
       "    </tr>\n",
       "    <tr>\n",
       "      <th>1</th>\n",
       "      <td>0.0384</td>\n",
       "      <td>0.0340</td>\n",
       "      <td>0.0671</td>\n",
       "      <td>0.0672</td>\n",
       "      <td>0.3147</td>\n",
       "      <td>0.3206</td>\n",
       "      <td>0.6352</td>\n",
       "      <td>0.7062</td>\n",
       "      <td>0.5595</td>\n",
       "      <td>0.7528</td>\n",
       "      <td>...</td>\n",
       "      <td>2.5610</td>\n",
       "      <td>1.1327</td>\n",
       "      <td>0.9901</td>\n",
       "      <td>60.7</td>\n",
       "      <td>0</td>\n",
       "      <td>6696</td>\n",
       "      <td>1.004905e+06</td>\n",
       "      <td>3120</td>\n",
       "      <td>16872</td>\n",
       "      <td>15846</td>\n",
       "    </tr>\n",
       "    <tr>\n",
       "      <th>2</th>\n",
       "      <td>0.0196</td>\n",
       "      <td>0.0165</td>\n",
       "      <td>0.0506</td>\n",
       "      <td>0.0587</td>\n",
       "      <td>0.1784</td>\n",
       "      <td>0.1950</td>\n",
       "      <td>0.4251</td>\n",
       "      <td>0.4827</td>\n",
       "      <td>0.4255</td>\n",
       "      <td>0.5845</td>\n",
       "      <td>...</td>\n",
       "      <td>2.1805</td>\n",
       "      <td>0.6465</td>\n",
       "      <td>0.5112</td>\n",
       "      <td>71.1</td>\n",
       "      <td>1</td>\n",
       "      <td>5458</td>\n",
       "      <td>7.545074e+05</td>\n",
       "      <td>2136</td>\n",
       "      <td>11897</td>\n",
       "      <td>12577</td>\n",
       "    </tr>\n",
       "    <tr>\n",
       "      <th>3</th>\n",
       "      <td>0.0230</td>\n",
       "      <td>0.0191</td>\n",
       "      <td>0.0477</td>\n",
       "      <td>0.0597</td>\n",
       "      <td>0.3344</td>\n",
       "      <td>0.3376</td>\n",
       "      <td>0.6638</td>\n",
       "      <td>0.7090</td>\n",
       "      <td>0.8452</td>\n",
       "      <td>0.8907</td>\n",
       "      <td>...</td>\n",
       "      <td>2.6854</td>\n",
       "      <td>1.1333</td>\n",
       "      <td>0.8846</td>\n",
       "      <td>75.1</td>\n",
       "      <td>1</td>\n",
       "      <td>6726</td>\n",
       "      <td>9.486256e+05</td>\n",
       "      <td>3128</td>\n",
       "      <td>15315</td>\n",
       "      <td>17518</td>\n",
       "    </tr>\n",
       "    <tr>\n",
       "      <th>4</th>\n",
       "      <td>0.0303</td>\n",
       "      <td>0.0161</td>\n",
       "      <td>0.0333</td>\n",
       "      <td>0.0511</td>\n",
       "      <td>0.2932</td>\n",
       "      <td>0.3143</td>\n",
       "      <td>0.7388</td>\n",
       "      <td>0.6866</td>\n",
       "      <td>0.9777</td>\n",
       "      <td>1.2133</td>\n",
       "      <td>...</td>\n",
       "      <td>3.5601</td>\n",
       "      <td>1.2027</td>\n",
       "      <td>0.7114</td>\n",
       "      <td>78.8</td>\n",
       "      <td>0</td>\n",
       "      <td>6269</td>\n",
       "      <td>1.107883e+06</td>\n",
       "      <td>3739</td>\n",
       "      <td>17495</td>\n",
       "      <td>19446</td>\n",
       "    </tr>\n",
       "  </tbody>\n",
       "</table>\n",
       "<p>5 rows × 149 columns</p>\n",
       "</div>"
      ],
      "text/plain": [
       "   l3thVen  r3thVen  l4thVen  r4thVen    lAcc    rAcc    lAmy    rAmy    lBst  \\\n",
       "0   0.0375   0.0335   0.0714   0.0686  0.3669  0.3540  0.6013  0.7083  0.2747   \n",
       "1   0.0384   0.0340   0.0671   0.0672  0.3147  0.3206  0.6352  0.7062  0.5595   \n",
       "2   0.0196   0.0165   0.0506   0.0587  0.1784  0.1950  0.4251  0.4827  0.4255   \n",
       "3   0.0230   0.0191   0.0477   0.0597  0.3344  0.3376  0.6638  0.7090  0.8452   \n",
       "4   0.0303   0.0161   0.0333   0.0511  0.2932  0.3143  0.7388  0.6866  0.9777   \n",
       "\n",
       "     rBst  ...  rInfFroAngGy  lTemTraGy  rTemTraGy   AGE  PTGENDER  \\\n",
       "0  0.5086  ...        3.2430     1.1541     1.0597  73.3         0   \n",
       "1  0.7528  ...        2.5610     1.1327     0.9901  60.7         0   \n",
       "2  0.5845  ...        2.1805     0.6465     0.5112  71.1         1   \n",
       "3  0.8907  ...        2.6854     1.1333     0.8846  75.1         1   \n",
       "4  1.2133  ...        3.5601     1.2027     0.7114  78.8         0   \n",
       "\n",
       "   Hippocampus.bl  WholeBrain.bl  Entorhinal.bl  Fusiform.bl  MidTemp.bl  \n",
       "0            7431   1.077908e+06           2910        18214       18684  \n",
       "1            6696   1.004905e+06           3120        16872       15846  \n",
       "2            5458   7.545074e+05           2136        11897       12577  \n",
       "3            6726   9.486256e+05           3128        15315       17518  \n",
       "4            6269   1.107883e+06           3739        17495       19446  \n",
       "\n",
       "[5 rows x 149 columns]"
      ]
     },
     "execution_count": 145,
     "metadata": {},
     "output_type": "execute_result"
    }
   ],
   "source": [
    "df_f_PCA.head()"
   ]
  },
  {
   "cell_type": "code",
   "execution_count": 146,
   "metadata": {},
   "outputs": [],
   "source": [
    "df_t_PCA = df[target]"
   ]
  },
  {
   "cell_type": "code",
   "execution_count": 147,
   "metadata": {},
   "outputs": [],
   "source": [
    "kpca = KernelPCA(n_components = 10, kernel='linear')\n",
    "X_train = kpca.fit_transform(df_f_PCA)"
   ]
  },
  {
   "cell_type": "code",
   "execution_count": 148,
   "metadata": {},
   "outputs": [],
   "source": [
    "df_train = kpca.transform(df_f_PCA)"
   ]
  },
  {
   "cell_type": "code",
   "execution_count": 149,
   "metadata": {},
   "outputs": [
    {
     "name": "stdout",
     "output_type": "stream",
     "text": [
      "score for 5 folds: [0.95185185 0.87037037 0.97037037 0.98148148 0.91078067]\n",
      "RF_PCA_mean 0.9369709486438111\n",
      "RF_PCA_std 0.041084590668601026\n"
     ]
    }
   ],
   "source": [
    "rf_model_pca = RandomForestClassifier(n_estimators=250, random_state=4)\n",
    "scores_rf_pca = cross_val_score(rf_model_pca, df_train, df_t_PCA, cv=5, scoring = 'accuracy')\n",
    "#scores_rf_proc = cross_val_score(rf_model_pca, df_train, df_t_PCA, cv=5, scoring = 'roc_auc')\n",
    "print(f'score for {5} folds:', scores_rf_pca)\n",
    "print('RF_PCA_mean',scores_rf_pca.mean())\n",
    "print('RF_PCA_std',scores_rf_pca.std())\n",
    "#print('RF_PCA_roc_mean',scores_rf_proc.mean())\n",
    "#print('RF_PCA_roc_std',scores_rf_proc.std())"
   ]
  },
  {
   "cell_type": "code",
   "execution_count": 150,
   "metadata": {},
   "outputs": [
    {
     "name": "stderr",
     "output_type": "stream",
     "text": [
      "/data/users/dverma01/conda/envs/tf1gcolab/lib/python3.6/site-packages/xgboost/sklearn.py:1146: UserWarning: The use of label encoder in XGBClassifier is deprecated and will be removed in a future release. To remove this warning, do the following: 1) Pass option use_label_encoder=False when constructing XGBClassifier object; and 2) Encode your labels (y) as integers starting with 0, i.e. 0, 1, 2, ..., [num_class - 1].\n",
      "  warnings.warn(label_encoder_deprecation_msg, UserWarning)\n"
     ]
    },
    {
     "name": "stdout",
     "output_type": "stream",
     "text": [
      "[10:34:13] WARNING: ../src/learner.cc:1095: Starting in XGBoost 1.3.0, the default evaluation metric used with the objective 'binary:logistic' was changed from 'error' to 'logloss'. Explicitly set eval_metric if you'd like to restore the old behavior.\n"
     ]
    },
    {
     "name": "stderr",
     "output_type": "stream",
     "text": [
      "/data/users/dverma01/conda/envs/tf1gcolab/lib/python3.6/site-packages/xgboost/sklearn.py:1146: UserWarning: The use of label encoder in XGBClassifier is deprecated and will be removed in a future release. To remove this warning, do the following: 1) Pass option use_label_encoder=False when constructing XGBClassifier object; and 2) Encode your labels (y) as integers starting with 0, i.e. 0, 1, 2, ..., [num_class - 1].\n",
      "  warnings.warn(label_encoder_deprecation_msg, UserWarning)\n"
     ]
    },
    {
     "name": "stdout",
     "output_type": "stream",
     "text": [
      "[10:34:13] WARNING: ../src/learner.cc:1095: Starting in XGBoost 1.3.0, the default evaluation metric used with the objective 'binary:logistic' was changed from 'error' to 'logloss'. Explicitly set eval_metric if you'd like to restore the old behavior.\n"
     ]
    },
    {
     "name": "stderr",
     "output_type": "stream",
     "text": [
      "/data/users/dverma01/conda/envs/tf1gcolab/lib/python3.6/site-packages/xgboost/sklearn.py:1146: UserWarning: The use of label encoder in XGBClassifier is deprecated and will be removed in a future release. To remove this warning, do the following: 1) Pass option use_label_encoder=False when constructing XGBClassifier object; and 2) Encode your labels (y) as integers starting with 0, i.e. 0, 1, 2, ..., [num_class - 1].\n",
      "  warnings.warn(label_encoder_deprecation_msg, UserWarning)\n"
     ]
    },
    {
     "name": "stdout",
     "output_type": "stream",
     "text": [
      "[10:34:13] WARNING: ../src/learner.cc:1095: Starting in XGBoost 1.3.0, the default evaluation metric used with the objective 'binary:logistic' was changed from 'error' to 'logloss'. Explicitly set eval_metric if you'd like to restore the old behavior.\n"
     ]
    },
    {
     "name": "stderr",
     "output_type": "stream",
     "text": [
      "/data/users/dverma01/conda/envs/tf1gcolab/lib/python3.6/site-packages/xgboost/sklearn.py:1146: UserWarning: The use of label encoder in XGBClassifier is deprecated and will be removed in a future release. To remove this warning, do the following: 1) Pass option use_label_encoder=False when constructing XGBClassifier object; and 2) Encode your labels (y) as integers starting with 0, i.e. 0, 1, 2, ..., [num_class - 1].\n",
      "  warnings.warn(label_encoder_deprecation_msg, UserWarning)\n"
     ]
    },
    {
     "name": "stdout",
     "output_type": "stream",
     "text": [
      "[10:34:13] WARNING: ../src/learner.cc:1095: Starting in XGBoost 1.3.0, the default evaluation metric used with the objective 'binary:logistic' was changed from 'error' to 'logloss'. Explicitly set eval_metric if you'd like to restore the old behavior.\n"
     ]
    },
    {
     "name": "stderr",
     "output_type": "stream",
     "text": [
      "/data/users/dverma01/conda/envs/tf1gcolab/lib/python3.6/site-packages/xgboost/sklearn.py:1146: UserWarning: The use of label encoder in XGBClassifier is deprecated and will be removed in a future release. To remove this warning, do the following: 1) Pass option use_label_encoder=False when constructing XGBClassifier object; and 2) Encode your labels (y) as integers starting with 0, i.e. 0, 1, 2, ..., [num_class - 1].\n",
      "  warnings.warn(label_encoder_deprecation_msg, UserWarning)\n"
     ]
    },
    {
     "name": "stdout",
     "output_type": "stream",
     "text": [
      "[10:34:14] WARNING: ../src/learner.cc:1095: Starting in XGBoost 1.3.0, the default evaluation metric used with the objective 'binary:logistic' was changed from 'error' to 'logloss'. Explicitly set eval_metric if you'd like to restore the old behavior.\n",
      "score for 5 folds: [0.94814815 0.86666667 0.96666667 0.97407407 0.90334572]\n",
      "xg_PCA_mean 0.9317802560925237\n",
      "xg_PCA_std 0.04079715348944033\n"
     ]
    }
   ],
   "source": [
    "xg_model_pca = XGBClassifier(n_estimators=200, random_state=4, learning_rate=0.5)\n",
    "scores_xg_pca = cross_val_score(xg_model_pca, df_train, df_t_PCA, cv=5, scoring = 'accuracy')\n",
    "#scores_xg_proc = cross_val_score(xg_model_pca, df_train, df_t_PCA, cv=5, scoring = 'roc_auc')\n",
    "print(f'score for {5} folds:', scores_xg_pca)\n",
    "print('xg_PCA_mean',scores_xg_pca.mean())\n",
    "print('xg_PCA_std',scores_xg_pca.std())\n",
    "#print('xg_PCA_roc_mean',scores_xg_proc.mean())\n",
    "#print('xg_PCA_roc_std',scores_xg_proc.std())"
   ]
  },
  {
   "cell_type": "code",
   "execution_count": 151,
   "metadata": {},
   "outputs": [
    {
     "name": "stdout",
     "output_type": "stream",
     "text": [
      "score for 5 folds: [0.84444444 0.85185185 0.96296296 0.97777778 0.97769517]\n",
      "svm_PCA_mean 0.9229464408646564\n",
      "svm_PCA_std 0.06135507252406932\n"
     ]
    }
   ],
   "source": [
    "svm_rbfmodel_pca = svm.SVC(kernel='rbf', C=30, gamma='auto')\n",
    "scores_svm_pca = cross_val_score(svm_rbfmodel_pca, df_train, df_t_PCA, cv=5, scoring = 'accuracy')\n",
    "#scores_svm_proc = cross_val_score(svm_rbfmodel_pca, df_train, df_t_PCA, cv=5, scoring = 'roc_auc')\n",
    "print(f'score for {5} folds:', scores_svm_pca)\n",
    "print('svm_PCA_mean',scores_svm_pca.mean())\n",
    "print('svm_PCA_std',scores_svm_pca.std())\n",
    "#print('svm_PCA_roc_mean',scores_svm_proc.mean())\n",
    "#print('svm_PCA_roc_std',scores_svm_proc.std())"
   ]
  },
  {
   "cell_type": "code",
   "execution_count": 152,
   "metadata": {},
   "outputs": [
    {
     "name": "stdout",
     "output_type": "stream",
     "text": [
      "score for 5 folds: [0.94074074 0.87037037 0.95555556 0.96666667 0.91078067]\n",
      "GDB_Model_mean 0.9288228004956629\n",
      "GDB_Model_std 0.03473050760001575\n"
     ]
    }
   ],
   "source": [
    "gdb_model_pca = GradientBoostingClassifier(n_estimators=200, learning_rate = 0.8, random_state=1)\n",
    "scores_gdb_pca = cross_val_score(gdb_model_pca, df_train, df_t_PCA, cv=5, scoring = 'accuracy')\n",
    "#scores_gdb_proc = cross_val_score(gdb_model_pca, df_train, df_t_PCA, cv=5, scoring = 'roc_auc')\n",
    "print(f'score for {5} folds:', scores_gdb_pca)\n",
    "print('GDB_Model_mean', mean(scores_gdb_pca))\n",
    "print('GDB_Model_std', std(scores_gdb_pca))\n",
    "#print('GDB_roc_mean',scores_gdb_proc.mean())\n",
    "#print('GDB_roc_std',scores_gdb_proc.std())"
   ]
  },
  {
   "cell_type": "code",
   "execution_count": 153,
   "metadata": {},
   "outputs": [
    {
     "name": "stdout",
     "output_type": "stream",
     "text": [
      "score for 5 folds: [0.94444444 0.85925926 0.96666667 0.97407407 0.90334572]\n",
      "Ada_Model_mean 0.9295580338703016\n",
      "Ada_Model_std 0.042916981571913225\n"
     ]
    }
   ],
   "source": [
    "clf_pca = DecisionTreeClassifier(criterion='entropy', max_depth=4)\n",
    "ada_model_pca = AdaBoostClassifier(base_estimator = clf_pca, n_estimators=200, learning_rate=0.8)\n",
    "scores_ada_pca = cross_val_score(ada_model_pca, df_train, df_t_PCA, cv=5, scoring = 'accuracy')\n",
    "#scores_ada_proc = cross_val_score(ada_model_pca, df_train, df_t_PCA, cv=5, scoring = 'roc_auc')\n",
    "print(f'score for {5} folds:', scores_ada_pca)\n",
    "print('Ada_Model_mean', mean(scores_ada_pca))\n",
    "print('Ada_Model_std',std(scores_ada_pca))\n",
    "#print('Ada_roc_mean',scores_ada_proc.mean())\n",
    "#print('Ada_roc_std',scores_ada_proc.std())"
   ]
  },
  {
   "cell_type": "markdown",
   "metadata": {},
   "source": [
    "# Stacking"
   ]
  },
  {
   "cell_type": "code",
   "execution_count": 154,
   "metadata": {},
   "outputs": [],
   "source": [
    "from sklearn.ensemble import StackingClassifier"
   ]
  },
  {
   "cell_type": "code",
   "execution_count": 155,
   "metadata": {},
   "outputs": [],
   "source": [
    "level0 = list()\n",
    "level0.append(('rf_model', RandomForestClassifier(n_estimators=250,random_state=10)))\n",
    "level0.append(('rf_model_en', RandomForestClassifier(n_estimators=250,random_state=10, criterion='entropy')))\n",
    "level0.append(('svm_model', svm.SVC(kernel='rbf', C=30, gamma='auto')))\n",
    "#level0.append(('GNB_model', GaussianNB()))\n",
    "level0.append(('Ada_model', AdaBoostClassifier(n_estimators=250,learning_rate=0.5,random_state=42)))\n",
    "level1 = XGBClassifier(n_estimators=200, learning_rate=0.5)\n",
    "model_stack = StackingClassifier(estimators=level0, final_estimator=level1)"
   ]
  },
  {
   "cell_type": "code",
   "execution_count": 156,
   "metadata": {},
   "outputs": [],
   "source": [
    "level0 = list()\n",
    "level0.append(('rf_model', RandomForestClassifier(n_estimators=250,random_state=10)))\n",
    "level0.append(('rf_model_en', RandomForestClassifier(n_estimators=250,random_state=10, criterion='entropy')))\n",
    "level0.append(('xg_model', XGBClassifier(n_estimators=200, learning_rate=0.5)))\n",
    "#level0.append(('GNB_model', GaussianNB()))\n",
    "level0.append(('svm_model', svm.SVC(kernel='rbf', C=30, gamma='auto')))\n",
    "level1 = AdaBoostClassifier(n_estimators=250,learning_rate=0.5,random_state=42)\n",
    "model2_stack = StackingClassifier(estimators=level0, final_estimator=level1)"
   ]
  },
  {
   "cell_type": "code",
   "execution_count": 157,
   "metadata": {},
   "outputs": [
    {
     "name": "stderr",
     "output_type": "stream",
     "text": [
      "/data/users/dverma01/conda/envs/tf1gcolab/lib/python3.6/site-packages/xgboost/sklearn.py:1146: UserWarning: The use of label encoder in XGBClassifier is deprecated and will be removed in a future release. To remove this warning, do the following: 1) Pass option use_label_encoder=False when constructing XGBClassifier object; and 2) Encode your labels (y) as integers starting with 0, i.e. 0, 1, 2, ..., [num_class - 1].\n",
      "  warnings.warn(label_encoder_deprecation_msg, UserWarning)\n"
     ]
    },
    {
     "name": "stdout",
     "output_type": "stream",
     "text": [
      "[10:34:53] WARNING: ../src/learner.cc:1095: Starting in XGBoost 1.3.0, the default evaluation metric used with the objective 'binary:logistic' was changed from 'error' to 'logloss'. Explicitly set eval_metric if you'd like to restore the old behavior.\n"
     ]
    },
    {
     "name": "stderr",
     "output_type": "stream",
     "text": [
      "/data/users/dverma01/conda/envs/tf1gcolab/lib/python3.6/site-packages/xgboost/sklearn.py:1146: UserWarning: The use of label encoder in XGBClassifier is deprecated and will be removed in a future release. To remove this warning, do the following: 1) Pass option use_label_encoder=False when constructing XGBClassifier object; and 2) Encode your labels (y) as integers starting with 0, i.e. 0, 1, 2, ..., [num_class - 1].\n",
      "  warnings.warn(label_encoder_deprecation_msg, UserWarning)\n"
     ]
    },
    {
     "name": "stdout",
     "output_type": "stream",
     "text": [
      "[10:35:04] WARNING: ../src/learner.cc:1095: Starting in XGBoost 1.3.0, the default evaluation metric used with the objective 'binary:logistic' was changed from 'error' to 'logloss'. Explicitly set eval_metric if you'd like to restore the old behavior.\n"
     ]
    },
    {
     "name": "stderr",
     "output_type": "stream",
     "text": [
      "/data/users/dverma01/conda/envs/tf1gcolab/lib/python3.6/site-packages/xgboost/sklearn.py:1146: UserWarning: The use of label encoder in XGBClassifier is deprecated and will be removed in a future release. To remove this warning, do the following: 1) Pass option use_label_encoder=False when constructing XGBClassifier object; and 2) Encode your labels (y) as integers starting with 0, i.e. 0, 1, 2, ..., [num_class - 1].\n",
      "  warnings.warn(label_encoder_deprecation_msg, UserWarning)\n"
     ]
    },
    {
     "name": "stdout",
     "output_type": "stream",
     "text": [
      "[10:35:04] WARNING: ../src/learner.cc:1095: Starting in XGBoost 1.3.0, the default evaluation metric used with the objective 'binary:logistic' was changed from 'error' to 'logloss'. Explicitly set eval_metric if you'd like to restore the old behavior.\n"
     ]
    },
    {
     "name": "stderr",
     "output_type": "stream",
     "text": [
      "/data/users/dverma01/conda/envs/tf1gcolab/lib/python3.6/site-packages/xgboost/sklearn.py:1146: UserWarning: The use of label encoder in XGBClassifier is deprecated and will be removed in a future release. To remove this warning, do the following: 1) Pass option use_label_encoder=False when constructing XGBClassifier object; and 2) Encode your labels (y) as integers starting with 0, i.e. 0, 1, 2, ..., [num_class - 1].\n",
      "  warnings.warn(label_encoder_deprecation_msg, UserWarning)\n"
     ]
    },
    {
     "name": "stdout",
     "output_type": "stream",
     "text": [
      "[10:35:05] WARNING: ../src/learner.cc:1095: Starting in XGBoost 1.3.0, the default evaluation metric used with the objective 'binary:logistic' was changed from 'error' to 'logloss'. Explicitly set eval_metric if you'd like to restore the old behavior.\n"
     ]
    },
    {
     "name": "stderr",
     "output_type": "stream",
     "text": [
      "/data/users/dverma01/conda/envs/tf1gcolab/lib/python3.6/site-packages/xgboost/sklearn.py:1146: UserWarning: The use of label encoder in XGBClassifier is deprecated and will be removed in a future release. To remove this warning, do the following: 1) Pass option use_label_encoder=False when constructing XGBClassifier object; and 2) Encode your labels (y) as integers starting with 0, i.e. 0, 1, 2, ..., [num_class - 1].\n",
      "  warnings.warn(label_encoder_deprecation_msg, UserWarning)\n"
     ]
    },
    {
     "name": "stdout",
     "output_type": "stream",
     "text": [
      "[10:35:06] WARNING: ../src/learner.cc:1095: Starting in XGBoost 1.3.0, the default evaluation metric used with the objective 'binary:logistic' was changed from 'error' to 'logloss'. Explicitly set eval_metric if you'd like to restore the old behavior.\n"
     ]
    },
    {
     "name": "stderr",
     "output_type": "stream",
     "text": [
      "/data/users/dverma01/conda/envs/tf1gcolab/lib/python3.6/site-packages/xgboost/sklearn.py:1146: UserWarning: The use of label encoder in XGBClassifier is deprecated and will be removed in a future release. To remove this warning, do the following: 1) Pass option use_label_encoder=False when constructing XGBClassifier object; and 2) Encode your labels (y) as integers starting with 0, i.e. 0, 1, 2, ..., [num_class - 1].\n",
      "  warnings.warn(label_encoder_deprecation_msg, UserWarning)\n"
     ]
    },
    {
     "name": "stdout",
     "output_type": "stream",
     "text": [
      "[10:35:06] WARNING: ../src/learner.cc:1095: Starting in XGBoost 1.3.0, the default evaluation metric used with the objective 'binary:logistic' was changed from 'error' to 'logloss'. Explicitly set eval_metric if you'd like to restore the old behavior.\n"
     ]
    },
    {
     "name": "stderr",
     "output_type": "stream",
     "text": [
      "/data/users/dverma01/conda/envs/tf1gcolab/lib/python3.6/site-packages/xgboost/sklearn.py:1146: UserWarning: The use of label encoder in XGBClassifier is deprecated and will be removed in a future release. To remove this warning, do the following: 1) Pass option use_label_encoder=False when constructing XGBClassifier object; and 2) Encode your labels (y) as integers starting with 0, i.e. 0, 1, 2, ..., [num_class - 1].\n",
      "  warnings.warn(label_encoder_deprecation_msg, UserWarning)\n"
     ]
    },
    {
     "name": "stdout",
     "output_type": "stream",
     "text": [
      "[10:35:10] WARNING: ../src/learner.cc:1095: Starting in XGBoost 1.3.0, the default evaluation metric used with the objective 'binary:logistic' was changed from 'error' to 'logloss'. Explicitly set eval_metric if you'd like to restore the old behavior.\n"
     ]
    },
    {
     "name": "stderr",
     "output_type": "stream",
     "text": [
      "/data/users/dverma01/conda/envs/tf1gcolab/lib/python3.6/site-packages/xgboost/sklearn.py:1146: UserWarning: The use of label encoder in XGBClassifier is deprecated and will be removed in a future release. To remove this warning, do the following: 1) Pass option use_label_encoder=False when constructing XGBClassifier object; and 2) Encode your labels (y) as integers starting with 0, i.e. 0, 1, 2, ..., [num_class - 1].\n",
      "  warnings.warn(label_encoder_deprecation_msg, UserWarning)\n"
     ]
    },
    {
     "name": "stdout",
     "output_type": "stream",
     "text": [
      "[10:35:20] WARNING: ../src/learner.cc:1095: Starting in XGBoost 1.3.0, the default evaluation metric used with the objective 'binary:logistic' was changed from 'error' to 'logloss'. Explicitly set eval_metric if you'd like to restore the old behavior.\n"
     ]
    },
    {
     "name": "stderr",
     "output_type": "stream",
     "text": [
      "/data/users/dverma01/conda/envs/tf1gcolab/lib/python3.6/site-packages/xgboost/sklearn.py:1146: UserWarning: The use of label encoder in XGBClassifier is deprecated and will be removed in a future release. To remove this warning, do the following: 1) Pass option use_label_encoder=False when constructing XGBClassifier object; and 2) Encode your labels (y) as integers starting with 0, i.e. 0, 1, 2, ..., [num_class - 1].\n",
      "  warnings.warn(label_encoder_deprecation_msg, UserWarning)\n"
     ]
    },
    {
     "name": "stdout",
     "output_type": "stream",
     "text": [
      "[10:35:21] WARNING: ../src/learner.cc:1095: Starting in XGBoost 1.3.0, the default evaluation metric used with the objective 'binary:logistic' was changed from 'error' to 'logloss'. Explicitly set eval_metric if you'd like to restore the old behavior.\n"
     ]
    },
    {
     "name": "stderr",
     "output_type": "stream",
     "text": [
      "/data/users/dverma01/conda/envs/tf1gcolab/lib/python3.6/site-packages/xgboost/sklearn.py:1146: UserWarning: The use of label encoder in XGBClassifier is deprecated and will be removed in a future release. To remove this warning, do the following: 1) Pass option use_label_encoder=False when constructing XGBClassifier object; and 2) Encode your labels (y) as integers starting with 0, i.e. 0, 1, 2, ..., [num_class - 1].\n",
      "  warnings.warn(label_encoder_deprecation_msg, UserWarning)\n"
     ]
    },
    {
     "name": "stdout",
     "output_type": "stream",
     "text": [
      "[10:35:21] WARNING: ../src/learner.cc:1095: Starting in XGBoost 1.3.0, the default evaluation metric used with the objective 'binary:logistic' was changed from 'error' to 'logloss'. Explicitly set eval_metric if you'd like to restore the old behavior.\n"
     ]
    },
    {
     "name": "stderr",
     "output_type": "stream",
     "text": [
      "/data/users/dverma01/conda/envs/tf1gcolab/lib/python3.6/site-packages/xgboost/sklearn.py:1146: UserWarning: The use of label encoder in XGBClassifier is deprecated and will be removed in a future release. To remove this warning, do the following: 1) Pass option use_label_encoder=False when constructing XGBClassifier object; and 2) Encode your labels (y) as integers starting with 0, i.e. 0, 1, 2, ..., [num_class - 1].\n",
      "  warnings.warn(label_encoder_deprecation_msg, UserWarning)\n"
     ]
    },
    {
     "name": "stdout",
     "output_type": "stream",
     "text": [
      "[10:35:22] WARNING: ../src/learner.cc:1095: Starting in XGBoost 1.3.0, the default evaluation metric used with the objective 'binary:logistic' was changed from 'error' to 'logloss'. Explicitly set eval_metric if you'd like to restore the old behavior.\n"
     ]
    },
    {
     "name": "stderr",
     "output_type": "stream",
     "text": [
      "/data/users/dverma01/conda/envs/tf1gcolab/lib/python3.6/site-packages/xgboost/sklearn.py:1146: UserWarning: The use of label encoder in XGBClassifier is deprecated and will be removed in a future release. To remove this warning, do the following: 1) Pass option use_label_encoder=False when constructing XGBClassifier object; and 2) Encode your labels (y) as integers starting with 0, i.e. 0, 1, 2, ..., [num_class - 1].\n",
      "  warnings.warn(label_encoder_deprecation_msg, UserWarning)\n"
     ]
    },
    {
     "name": "stdout",
     "output_type": "stream",
     "text": [
      "[10:35:22] WARNING: ../src/learner.cc:1095: Starting in XGBoost 1.3.0, the default evaluation metric used with the objective 'binary:logistic' was changed from 'error' to 'logloss'. Explicitly set eval_metric if you'd like to restore the old behavior.\n"
     ]
    },
    {
     "name": "stderr",
     "output_type": "stream",
     "text": [
      "/data/users/dverma01/conda/envs/tf1gcolab/lib/python3.6/site-packages/xgboost/sklearn.py:1146: UserWarning: The use of label encoder in XGBClassifier is deprecated and will be removed in a future release. To remove this warning, do the following: 1) Pass option use_label_encoder=False when constructing XGBClassifier object; and 2) Encode your labels (y) as integers starting with 0, i.e. 0, 1, 2, ..., [num_class - 1].\n",
      "  warnings.warn(label_encoder_deprecation_msg, UserWarning)\n"
     ]
    },
    {
     "name": "stdout",
     "output_type": "stream",
     "text": [
      "[10:35:26] WARNING: ../src/learner.cc:1095: Starting in XGBoost 1.3.0, the default evaluation metric used with the objective 'binary:logistic' was changed from 'error' to 'logloss'. Explicitly set eval_metric if you'd like to restore the old behavior.\n"
     ]
    },
    {
     "name": "stderr",
     "output_type": "stream",
     "text": [
      "/data/users/dverma01/conda/envs/tf1gcolab/lib/python3.6/site-packages/xgboost/sklearn.py:1146: UserWarning: The use of label encoder in XGBClassifier is deprecated and will be removed in a future release. To remove this warning, do the following: 1) Pass option use_label_encoder=False when constructing XGBClassifier object; and 2) Encode your labels (y) as integers starting with 0, i.e. 0, 1, 2, ..., [num_class - 1].\n",
      "  warnings.warn(label_encoder_deprecation_msg, UserWarning)\n"
     ]
    },
    {
     "name": "stdout",
     "output_type": "stream",
     "text": [
      "[10:35:37] WARNING: ../src/learner.cc:1095: Starting in XGBoost 1.3.0, the default evaluation metric used with the objective 'binary:logistic' was changed from 'error' to 'logloss'. Explicitly set eval_metric if you'd like to restore the old behavior.\n"
     ]
    },
    {
     "name": "stderr",
     "output_type": "stream",
     "text": [
      "/data/users/dverma01/conda/envs/tf1gcolab/lib/python3.6/site-packages/xgboost/sklearn.py:1146: UserWarning: The use of label encoder in XGBClassifier is deprecated and will be removed in a future release. To remove this warning, do the following: 1) Pass option use_label_encoder=False when constructing XGBClassifier object; and 2) Encode your labels (y) as integers starting with 0, i.e. 0, 1, 2, ..., [num_class - 1].\n",
      "  warnings.warn(label_encoder_deprecation_msg, UserWarning)\n"
     ]
    },
    {
     "name": "stdout",
     "output_type": "stream",
     "text": [
      "[10:35:37] WARNING: ../src/learner.cc:1095: Starting in XGBoost 1.3.0, the default evaluation metric used with the objective 'binary:logistic' was changed from 'error' to 'logloss'. Explicitly set eval_metric if you'd like to restore the old behavior.\n"
     ]
    },
    {
     "name": "stderr",
     "output_type": "stream",
     "text": [
      "/data/users/dverma01/conda/envs/tf1gcolab/lib/python3.6/site-packages/xgboost/sklearn.py:1146: UserWarning: The use of label encoder in XGBClassifier is deprecated and will be removed in a future release. To remove this warning, do the following: 1) Pass option use_label_encoder=False when constructing XGBClassifier object; and 2) Encode your labels (y) as integers starting with 0, i.e. 0, 1, 2, ..., [num_class - 1].\n",
      "  warnings.warn(label_encoder_deprecation_msg, UserWarning)\n"
     ]
    },
    {
     "name": "stdout",
     "output_type": "stream",
     "text": [
      "[10:35:38] WARNING: ../src/learner.cc:1095: Starting in XGBoost 1.3.0, the default evaluation metric used with the objective 'binary:logistic' was changed from 'error' to 'logloss'. Explicitly set eval_metric if you'd like to restore the old behavior.\n"
     ]
    },
    {
     "name": "stderr",
     "output_type": "stream",
     "text": [
      "/data/users/dverma01/conda/envs/tf1gcolab/lib/python3.6/site-packages/xgboost/sklearn.py:1146: UserWarning: The use of label encoder in XGBClassifier is deprecated and will be removed in a future release. To remove this warning, do the following: 1) Pass option use_label_encoder=False when constructing XGBClassifier object; and 2) Encode your labels (y) as integers starting with 0, i.e. 0, 1, 2, ..., [num_class - 1].\n",
      "  warnings.warn(label_encoder_deprecation_msg, UserWarning)\n"
     ]
    },
    {
     "name": "stdout",
     "output_type": "stream",
     "text": [
      "[10:35:38] WARNING: ../src/learner.cc:1095: Starting in XGBoost 1.3.0, the default evaluation metric used with the objective 'binary:logistic' was changed from 'error' to 'logloss'. Explicitly set eval_metric if you'd like to restore the old behavior.\n"
     ]
    },
    {
     "name": "stderr",
     "output_type": "stream",
     "text": [
      "/data/users/dverma01/conda/envs/tf1gcolab/lib/python3.6/site-packages/xgboost/sklearn.py:1146: UserWarning: The use of label encoder in XGBClassifier is deprecated and will be removed in a future release. To remove this warning, do the following: 1) Pass option use_label_encoder=False when constructing XGBClassifier object; and 2) Encode your labels (y) as integers starting with 0, i.e. 0, 1, 2, ..., [num_class - 1].\n",
      "  warnings.warn(label_encoder_deprecation_msg, UserWarning)\n"
     ]
    },
    {
     "name": "stdout",
     "output_type": "stream",
     "text": [
      "[10:35:39] WARNING: ../src/learner.cc:1095: Starting in XGBoost 1.3.0, the default evaluation metric used with the objective 'binary:logistic' was changed from 'error' to 'logloss'. Explicitly set eval_metric if you'd like to restore the old behavior.\n"
     ]
    },
    {
     "name": "stderr",
     "output_type": "stream",
     "text": [
      "/data/users/dverma01/conda/envs/tf1gcolab/lib/python3.6/site-packages/xgboost/sklearn.py:1146: UserWarning: The use of label encoder in XGBClassifier is deprecated and will be removed in a future release. To remove this warning, do the following: 1) Pass option use_label_encoder=False when constructing XGBClassifier object; and 2) Encode your labels (y) as integers starting with 0, i.e. 0, 1, 2, ..., [num_class - 1].\n",
      "  warnings.warn(label_encoder_deprecation_msg, UserWarning)\n"
     ]
    },
    {
     "name": "stdout",
     "output_type": "stream",
     "text": [
      "[10:35:42] WARNING: ../src/learner.cc:1095: Starting in XGBoost 1.3.0, the default evaluation metric used with the objective 'binary:logistic' was changed from 'error' to 'logloss'. Explicitly set eval_metric if you'd like to restore the old behavior.\n"
     ]
    },
    {
     "name": "stderr",
     "output_type": "stream",
     "text": [
      "/data/users/dverma01/conda/envs/tf1gcolab/lib/python3.6/site-packages/xgboost/sklearn.py:1146: UserWarning: The use of label encoder in XGBClassifier is deprecated and will be removed in a future release. To remove this warning, do the following: 1) Pass option use_label_encoder=False when constructing XGBClassifier object; and 2) Encode your labels (y) as integers starting with 0, i.e. 0, 1, 2, ..., [num_class - 1].\n",
      "  warnings.warn(label_encoder_deprecation_msg, UserWarning)\n"
     ]
    },
    {
     "name": "stdout",
     "output_type": "stream",
     "text": [
      "[10:35:53] WARNING: ../src/learner.cc:1095: Starting in XGBoost 1.3.0, the default evaluation metric used with the objective 'binary:logistic' was changed from 'error' to 'logloss'. Explicitly set eval_metric if you'd like to restore the old behavior.\n"
     ]
    },
    {
     "name": "stderr",
     "output_type": "stream",
     "text": [
      "/data/users/dverma01/conda/envs/tf1gcolab/lib/python3.6/site-packages/xgboost/sklearn.py:1146: UserWarning: The use of label encoder in XGBClassifier is deprecated and will be removed in a future release. To remove this warning, do the following: 1) Pass option use_label_encoder=False when constructing XGBClassifier object; and 2) Encode your labels (y) as integers starting with 0, i.e. 0, 1, 2, ..., [num_class - 1].\n",
      "  warnings.warn(label_encoder_deprecation_msg, UserWarning)\n"
     ]
    },
    {
     "name": "stdout",
     "output_type": "stream",
     "text": [
      "[10:35:54] WARNING: ../src/learner.cc:1095: Starting in XGBoost 1.3.0, the default evaluation metric used with the objective 'binary:logistic' was changed from 'error' to 'logloss'. Explicitly set eval_metric if you'd like to restore the old behavior.\n"
     ]
    },
    {
     "name": "stderr",
     "output_type": "stream",
     "text": [
      "/data/users/dverma01/conda/envs/tf1gcolab/lib/python3.6/site-packages/xgboost/sklearn.py:1146: UserWarning: The use of label encoder in XGBClassifier is deprecated and will be removed in a future release. To remove this warning, do the following: 1) Pass option use_label_encoder=False when constructing XGBClassifier object; and 2) Encode your labels (y) as integers starting with 0, i.e. 0, 1, 2, ..., [num_class - 1].\n",
      "  warnings.warn(label_encoder_deprecation_msg, UserWarning)\n"
     ]
    },
    {
     "name": "stdout",
     "output_type": "stream",
     "text": [
      "[10:35:54] WARNING: ../src/learner.cc:1095: Starting in XGBoost 1.3.0, the default evaluation metric used with the objective 'binary:logistic' was changed from 'error' to 'logloss'. Explicitly set eval_metric if you'd like to restore the old behavior.\n"
     ]
    },
    {
     "name": "stderr",
     "output_type": "stream",
     "text": [
      "/data/users/dverma01/conda/envs/tf1gcolab/lib/python3.6/site-packages/xgboost/sklearn.py:1146: UserWarning: The use of label encoder in XGBClassifier is deprecated and will be removed in a future release. To remove this warning, do the following: 1) Pass option use_label_encoder=False when constructing XGBClassifier object; and 2) Encode your labels (y) as integers starting with 0, i.e. 0, 1, 2, ..., [num_class - 1].\n",
      "  warnings.warn(label_encoder_deprecation_msg, UserWarning)\n"
     ]
    },
    {
     "name": "stdout",
     "output_type": "stream",
     "text": [
      "[10:35:55] WARNING: ../src/learner.cc:1095: Starting in XGBoost 1.3.0, the default evaluation metric used with the objective 'binary:logistic' was changed from 'error' to 'logloss'. Explicitly set eval_metric if you'd like to restore the old behavior.\n"
     ]
    },
    {
     "name": "stderr",
     "output_type": "stream",
     "text": [
      "/data/users/dverma01/conda/envs/tf1gcolab/lib/python3.6/site-packages/xgboost/sklearn.py:1146: UserWarning: The use of label encoder in XGBClassifier is deprecated and will be removed in a future release. To remove this warning, do the following: 1) Pass option use_label_encoder=False when constructing XGBClassifier object; and 2) Encode your labels (y) as integers starting with 0, i.e. 0, 1, 2, ..., [num_class - 1].\n",
      "  warnings.warn(label_encoder_deprecation_msg, UserWarning)\n"
     ]
    },
    {
     "name": "stdout",
     "output_type": "stream",
     "text": [
      "[10:35:55] WARNING: ../src/learner.cc:1095: Starting in XGBoost 1.3.0, the default evaluation metric used with the objective 'binary:logistic' was changed from 'error' to 'logloss'. Explicitly set eval_metric if you'd like to restore the old behavior.\n"
     ]
    },
    {
     "name": "stderr",
     "output_type": "stream",
     "text": [
      "/data/users/dverma01/conda/envs/tf1gcolab/lib/python3.6/site-packages/xgboost/sklearn.py:1146: UserWarning: The use of label encoder in XGBClassifier is deprecated and will be removed in a future release. To remove this warning, do the following: 1) Pass option use_label_encoder=False when constructing XGBClassifier object; and 2) Encode your labels (y) as integers starting with 0, i.e. 0, 1, 2, ..., [num_class - 1].\n",
      "  warnings.warn(label_encoder_deprecation_msg, UserWarning)\n"
     ]
    },
    {
     "name": "stdout",
     "output_type": "stream",
     "text": [
      "[10:35:59] WARNING: ../src/learner.cc:1095: Starting in XGBoost 1.3.0, the default evaluation metric used with the objective 'binary:logistic' was changed from 'error' to 'logloss'. Explicitly set eval_metric if you'd like to restore the old behavior.\n"
     ]
    },
    {
     "name": "stderr",
     "output_type": "stream",
     "text": [
      "/data/users/dverma01/conda/envs/tf1gcolab/lib/python3.6/site-packages/xgboost/sklearn.py:1146: UserWarning: The use of label encoder in XGBClassifier is deprecated and will be removed in a future release. To remove this warning, do the following: 1) Pass option use_label_encoder=False when constructing XGBClassifier object; and 2) Encode your labels (y) as integers starting with 0, i.e. 0, 1, 2, ..., [num_class - 1].\n",
      "  warnings.warn(label_encoder_deprecation_msg, UserWarning)\n"
     ]
    },
    {
     "name": "stdout",
     "output_type": "stream",
     "text": [
      "[10:36:10] WARNING: ../src/learner.cc:1095: Starting in XGBoost 1.3.0, the default evaluation metric used with the objective 'binary:logistic' was changed from 'error' to 'logloss'. Explicitly set eval_metric if you'd like to restore the old behavior.\n"
     ]
    },
    {
     "name": "stderr",
     "output_type": "stream",
     "text": [
      "/data/users/dverma01/conda/envs/tf1gcolab/lib/python3.6/site-packages/xgboost/sklearn.py:1146: UserWarning: The use of label encoder in XGBClassifier is deprecated and will be removed in a future release. To remove this warning, do the following: 1) Pass option use_label_encoder=False when constructing XGBClassifier object; and 2) Encode your labels (y) as integers starting with 0, i.e. 0, 1, 2, ..., [num_class - 1].\n",
      "  warnings.warn(label_encoder_deprecation_msg, UserWarning)\n"
     ]
    },
    {
     "name": "stdout",
     "output_type": "stream",
     "text": [
      "[10:36:11] WARNING: ../src/learner.cc:1095: Starting in XGBoost 1.3.0, the default evaluation metric used with the objective 'binary:logistic' was changed from 'error' to 'logloss'. Explicitly set eval_metric if you'd like to restore the old behavior.\n"
     ]
    },
    {
     "name": "stderr",
     "output_type": "stream",
     "text": [
      "/data/users/dverma01/conda/envs/tf1gcolab/lib/python3.6/site-packages/xgboost/sklearn.py:1146: UserWarning: The use of label encoder in XGBClassifier is deprecated and will be removed in a future release. To remove this warning, do the following: 1) Pass option use_label_encoder=False when constructing XGBClassifier object; and 2) Encode your labels (y) as integers starting with 0, i.e. 0, 1, 2, ..., [num_class - 1].\n",
      "  warnings.warn(label_encoder_deprecation_msg, UserWarning)\n"
     ]
    },
    {
     "name": "stdout",
     "output_type": "stream",
     "text": [
      "[10:36:11] WARNING: ../src/learner.cc:1095: Starting in XGBoost 1.3.0, the default evaluation metric used with the objective 'binary:logistic' was changed from 'error' to 'logloss'. Explicitly set eval_metric if you'd like to restore the old behavior.\n"
     ]
    },
    {
     "name": "stderr",
     "output_type": "stream",
     "text": [
      "/data/users/dverma01/conda/envs/tf1gcolab/lib/python3.6/site-packages/xgboost/sklearn.py:1146: UserWarning: The use of label encoder in XGBClassifier is deprecated and will be removed in a future release. To remove this warning, do the following: 1) Pass option use_label_encoder=False when constructing XGBClassifier object; and 2) Encode your labels (y) as integers starting with 0, i.e. 0, 1, 2, ..., [num_class - 1].\n",
      "  warnings.warn(label_encoder_deprecation_msg, UserWarning)\n"
     ]
    },
    {
     "name": "stdout",
     "output_type": "stream",
     "text": [
      "[10:36:12] WARNING: ../src/learner.cc:1095: Starting in XGBoost 1.3.0, the default evaluation metric used with the objective 'binary:logistic' was changed from 'error' to 'logloss'. Explicitly set eval_metric if you'd like to restore the old behavior.\n"
     ]
    },
    {
     "name": "stderr",
     "output_type": "stream",
     "text": [
      "/data/users/dverma01/conda/envs/tf1gcolab/lib/python3.6/site-packages/xgboost/sklearn.py:1146: UserWarning: The use of label encoder in XGBClassifier is deprecated and will be removed in a future release. To remove this warning, do the following: 1) Pass option use_label_encoder=False when constructing XGBClassifier object; and 2) Encode your labels (y) as integers starting with 0, i.e. 0, 1, 2, ..., [num_class - 1].\n",
      "  warnings.warn(label_encoder_deprecation_msg, UserWarning)\n"
     ]
    },
    {
     "name": "stdout",
     "output_type": "stream",
     "text": [
      "[10:36:12] WARNING: ../src/learner.cc:1095: Starting in XGBoost 1.3.0, the default evaluation metric used with the objective 'binary:logistic' was changed from 'error' to 'logloss'. Explicitly set eval_metric if you'd like to restore the old behavior.\n",
      "score for 5 folds: [0.95185185 0.90740741 0.97777778 0.9962963  0.89591078]\n",
      "Model_mean 0.9458488228004956\n",
      "Model_std 0.038915273544403516\n"
     ]
    }
   ],
   "source": [
    "# Stacking model for 40 features\n",
    "scores_stack = cross_val_score(model2_stack, df_f, df_t, cv=5, scoring = 'accuracy')\n",
    "#scores_stack_roc = cross_val_score(model2_stack, df_f, df_t, cv=5, scoring = 'roc_auc')\n",
    "print(f'score for {5} folds:', scores_stack)\n",
    "print('Model_mean', mean(scores_stack))\n",
    "print('Model_std', std(scores_stack))\n",
    "#print('Model_roc_mean', mean(scores_stack_roc))\n",
    "#print('Model_roc_std', std(scores_stack_roc))"
   ]
  },
  {
   "cell_type": "code",
   "execution_count": 158,
   "metadata": {},
   "outputs": [
    {
     "name": "stderr",
     "output_type": "stream",
     "text": [
      "/data/users/dverma01/conda/envs/tf1gcolab/lib/python3.6/site-packages/xgboost/sklearn.py:1146: UserWarning: The use of label encoder in XGBClassifier is deprecated and will be removed in a future release. To remove this warning, do the following: 1) Pass option use_label_encoder=False when constructing XGBClassifier object; and 2) Encode your labels (y) as integers starting with 0, i.e. 0, 1, 2, ..., [num_class - 1].\n",
      "  warnings.warn(label_encoder_deprecation_msg, UserWarning)\n"
     ]
    },
    {
     "name": "stdout",
     "output_type": "stream",
     "text": [
      "[10:36:46] WARNING: ../src/learner.cc:1095: Starting in XGBoost 1.3.0, the default evaluation metric used with the objective 'binary:logistic' was changed from 'error' to 'logloss'. Explicitly set eval_metric if you'd like to restore the old behavior.\n"
     ]
    },
    {
     "name": "stderr",
     "output_type": "stream",
     "text": [
      "/data/users/dverma01/conda/envs/tf1gcolab/lib/python3.6/site-packages/xgboost/sklearn.py:1146: UserWarning: The use of label encoder in XGBClassifier is deprecated and will be removed in a future release. To remove this warning, do the following: 1) Pass option use_label_encoder=False when constructing XGBClassifier object; and 2) Encode your labels (y) as integers starting with 0, i.e. 0, 1, 2, ..., [num_class - 1].\n",
      "  warnings.warn(label_encoder_deprecation_msg, UserWarning)\n",
      "/data/users/dverma01/conda/envs/tf1gcolab/lib/python3.6/site-packages/xgboost/sklearn.py:1146: UserWarning: The use of label encoder in XGBClassifier is deprecated and will be removed in a future release. To remove this warning, do the following: 1) Pass option use_label_encoder=False when constructing XGBClassifier object; and 2) Encode your labels (y) as integers starting with 0, i.e. 0, 1, 2, ..., [num_class - 1].\n",
      "  warnings.warn(label_encoder_deprecation_msg, UserWarning)\n"
     ]
    },
    {
     "name": "stdout",
     "output_type": "stream",
     "text": [
      "[10:36:53] WARNING: ../src/learner.cc:1095: Starting in XGBoost 1.3.0, the default evaluation metric used with the objective 'binary:logistic' was changed from 'error' to 'logloss'. Explicitly set eval_metric if you'd like to restore the old behavior.\n",
      "[10:36:53] WARNING: ../src/learner.cc:1095: Starting in XGBoost 1.3.0, the default evaluation metric used with the objective 'binary:logistic' was changed from 'error' to 'logloss'. Explicitly set eval_metric if you'd like to restore the old behavior.\n"
     ]
    },
    {
     "name": "stderr",
     "output_type": "stream",
     "text": [
      "/data/users/dverma01/conda/envs/tf1gcolab/lib/python3.6/site-packages/xgboost/sklearn.py:1146: UserWarning: The use of label encoder in XGBClassifier is deprecated and will be removed in a future release. To remove this warning, do the following: 1) Pass option use_label_encoder=False when constructing XGBClassifier object; and 2) Encode your labels (y) as integers starting with 0, i.e. 0, 1, 2, ..., [num_class - 1].\n",
      "  warnings.warn(label_encoder_deprecation_msg, UserWarning)\n"
     ]
    },
    {
     "name": "stdout",
     "output_type": "stream",
     "text": [
      "[10:36:54] WARNING: ../src/learner.cc:1095: Starting in XGBoost 1.3.0, the default evaluation metric used with the objective 'binary:logistic' was changed from 'error' to 'logloss'. Explicitly set eval_metric if you'd like to restore the old behavior.\n"
     ]
    },
    {
     "name": "stderr",
     "output_type": "stream",
     "text": [
      "/data/users/dverma01/conda/envs/tf1gcolab/lib/python3.6/site-packages/xgboost/sklearn.py:1146: UserWarning: The use of label encoder in XGBClassifier is deprecated and will be removed in a future release. To remove this warning, do the following: 1) Pass option use_label_encoder=False when constructing XGBClassifier object; and 2) Encode your labels (y) as integers starting with 0, i.e. 0, 1, 2, ..., [num_class - 1].\n",
      "  warnings.warn(label_encoder_deprecation_msg, UserWarning)\n"
     ]
    },
    {
     "name": "stdout",
     "output_type": "stream",
     "text": [
      "[10:36:54] WARNING: ../src/learner.cc:1095: Starting in XGBoost 1.3.0, the default evaluation metric used with the objective 'binary:logistic' was changed from 'error' to 'logloss'. Explicitly set eval_metric if you'd like to restore the old behavior.\n"
     ]
    },
    {
     "name": "stderr",
     "output_type": "stream",
     "text": [
      "/data/users/dverma01/conda/envs/tf1gcolab/lib/python3.6/site-packages/xgboost/sklearn.py:1146: UserWarning: The use of label encoder in XGBClassifier is deprecated and will be removed in a future release. To remove this warning, do the following: 1) Pass option use_label_encoder=False when constructing XGBClassifier object; and 2) Encode your labels (y) as integers starting with 0, i.e. 0, 1, 2, ..., [num_class - 1].\n",
      "  warnings.warn(label_encoder_deprecation_msg, UserWarning)\n"
     ]
    },
    {
     "name": "stdout",
     "output_type": "stream",
     "text": [
      "[10:36:54] WARNING: ../src/learner.cc:1095: Starting in XGBoost 1.3.0, the default evaluation metric used with the objective 'binary:logistic' was changed from 'error' to 'logloss'. Explicitly set eval_metric if you'd like to restore the old behavior.\n"
     ]
    },
    {
     "name": "stderr",
     "output_type": "stream",
     "text": [
      "/data/users/dverma01/conda/envs/tf1gcolab/lib/python3.6/site-packages/xgboost/sklearn.py:1146: UserWarning: The use of label encoder in XGBClassifier is deprecated and will be removed in a future release. To remove this warning, do the following: 1) Pass option use_label_encoder=False when constructing XGBClassifier object; and 2) Encode your labels (y) as integers starting with 0, i.e. 0, 1, 2, ..., [num_class - 1].\n",
      "  warnings.warn(label_encoder_deprecation_msg, UserWarning)\n"
     ]
    },
    {
     "name": "stdout",
     "output_type": "stream",
     "text": [
      "[10:36:56] WARNING: ../src/learner.cc:1095: Starting in XGBoost 1.3.0, the default evaluation metric used with the objective 'binary:logistic' was changed from 'error' to 'logloss'. Explicitly set eval_metric if you'd like to restore the old behavior.\n"
     ]
    },
    {
     "name": "stderr",
     "output_type": "stream",
     "text": [
      "/data/users/dverma01/conda/envs/tf1gcolab/lib/python3.6/site-packages/xgboost/sklearn.py:1146: UserWarning: The use of label encoder in XGBClassifier is deprecated and will be removed in a future release. To remove this warning, do the following: 1) Pass option use_label_encoder=False when constructing XGBClassifier object; and 2) Encode your labels (y) as integers starting with 0, i.e. 0, 1, 2, ..., [num_class - 1].\n",
      "  warnings.warn(label_encoder_deprecation_msg, UserWarning)\n",
      "/data/users/dverma01/conda/envs/tf1gcolab/lib/python3.6/site-packages/xgboost/sklearn.py:1146: UserWarning: The use of label encoder in XGBClassifier is deprecated and will be removed in a future release. To remove this warning, do the following: 1) Pass option use_label_encoder=False when constructing XGBClassifier object; and 2) Encode your labels (y) as integers starting with 0, i.e. 0, 1, 2, ..., [num_class - 1].\n",
      "  warnings.warn(label_encoder_deprecation_msg, UserWarning)\n"
     ]
    },
    {
     "name": "stdout",
     "output_type": "stream",
     "text": [
      "[10:37:03] WARNING: ../src/learner.cc:1095: Starting in XGBoost 1.3.0, the default evaluation metric used with the objective 'binary:logistic' was changed from 'error' to 'logloss'. Explicitly set eval_metric if you'd like to restore the old behavior.\n",
      "[10:37:03] WARNING: ../src/learner.cc:1095: Starting in XGBoost 1.3.0, the default evaluation metric used with the objective 'binary:logistic' was changed from 'error' to 'logloss'. Explicitly set eval_metric if you'd like to restore the old behavior.\n"
     ]
    },
    {
     "name": "stderr",
     "output_type": "stream",
     "text": [
      "/data/users/dverma01/conda/envs/tf1gcolab/lib/python3.6/site-packages/xgboost/sklearn.py:1146: UserWarning: The use of label encoder in XGBClassifier is deprecated and will be removed in a future release. To remove this warning, do the following: 1) Pass option use_label_encoder=False when constructing XGBClassifier object; and 2) Encode your labels (y) as integers starting with 0, i.e. 0, 1, 2, ..., [num_class - 1].\n",
      "  warnings.warn(label_encoder_deprecation_msg, UserWarning)\n",
      "/data/users/dverma01/conda/envs/tf1gcolab/lib/python3.6/site-packages/xgboost/sklearn.py:1146: UserWarning: The use of label encoder in XGBClassifier is deprecated and will be removed in a future release. To remove this warning, do the following: 1) Pass option use_label_encoder=False when constructing XGBClassifier object; and 2) Encode your labels (y) as integers starting with 0, i.e. 0, 1, 2, ..., [num_class - 1].\n",
      "  warnings.warn(label_encoder_deprecation_msg, UserWarning)\n"
     ]
    },
    {
     "name": "stdout",
     "output_type": "stream",
     "text": [
      "[10:37:04] WARNING: ../src/learner.cc:1095: Starting in XGBoost 1.3.0, the default evaluation metric used with the objective 'binary:logistic' was changed from 'error' to 'logloss'. Explicitly set eval_metric if you'd like to restore the old behavior.\n",
      "[10:37:04] WARNING: ../src/learner.cc:1095: Starting in XGBoost 1.3.0, the default evaluation metric used with the objective 'binary:logistic' was changed from 'error' to 'logloss'. Explicitly set eval_metric if you'd like to restore the old behavior.\n"
     ]
    },
    {
     "name": "stderr",
     "output_type": "stream",
     "text": [
      "/data/users/dverma01/conda/envs/tf1gcolab/lib/python3.6/site-packages/xgboost/sklearn.py:1146: UserWarning: The use of label encoder in XGBClassifier is deprecated and will be removed in a future release. To remove this warning, do the following: 1) Pass option use_label_encoder=False when constructing XGBClassifier object; and 2) Encode your labels (y) as integers starting with 0, i.e. 0, 1, 2, ..., [num_class - 1].\n",
      "  warnings.warn(label_encoder_deprecation_msg, UserWarning)\n"
     ]
    },
    {
     "name": "stdout",
     "output_type": "stream",
     "text": [
      "[10:37:04] WARNING: ../src/learner.cc:1095: Starting in XGBoost 1.3.0, the default evaluation metric used with the objective 'binary:logistic' was changed from 'error' to 'logloss'. Explicitly set eval_metric if you'd like to restore the old behavior.\n"
     ]
    },
    {
     "name": "stderr",
     "output_type": "stream",
     "text": [
      "/data/users/dverma01/conda/envs/tf1gcolab/lib/python3.6/site-packages/xgboost/sklearn.py:1146: UserWarning: The use of label encoder in XGBClassifier is deprecated and will be removed in a future release. To remove this warning, do the following: 1) Pass option use_label_encoder=False when constructing XGBClassifier object; and 2) Encode your labels (y) as integers starting with 0, i.e. 0, 1, 2, ..., [num_class - 1].\n",
      "  warnings.warn(label_encoder_deprecation_msg, UserWarning)\n"
     ]
    },
    {
     "name": "stdout",
     "output_type": "stream",
     "text": [
      "[10:37:06] WARNING: ../src/learner.cc:1095: Starting in XGBoost 1.3.0, the default evaluation metric used with the objective 'binary:logistic' was changed from 'error' to 'logloss'. Explicitly set eval_metric if you'd like to restore the old behavior.\n"
     ]
    },
    {
     "name": "stderr",
     "output_type": "stream",
     "text": [
      "/data/users/dverma01/conda/envs/tf1gcolab/lib/python3.6/site-packages/xgboost/sklearn.py:1146: UserWarning: The use of label encoder in XGBClassifier is deprecated and will be removed in a future release. To remove this warning, do the following: 1) Pass option use_label_encoder=False when constructing XGBClassifier object; and 2) Encode your labels (y) as integers starting with 0, i.e. 0, 1, 2, ..., [num_class - 1].\n",
      "  warnings.warn(label_encoder_deprecation_msg, UserWarning)\n"
     ]
    },
    {
     "name": "stdout",
     "output_type": "stream",
     "text": [
      "[10:37:13] WARNING: ../src/learner.cc:1095: Starting in XGBoost 1.3.0, the default evaluation metric used with the objective 'binary:logistic' was changed from 'error' to 'logloss'. Explicitly set eval_metric if you'd like to restore the old behavior.\n",
      "[10:37:13] WARNING: ../src/learner.cc:1095: Starting in XGBoost 1.3.0, the default evaluation metric used with the objective 'binary:logistic' was changed from 'error' to 'logloss'. Explicitly set eval_metric if you'd like to restore the old behavior.\n"
     ]
    },
    {
     "name": "stderr",
     "output_type": "stream",
     "text": [
      "/data/users/dverma01/conda/envs/tf1gcolab/lib/python3.6/site-packages/xgboost/sklearn.py:1146: UserWarning: The use of label encoder in XGBClassifier is deprecated and will be removed in a future release. To remove this warning, do the following: 1) Pass option use_label_encoder=False when constructing XGBClassifier object; and 2) Encode your labels (y) as integers starting with 0, i.e. 0, 1, 2, ..., [num_class - 1].\n",
      "  warnings.warn(label_encoder_deprecation_msg, UserWarning)\n",
      "/data/users/dverma01/conda/envs/tf1gcolab/lib/python3.6/site-packages/xgboost/sklearn.py:1146: UserWarning: The use of label encoder in XGBClassifier is deprecated and will be removed in a future release. To remove this warning, do the following: 1) Pass option use_label_encoder=False when constructing XGBClassifier object; and 2) Encode your labels (y) as integers starting with 0, i.e. 0, 1, 2, ..., [num_class - 1].\n",
      "  warnings.warn(label_encoder_deprecation_msg, UserWarning)\n"
     ]
    },
    {
     "name": "stdout",
     "output_type": "stream",
     "text": [
      "[10:37:14] WARNING: ../src/learner.cc:1095: Starting in XGBoost 1.3.0, the default evaluation metric used with the objective 'binary:logistic' was changed from 'error' to 'logloss'. Explicitly set eval_metric if you'd like to restore the old behavior.\n",
      "[10:37:14] WARNING: ../src/learner.cc:1095: Starting in XGBoost 1.3.0, the default evaluation metric used with the objective 'binary:logistic' was changed from 'error' to 'logloss'. Explicitly set eval_metric if you'd like to restore the old behavior.\n"
     ]
    },
    {
     "name": "stderr",
     "output_type": "stream",
     "text": [
      "/data/users/dverma01/conda/envs/tf1gcolab/lib/python3.6/site-packages/xgboost/sklearn.py:1146: UserWarning: The use of label encoder in XGBClassifier is deprecated and will be removed in a future release. To remove this warning, do the following: 1) Pass option use_label_encoder=False when constructing XGBClassifier object; and 2) Encode your labels (y) as integers starting with 0, i.e. 0, 1, 2, ..., [num_class - 1].\n",
      "  warnings.warn(label_encoder_deprecation_msg, UserWarning)\n",
      "/data/users/dverma01/conda/envs/tf1gcolab/lib/python3.6/site-packages/xgboost/sklearn.py:1146: UserWarning: The use of label encoder in XGBClassifier is deprecated and will be removed in a future release. To remove this warning, do the following: 1) Pass option use_label_encoder=False when constructing XGBClassifier object; and 2) Encode your labels (y) as integers starting with 0, i.e. 0, 1, 2, ..., [num_class - 1].\n",
      "  warnings.warn(label_encoder_deprecation_msg, UserWarning)\n"
     ]
    },
    {
     "name": "stdout",
     "output_type": "stream",
     "text": [
      "[10:37:14] WARNING: ../src/learner.cc:1095: Starting in XGBoost 1.3.0, the default evaluation metric used with the objective 'binary:logistic' was changed from 'error' to 'logloss'. Explicitly set eval_metric if you'd like to restore the old behavior.\n"
     ]
    },
    {
     "name": "stderr",
     "output_type": "stream",
     "text": [
      "/data/users/dverma01/conda/envs/tf1gcolab/lib/python3.6/site-packages/xgboost/sklearn.py:1146: UserWarning: The use of label encoder in XGBClassifier is deprecated and will be removed in a future release. To remove this warning, do the following: 1) Pass option use_label_encoder=False when constructing XGBClassifier object; and 2) Encode your labels (y) as integers starting with 0, i.e. 0, 1, 2, ..., [num_class - 1].\n",
      "  warnings.warn(label_encoder_deprecation_msg, UserWarning)\n"
     ]
    },
    {
     "name": "stdout",
     "output_type": "stream",
     "text": [
      "[10:37:17] WARNING: ../src/learner.cc:1095: Starting in XGBoost 1.3.0, the default evaluation metric used with the objective 'binary:logistic' was changed from 'error' to 'logloss'. Explicitly set eval_metric if you'd like to restore the old behavior.\n"
     ]
    },
    {
     "name": "stderr",
     "output_type": "stream",
     "text": [
      "/data/users/dverma01/conda/envs/tf1gcolab/lib/python3.6/site-packages/xgboost/sklearn.py:1146: UserWarning: The use of label encoder in XGBClassifier is deprecated and will be removed in a future release. To remove this warning, do the following: 1) Pass option use_label_encoder=False when constructing XGBClassifier object; and 2) Encode your labels (y) as integers starting with 0, i.e. 0, 1, 2, ..., [num_class - 1].\n",
      "  warnings.warn(label_encoder_deprecation_msg, UserWarning)\n"
     ]
    },
    {
     "name": "stdout",
     "output_type": "stream",
     "text": [
      "[10:37:23] WARNING: ../src/learner.cc:1095: Starting in XGBoost 1.3.0, the default evaluation metric used with the objective 'binary:logistic' was changed from 'error' to 'logloss'. Explicitly set eval_metric if you'd like to restore the old behavior.\n",
      "[10:37:24] WARNING: ../src/learner.cc:1095: Starting in XGBoost 1.3.0, the default evaluation metric used with the objective 'binary:logistic' was changed from 'error' to 'logloss'. Explicitly set eval_metric if you'd like to restore the old behavior.\n"
     ]
    },
    {
     "name": "stderr",
     "output_type": "stream",
     "text": [
      "/data/users/dverma01/conda/envs/tf1gcolab/lib/python3.6/site-packages/xgboost/sklearn.py:1146: UserWarning: The use of label encoder in XGBClassifier is deprecated and will be removed in a future release. To remove this warning, do the following: 1) Pass option use_label_encoder=False when constructing XGBClassifier object; and 2) Encode your labels (y) as integers starting with 0, i.e. 0, 1, 2, ..., [num_class - 1].\n",
      "  warnings.warn(label_encoder_deprecation_msg, UserWarning)\n",
      "/data/users/dverma01/conda/envs/tf1gcolab/lib/python3.6/site-packages/xgboost/sklearn.py:1146: UserWarning: The use of label encoder in XGBClassifier is deprecated and will be removed in a future release. To remove this warning, do the following: 1) Pass option use_label_encoder=False when constructing XGBClassifier object; and 2) Encode your labels (y) as integers starting with 0, i.e. 0, 1, 2, ..., [num_class - 1].\n",
      "  warnings.warn(label_encoder_deprecation_msg, UserWarning)\n"
     ]
    },
    {
     "name": "stdout",
     "output_type": "stream",
     "text": [
      "[10:37:24] WARNING: ../src/learner.cc:1095: Starting in XGBoost 1.3.0, the default evaluation metric used with the objective 'binary:logistic' was changed from 'error' to 'logloss'. Explicitly set eval_metric if you'd like to restore the old behavior.\n",
      "[10:37:24] WARNING: ../src/learner.cc:1095: Starting in XGBoost 1.3.0, the default evaluation metric used with the objective 'binary:logistic' was changed from 'error' to 'logloss'. Explicitly set eval_metric if you'd like to restore the old behavior.\n"
     ]
    },
    {
     "name": "stderr",
     "output_type": "stream",
     "text": [
      "/data/users/dverma01/conda/envs/tf1gcolab/lib/python3.6/site-packages/xgboost/sklearn.py:1146: UserWarning: The use of label encoder in XGBClassifier is deprecated and will be removed in a future release. To remove this warning, do the following: 1) Pass option use_label_encoder=False when constructing XGBClassifier object; and 2) Encode your labels (y) as integers starting with 0, i.e. 0, 1, 2, ..., [num_class - 1].\n",
      "  warnings.warn(label_encoder_deprecation_msg, UserWarning)\n",
      "/data/users/dverma01/conda/envs/tf1gcolab/lib/python3.6/site-packages/xgboost/sklearn.py:1146: UserWarning: The use of label encoder in XGBClassifier is deprecated and will be removed in a future release. To remove this warning, do the following: 1) Pass option use_label_encoder=False when constructing XGBClassifier object; and 2) Encode your labels (y) as integers starting with 0, i.e. 0, 1, 2, ..., [num_class - 1].\n",
      "  warnings.warn(label_encoder_deprecation_msg, UserWarning)\n"
     ]
    },
    {
     "name": "stdout",
     "output_type": "stream",
     "text": [
      "[10:37:24] WARNING: ../src/learner.cc:1095: Starting in XGBoost 1.3.0, the default evaluation metric used with the objective 'binary:logistic' was changed from 'error' to 'logloss'. Explicitly set eval_metric if you'd like to restore the old behavior.\n"
     ]
    },
    {
     "name": "stderr",
     "output_type": "stream",
     "text": [
      "/data/users/dverma01/conda/envs/tf1gcolab/lib/python3.6/site-packages/xgboost/sklearn.py:1146: UserWarning: The use of label encoder in XGBClassifier is deprecated and will be removed in a future release. To remove this warning, do the following: 1) Pass option use_label_encoder=False when constructing XGBClassifier object; and 2) Encode your labels (y) as integers starting with 0, i.e. 0, 1, 2, ..., [num_class - 1].\n",
      "  warnings.warn(label_encoder_deprecation_msg, UserWarning)\n"
     ]
    },
    {
     "name": "stdout",
     "output_type": "stream",
     "text": [
      "[10:37:27] WARNING: ../src/learner.cc:1095: Starting in XGBoost 1.3.0, the default evaluation metric used with the objective 'binary:logistic' was changed from 'error' to 'logloss'. Explicitly set eval_metric if you'd like to restore the old behavior.\n"
     ]
    },
    {
     "name": "stderr",
     "output_type": "stream",
     "text": [
      "/data/users/dverma01/conda/envs/tf1gcolab/lib/python3.6/site-packages/xgboost/sklearn.py:1146: UserWarning: The use of label encoder in XGBClassifier is deprecated and will be removed in a future release. To remove this warning, do the following: 1) Pass option use_label_encoder=False when constructing XGBClassifier object; and 2) Encode your labels (y) as integers starting with 0, i.e. 0, 1, 2, ..., [num_class - 1].\n",
      "  warnings.warn(label_encoder_deprecation_msg, UserWarning)\n"
     ]
    },
    {
     "name": "stdout",
     "output_type": "stream",
     "text": [
      "[10:37:33] WARNING: ../src/learner.cc:1095: Starting in XGBoost 1.3.0, the default evaluation metric used with the objective 'binary:logistic' was changed from 'error' to 'logloss'. Explicitly set eval_metric if you'd like to restore the old behavior.\n",
      "[10:37:34] WARNING: ../src/learner.cc:1095: Starting in XGBoost 1.3.0, the default evaluation metric used with the objective 'binary:logistic' was changed from 'error' to 'logloss'. Explicitly set eval_metric if you'd like to restore the old behavior.\n"
     ]
    },
    {
     "name": "stderr",
     "output_type": "stream",
     "text": [
      "/data/users/dverma01/conda/envs/tf1gcolab/lib/python3.6/site-packages/xgboost/sklearn.py:1146: UserWarning: The use of label encoder in XGBClassifier is deprecated and will be removed in a future release. To remove this warning, do the following: 1) Pass option use_label_encoder=False when constructing XGBClassifier object; and 2) Encode your labels (y) as integers starting with 0, i.e. 0, 1, 2, ..., [num_class - 1].\n",
      "  warnings.warn(label_encoder_deprecation_msg, UserWarning)\n",
      "/data/users/dverma01/conda/envs/tf1gcolab/lib/python3.6/site-packages/xgboost/sklearn.py:1146: UserWarning: The use of label encoder in XGBClassifier is deprecated and will be removed in a future release. To remove this warning, do the following: 1) Pass option use_label_encoder=False when constructing XGBClassifier object; and 2) Encode your labels (y) as integers starting with 0, i.e. 0, 1, 2, ..., [num_class - 1].\n",
      "  warnings.warn(label_encoder_deprecation_msg, UserWarning)\n"
     ]
    },
    {
     "name": "stdout",
     "output_type": "stream",
     "text": [
      "[10:37:34] WARNING: ../src/learner.cc:1095: Starting in XGBoost 1.3.0, the default evaluation metric used with the objective 'binary:logistic' was changed from 'error' to 'logloss'. Explicitly set eval_metric if you'd like to restore the old behavior.\n",
      "[10:37:34] WARNING: ../src/learner.cc:1095: Starting in XGBoost 1.3.0, the default evaluation metric used with the objective 'binary:logistic' was changed from 'error' to 'logloss'. Explicitly set eval_metric if you'd like to restore the old behavior.\n"
     ]
    },
    {
     "name": "stderr",
     "output_type": "stream",
     "text": [
      "/data/users/dverma01/conda/envs/tf1gcolab/lib/python3.6/site-packages/xgboost/sklearn.py:1146: UserWarning: The use of label encoder in XGBClassifier is deprecated and will be removed in a future release. To remove this warning, do the following: 1) Pass option use_label_encoder=False when constructing XGBClassifier object; and 2) Encode your labels (y) as integers starting with 0, i.e. 0, 1, 2, ..., [num_class - 1].\n",
      "  warnings.warn(label_encoder_deprecation_msg, UserWarning)\n",
      "/data/users/dverma01/conda/envs/tf1gcolab/lib/python3.6/site-packages/xgboost/sklearn.py:1146: UserWarning: The use of label encoder in XGBClassifier is deprecated and will be removed in a future release. To remove this warning, do the following: 1) Pass option use_label_encoder=False when constructing XGBClassifier object; and 2) Encode your labels (y) as integers starting with 0, i.e. 0, 1, 2, ..., [num_class - 1].\n",
      "  warnings.warn(label_encoder_deprecation_msg, UserWarning)\n"
     ]
    },
    {
     "name": "stdout",
     "output_type": "stream",
     "text": [
      "[10:37:34] WARNING: ../src/learner.cc:1095: Starting in XGBoost 1.3.0, the default evaluation metric used with the objective 'binary:logistic' was changed from 'error' to 'logloss'. Explicitly set eval_metric if you'd like to restore the old behavior.\n",
      "score for 5 folds: [0.92222222 0.85925926 0.98518519 0.99259259 0.92565056]\n",
      "Model_mean 0.9369819633760154\n",
      "Model_std 0.048586339901631546\n"
     ]
    }
   ],
   "source": [
    "# Stacking model for PCA\n",
    "scores_stack_pca = cross_val_score(model2_stack, df_train, df_t_PCA, cv=5, scoring = 'accuracy')\n",
    "#scores_stack_proc = cross_val_score(model2_stack, df_train, df_t_PCA, cv=5, scoring = 'roc_auc')\n",
    "print(f'score for {5} folds:', scores_stack_pca)\n",
    "print('Model_mean', mean(scores_stack_pca))\n",
    "print('Model_std', std(scores_stack_pca))\n",
    "#print('Model_roc_mean', mean(scores_stack_proc))\n",
    "#print('Model_roc_std', std(scores_stack_proc))"
   ]
  }
 ],
 "metadata": {
  "kernelspec": {
   "display_name": "Python 3",
   "language": "python",
   "name": "python3"
  },
  "language_info": {
   "codemirror_mode": {
    "name": "ipython",
    "version": 3
   },
   "file_extension": ".py",
   "mimetype": "text/x-python",
   "name": "python",
   "nbconvert_exporter": "python",
   "pygments_lexer": "ipython3",
   "version": "3.6.12"
  }
 },
 "nbformat": 4,
 "nbformat_minor": 4
}
