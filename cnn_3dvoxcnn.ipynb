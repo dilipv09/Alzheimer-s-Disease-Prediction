{
 "cells": [
  {
   "cell_type": "markdown",
   "metadata": {},
   "source": [
    "# Import the packages "
   ]
  },
  {
   "cell_type": "code",
   "execution_count": 2,
   "metadata": {},
   "outputs": [],
   "source": [
    "import os\n",
    "import zipfile\n",
    "import numpy as np\n",
    "import tensorflow as tf\n",
    "import keras\n",
    "import shutil \n",
    "import matplotlib.pyplot as plt\n",
    "import PIL\n",
    "import scipy\n",
    "import scipy.spatial\n",
    "import matplotlib.cm as cm\n",
    "import random\n",
    "\n",
    "from tensorflow import keras\n",
    "from tensorflow.keras import layers\n",
    "from PIL import Image\n",
    "from keras.preprocessing import image\n",
    "from keras.preprocessing.image import ImageDataGenerator\n",
    "from tensorflow.keras.models import Sequential\n",
    "from keras.layers import Input, Dense, Reshape, MaxPooling3D, Flatten, BatchNormalization, Lambda, Dropout\n",
    "from keras.layers import Dense, Flatten, Conv3D, MaxPooling3D, Convolution3D\n",
    "from keras.models import Model, Sequential\n",
    "from keras.models import Sequential\n",
    "from keras.optimizers import SGD, RMSprop, Adam\n",
    "from keras.layers.advanced_activations import LeakyReLU\n",
    "from keras.preprocessing import image\n"
   ]
  },
  {
   "cell_type": "markdown",
   "metadata": {},
   "source": [
    "# Check the tensorflow GPU device  "
   ]
  },
  {
   "cell_type": "code",
   "execution_count": 8,
   "metadata": {},
   "outputs": [
    {
     "name": "stdout",
     "output_type": "stream",
     "text": [
      "Found GPU at: /device:GPU:0\n"
     ]
    }
   ],
   "source": [
    "# %tensorflow_version 2.x\n",
    "\n",
    "import tensorflow as tf\n",
    "device_name = tf.test.gpu_device_name()\n",
    "if device_name != '/device:GPU:0':\n",
    "    raise SystemError('GPU device not found')\n",
    "print('Found GPU at: {}'.format(device_name))"
   ]
  },
  {
   "cell_type": "markdown",
   "metadata": {},
   "source": [
    "# Pre-processing steps"
   ]
  },
  {
   "cell_type": "code",
   "execution_count": 28,
   "metadata": {},
   "outputs": [
    {
     "name": "stdout",
     "output_type": "stream",
     "text": [
      "6840\n",
      "8160\n",
      "7560\n"
     ]
    }
   ],
   "source": [
    "# Read all the AD, CN and MCI patient data\n",
    "\n",
    "AD_png_files = [files for files in sorted(os.listdir(AD_trn_path)) if files.endswith('.png')]\n",
    "print(len(AD_png_files))\n",
    "CN_png_files = [files for files in sorted(os.listdir(CN_trn_path)) if files.endswith('.png')]\n",
    "print(len(CN_png_files))\n",
    "MCI_png_files = [files for files in sorted(os.listdir(MCI_trn_path)) if files.endswith('.png')]\n",
    "print(len(MCI_png_files))"
   ]
  },
  {
   "cell_type": "code",
   "execution_count": 3,
   "metadata": {},
   "outputs": [],
   "source": [
    "# Stacking all the 60 slices of each subject to create the depth on z-axis and save the numpy array file\n",
    "# resize the dimension to (106, 106)\n",
    "# Create the new dimension- (106, 106, 60), where 60 is the depth on z-axis \n",
    "\n",
    "def img_array_stack_zaxis(read_path, npysavepath, classifier):\n",
    "    png_files = [files for files in sorted(os.listdir(read_path)) if files.endswith('.png')]\n",
    "    per_patient_name = []\n",
    "    png_filename = []\n",
    "    image_array_list = []\n",
    "    all_stackarray_list = []\n",
    "\n",
    "    for i in range(0, len(png_files)):\n",
    "        image = Image.open(read_path+png_files[i])\n",
    "        png_filename.append(png_files[i])\n",
    "        newsize = (106, 106) \n",
    "        image = image.resize(newsize)\n",
    "        arr_data = np.asarray(image) \n",
    "        image_array_list.append(arr_data)\n",
    "        if len(image_array_list) == 60:\n",
    "            dimension_zaxis = np.stack(image_array_list, axis=2)    #Create new z-axis and stacking the 60 slices on it\n",
    "            all_stackarray_list.append(dimension_zaxis)\n",
    "            image_array_list.clear()\n",
    "            png_filename.clear()\n",
    "            continue\n",
    "   \n",
    "    with open(npysavepath+classifier+'_img_arr.npy', 'wb') as files:\n",
    "        np.save(files, np.array(all_stackarray_list))\n",
    "    with open(npysavepath+classifier+'_img_arr.npy', 'rb') as files:\n",
    "        image_array = np.load(files)\n",
    "\n",
    "    return image_array\n",
    "# -------------------------------------------------------------------------------------------------------------\n",
    "\n",
    "# Funtion to augment the training data for the 60 slices at a time \n",
    "def augment_training_data(srcpath, destpath):\n",
    "    datagen = ImageDataGenerator(rotation_range=10, shear_range=0.05, \n",
    "                                          width_shift_range=0.02, height_shift_range=0.02, \n",
    "                                          horizontal_flip=True, zoom_range=0.05, fill_mode=\"nearest\")\n",
    "\n",
    "    all_png_files = [files for files in sorted(os.listdir(srcpath)) if files.endswith('.png')]\n",
    "    one_patient_files = []\n",
    "       \n",
    "    for file in range(0, len(all_png_files)):\n",
    "        one_patient_files.append(all_png_files[file]) \n",
    "        if len(one_patient_files) == 60:\n",
    "            for i in range(0, len(one_patient_files)):\n",
    "                img = Image.open(srcpath+one_patient_files[i])\n",
    "                x = np.asarray(img) \n",
    "                x = x.reshape((1,) + x.shape + (1,))  \n",
    "                filename, file_extension = os.path.splitext(one_patient_files[i])\n",
    "                aug_iter = datagen.flow(x, save_to_dir=destpath, save_prefix=filename, save_format='png')\n",
    "                aug_images = [next(aug_iter)[0].astype(np.float32) for i in range(0, 1)]\n",
    "\n",
    "                one_patient_files.clear()\n",
    "            continue\n",
    "# -------------------------------------------------------------------------------------------------------------\n",
    "# Function to read the numpy array             \n",
    "def read_numpy_arr(npysavepath, classifier):\n",
    "    with open(npysavepath+classifier+'_img_arr.npy', 'rb') as files:\n",
    "        image_array = np.load(files)\n",
    "    return image_array\n",
    "\n",
    "# -------------------------------------------------------------------------------------------------------------\n",
    "# Function to write the numpy array\n",
    "def write_numpy_arr(npy_save_pth, trn_data, classifier):\n",
    "    trn_data= trn_data / 255.0                  # rescale the size between 0 and 1    \n",
    "    with open(npy_save_pth+classifier+'_img_arr.npy', 'wb') as files:\n",
    "        np.save(files, trn_data)\n",
    "\n",
    "# -------------------------------------------------------------------------------------------------------------\n",
    "# Function to copy the files from source and destination\n",
    "def cpy_files_to_frm_rng(srcpath, dstpath, no_of_files_from, no_of_files_to):\n",
    "    png_files = [files for files in sorted(os.listdir(srcpath)) if files.endswith('.png')]\n",
    "    for i in range(int(no_of_files_from), int(no_of_files_to)):\n",
    "        shutil.copy(srcpath+png_files[i], dstpath)\n",
    "    \n",
    "# -------------------------------------------------------------------------------------------------------------\n",
    "# Function to Split the numpy array data into training and testing    \n",
    "def split_train_test(npy_arr, split_no):\n",
    "    train, test = npy_arr[:split_no,:], npy_arr[split_no:,:]\n",
    "    return train, test    \n",
    "\n",
    "# -------------------------------------------------------------------------------------------------------------\n",
    "# Function to read the numpy array for train and test dataset\n",
    "def numpy_trn_tst_read(npysavepath, classifier):\n",
    "    with open(npysavepath+classifier+'_norm_img_arr.npy', 'rb') as files:\n",
    "        image_array = np.load(files)\n",
    "    return image_array\n",
    "\n",
    "# -------------------------------------------------------------------------------------------------------------\n",
    "# Function to use imagewise scaling \n",
    "def imgwise_3d_scaling(img_data):\n",
    "    imgwise_scaling = True\n",
    "    if imgwise_scaling:\n",
    "        for n in range(len(img_data)):\n",
    "            img_data[n,:,:,:] = img_data[n,:,:,:] - np.mean(img_data[n,:,:,:])\n",
    "            img_data[n,:,:,:] = img_data[n,:,:,:] / np.std(img_data[n,:,:,:])\n",
    "  \n",
    "    return img_data    \n"
   ]
  },
  {
   "cell_type": "code",
   "execution_count": null,
   "metadata": {},
   "outputs": [],
   "source": [
    "# Read all the augmented images of batch 2 dataset\n",
    "\n",
    "nonorm_path = os.getcwd()+'/allimages/batch2/axial/'\n",
    "save_npy_path = nonorm_path+'train/tentimesaug/aug_npy_array/'  # read the saved numpy array \n",
    "\n",
    "img_arr_AD1, img_arr_CN1, img_arr_MCI1= numpy_arr_read(save_npy_path, 'AD1'), numpy_arr_read(save_npy_path, 'CN1'), numpy_arr_read(save_npy_path, 'MCI1')\n"
   ]
  },
  {
   "cell_type": "code",
   "execution_count": 5,
   "metadata": {},
   "outputs": [
    {
     "name": "stdout",
     "output_type": "stream",
     "text": [
      "(3500, 106, 106, 60, 1)\n",
      "(3500, 3)\n"
     ]
    }
   ],
   "source": [
    "# Read the numpy array of training (trn_X) and target (trn_y) for 3 classes: AD, CN and MCI\n",
    "\n",
    "import os\n",
    "# nonorm_path = os.getcwd()+'/allimages/batch2/norm/'\n",
    "# save_npy_path = nonorm_path+'b2_aug5times/b2_aug_npy_arr/'\n",
    "# npy_norm_pth = save_npy_path+'allstack_1_5_img_npy/'\n",
    "\n",
    "trn_X = numpy_trn_tst_read(npy_norm_pth, 'b2_trnX_3500')\n",
    "trn_y = numpy_trn_tst_read(npy_norm_pth, 'b2_trny_3500')\n",
    "print(trn_X.shape)\n",
    "print(trn_y.shape)"
   ]
  },
  {
   "cell_type": "code",
   "execution_count": 31,
   "metadata": {},
   "outputs": [
    {
     "name": "stdout",
     "output_type": "stream",
     "text": [
      "(114, 96, 96, 60, 3)\n"
     ]
    },
    {
     "data": {
      "text/plain": [
       "<matplotlib.image.AxesImage at 0x2aab2be95a20>"
      ]
     },
     "execution_count": 31,
     "metadata": {},
     "output_type": "execute_result"
    },
    {
     "data": {
      "image/png": "[encoded data removed]",
      "text/plain": [
       "<Figure size 432x288 with 1 Axes>"
      ]
     },
     "metadata": {
      "needs_background": "light"
     },
     "output_type": "display_data"
    }
   ],
   "source": [
    "# Plotting done for normalized arrays- \n",
    "\n",
    "import matplotlib.pyplot as plt\n",
    "print(img_arr_AD2.shape)\n",
    "plt.imshow(img_arr_AD2[50,:,:,40],interpolation='none')"
   ]
  },
  {
   "cell_type": "code",
   "execution_count": 36,
   "metadata": {},
   "outputs": [],
   "source": [
    "from keras import backend as K\n",
    "K.clear_session()"
   ]
  },
  {
   "cell_type": "code",
   "execution_count": 29,
   "metadata": {},
   "outputs": [],
   "source": [
    "# # from keras.backend.tensorflow_backend import set_session\n",
    "# # from keras.backend.tensorflow_backend import clear_session\n",
    "# # from keras.backend.tensorflow_backend import get_session\n",
    "# import tensorflow as tf\n",
    "# import gc\n",
    "\n",
    "# # Reset Keras Session\n",
    "# def reset_keras():\n",
    "#     sess = tf.compat.v1.keras.backend.get_session()\n",
    "#     tf.compat.v1.keras.backend.clear_session()\n",
    "#     sess.close()\n",
    "#     sess = tf.compat.v1.keras.backend.get_session()\n",
    "\n",
    "#     try:\n",
    "#         del classifier # this is from global space - change this as you need\n",
    "#     except:\n",
    "#         pass\n",
    "\n",
    "#     print(gc.collect()) # if it's done something you should see a number being outputted\n",
    "\n",
    "#     # use the same config as you used to create the session\n",
    "#     config = tf.compat.v1.ConfigProto()\n",
    "#     config.gpu_options.per_process_gpu_memory_fraction = 1\n",
    "#     config.gpu_options.visible_device_list = \"0\"\n",
    "#     tf.compat.v1.keras.backend.set_session(tf.compat.v1.Session(config=config))"
   ]
  },
  {
   "cell_type": "markdown",
   "metadata": {},
   "source": [
    "# Defined the voxcnn model"
   ]
  },
  {
   "cell_type": "code",
   "execution_count": 14,
   "metadata": {},
   "outputs": [],
   "source": [
    "def voxcnn_model():\n",
    "    #\"\"\" Return the Keras model of the network\n",
    "    #\"\"\"\n",
    "    input_shape = (106, 106, 60, 1)\n",
    "    model = Sequential()\n",
    "  \n",
    "    # 1st Volumetric Convolutional block\n",
    "    model.add(Convolution3D(8, (3, 3, 3), activation='relu', padding='same', input_shape=(106, 106, 60, 1)))\n",
    "    model.add(Convolution3D(8, (3, 3, 3), activation='relu', padding='same'))\n",
    "    model.add(MaxPooling3D(pool_size=(2, 2, 2)))\n",
    "    model.add(BatchNormalization())\n",
    "    # 2nd Volumetric Convolutional block\n",
    "    model.add(Convolution3D(16, (3, 3, 3), activation='relu', padding='same'))\n",
    "    model.add(Convolution3D(16, (3, 3, 3), activation='relu', padding='same'))\n",
    "    model.add(MaxPooling3D(pool_size=(2, 2, 2)))\n",
    "    model.add(BatchNormalization())\n",
    "    # 3rd Volumetric Convolutional block\n",
    "    model.add(Convolution3D(32, (3, 3, 3), activation='relu', padding='same'))\n",
    "    model.add(Convolution3D(32, (3, 3, 3), activation='relu', padding='same'))\n",
    "    # model.add(Convolution3D(32, (3, 3, 3), activation='relu', padding='same'))\n",
    "    model.add(MaxPooling3D(pool_size=(2, 2, 2)))\n",
    "    model.add(BatchNormalization())\n",
    "    # 4th Volumetric Convolutional block\n",
    "    # model.add(Convolution3D(64, (3, 3, 3), activation='relu', padding='same'))\n",
    "    # model.add(Convolution3D(64, (3, 3, 3), activation='relu', padding='same'))\n",
    "    # model.add(Convolution3D(64, (3, 3, 3), activation='relu', padding='same'))\n",
    "    # model.add(MaxPooling3D(pool_size=(2, 2, 2)))\n",
    "    # model.add(BatchNormalization())\n",
    "    model.add(Flatten())\n",
    "    # 1th Deconvolutional layer with batchnorm and dropout for regularization\n",
    "    model.add(Dense(128, activation='relu'))\n",
    "    model.add(BatchNormalization())\n",
    "    model.add(Dropout(0.5))\n",
    "    # 2th Deconvolutional layer\n",
    "    model.add(Dense(64, activation='relu'))\n",
    "    # model.add(BatchNormalization())\n",
    "    # model.add(Dropout(0.7))\n",
    "    # Output with softmax nonlinearity for classification\n",
    "    model.add(Dense(3, activation='softmax'))\n",
    "    \n",
    "    return model\n",
    "\n"
   ]
  },
  {
   "cell_type": "code",
   "execution_count": 20,
   "metadata": {
    "scrolled": true
   },
   "outputs": [
    {
     "name": "stdout",
     "output_type": "stream",
     "text": [
      "Model: \"sequential\"\n",
      "_________________________________________________________________\n",
      "Layer (type)                 Output Shape              Param #   \n",
      "=================================================================\n",
      "conv3d (Conv3D)              (None, 106, 106, 60, 8)   224       \n",
      "_________________________________________________________________\n",
      "conv3d_1 (Conv3D)            (None, 106, 106, 60, 8)   1736      \n",
      "_________________________________________________________________\n",
      "max_pooling3d (MaxPooling3D) (None, 53, 53, 30, 8)     0         \n",
      "_________________________________________________________________\n",
      "batch_normalization (BatchNo (None, 53, 53, 30, 8)     32        \n",
      "_________________________________________________________________\n",
      "conv3d_2 (Conv3D)            (None, 53, 53, 30, 16)    3472      \n",
      "_________________________________________________________________\n",
      "conv3d_3 (Conv3D)            (None, 53, 53, 30, 16)    6928      \n",
      "_________________________________________________________________\n",
      "max_pooling3d_1 (MaxPooling3 (None, 26, 26, 15, 16)    0         \n",
      "_________________________________________________________________\n",
      "batch_normalization_1 (Batch (None, 26, 26, 15, 16)    64        \n",
      "_________________________________________________________________\n",
      "conv3d_4 (Conv3D)            (None, 26, 26, 15, 32)    13856     \n",
      "_________________________________________________________________\n",
      "conv3d_5 (Conv3D)            (None, 26, 26, 15, 32)    27680     \n",
      "_________________________________________________________________\n",
      "max_pooling3d_2 (MaxPooling3 (None, 13, 13, 7, 32)     0         \n",
      "_________________________________________________________________\n",
      "batch_normalization_2 (Batch (None, 13, 13, 7, 32)     128       \n",
      "_________________________________________________________________\n",
      "flatten (Flatten)            (None, 37856)             0         \n",
      "_________________________________________________________________\n",
      "dense (Dense)                (None, 128)               4845696   \n",
      "_________________________________________________________________\n",
      "batch_normalization_3 (Batch (None, 128)               512       \n",
      "_________________________________________________________________\n",
      "dropout (Dropout)            (None, 128)               0         \n",
      "_________________________________________________________________\n",
      "dense_1 (Dense)              (None, 64)                8256      \n",
      "_________________________________________________________________\n",
      "dense_2 (Dense)              (None, 3)                 195       \n",
      "=================================================================\n",
      "Total params: 4,908,779\n",
      "Trainable params: 4,908,411\n",
      "Non-trainable params: 368\n",
      "_________________________________________________________________\n"
     ]
    }
   ],
   "source": [
    "# Model summary\n",
    "model = voxcnn_model()\n",
    "model.summary()"
   ]
  },
  {
   "cell_type": "code",
   "execution_count": 51,
   "metadata": {
    "scrolled": true
   },
   "outputs": [
    {
     "name": "stdout",
     "output_type": "stream",
     "text": [
      "Epoch 1/50\n",
      "47/47 [==============================] - 49s 1s/step - loss: 1.2050 - acc: 0.4594 - val_loss: 7.3482 - val_acc: 0.0000e+00\n",
      "Epoch 2/50\n",
      "47/47 [==============================] - 29s 609ms/step - loss: 0.9905 - acc: 0.5718 - val_loss: 8.6309 - val_acc: 0.0000e+00\n",
      "Epoch 3/50\n",
      "47/47 [==============================] - 28s 605ms/step - loss: 0.8531 - acc: 0.6293 - val_loss: 0.8772 - val_acc: 0.5824\n",
      "Epoch 4/50\n",
      "47/47 [==============================] - 29s 607ms/step - loss: 0.7371 - acc: 0.6958 - val_loss: 2.5085 - val_acc: 0.0000e+00\n",
      "Epoch 5/50\n",
      "47/47 [==============================] - 28s 599ms/step - loss: 0.6463 - acc: 0.7500 - val_loss: 4.1020 - val_acc: 0.0000e+00\n",
      "Epoch 6/50\n",
      "47/47 [==============================] - 29s 608ms/step - loss: 0.5893 - acc: 0.7729 - val_loss: 4.1934 - val_acc: 0.0000e+00\n",
      "Epoch 7/50\n",
      "47/47 [==============================] - 28s 606ms/step - loss: 0.5274 - acc: 0.7892 - val_loss: 3.0243 - val_acc: 0.0838\n",
      "Epoch 8/50\n",
      "47/47 [==============================] - 28s 604ms/step - loss: 0.3869 - acc: 0.8584 - val_loss: 1.9139 - val_acc: 0.2340\n",
      "Epoch 9/50\n",
      "47/47 [==============================] - 28s 602ms/step - loss: 0.3132 - acc: 0.8790 - val_loss: 3.6634 - val_acc: 0.0120\n",
      "Epoch 10/50\n",
      "47/47 [==============================] - 28s 602ms/step - loss: 0.2325 - acc: 0.9106 - val_loss: 0.9349 - val_acc: 0.5891\n",
      "Epoch 11/50\n",
      "47/47 [==============================] - 28s 604ms/step - loss: 0.1713 - acc: 0.9365 - val_loss: 0.0615 - val_acc: 0.9880\n",
      "Epoch 12/50\n",
      "47/47 [==============================] - 28s 604ms/step - loss: 0.1513 - acc: 0.9481 - val_loss: 0.2806 - val_acc: 0.8777\n",
      "Epoch 13/50\n",
      "47/47 [==============================] - 28s 606ms/step - loss: 0.0970 - acc: 0.9688 - val_loss: 7.7942 - val_acc: 0.0226\n",
      "Epoch 15/50\n",
      "47/47 [==============================] - 29s 608ms/step - loss: 0.1153 - acc: 0.9601 - val_loss: 0.1631 - val_acc: 0.9481\n",
      "Epoch 16/50\n",
      "47/47 [==============================] - 29s 607ms/step - loss: 0.0768 - acc: 0.9731 - val_loss: 0.0291 - val_acc: 0.9960\n",
      "Epoch 17/50\n",
      "47/47 [==============================] - 28s 606ms/step - loss: 0.0701 - acc: 0.9797 - val_loss: 0.1109 - val_acc: 0.9574\n",
      "Epoch 18/50\n",
      "47/47 [==============================] - 28s 603ms/step - loss: 0.0494 - acc: 0.9840 - val_loss: 0.1800 - val_acc: 0.9348\n",
      "Epoch 19/50\n",
      "47/47 [==============================] - 28s 606ms/step - loss: 0.0634 - acc: 0.9771 - val_loss: 0.2248 - val_acc: 0.9202\n",
      "Epoch 20/50\n",
      "47/47 [==============================] - 28s 598ms/step - loss: 0.0557 - acc: 0.9830 - val_loss: 0.0071 - val_acc: 0.9987\n",
      "Epoch 21/50\n",
      "47/47 [==============================] - 28s 601ms/step - loss: 0.0272 - acc: 0.9907 - val_loss: 0.6452 - val_acc: 0.7580\n",
      "Epoch 22/50\n",
      "47/47 [==============================] - 28s 605ms/step - loss: 0.0292 - acc: 0.9920 - val_loss: 0.9272 - val_acc: 0.7261\n",
      "Epoch 23/50\n",
      "47/47 [==============================] - 29s 608ms/step - loss: 0.0780 - acc: 0.9711 - val_loss: 0.0370 - val_acc: 0.9880\n",
      "Epoch 24/50\n",
      "47/47 [==============================] - 29s 609ms/step - loss: 0.0640 - acc: 0.9761 - val_loss: 0.6355 - val_acc: 0.7513\n",
      "Epoch 25/50\n",
      "47/47 [==============================] - 29s 607ms/step - loss: 0.2756 - acc: 0.9112 - val_loss: 20.5629 - val_acc: 0.0213\n",
      "Epoch 26/50\n",
      "47/47 [==============================] - 29s 607ms/step - loss: 0.3236 - acc: 0.8896 - val_loss: 5.7120 - val_acc: 0.0479\n",
      "Epoch 27/50\n",
      "47/47 [==============================] - 28s 603ms/step - loss: 0.1297 - acc: 0.9551 - val_loss: 5.7753 - val_acc: 0.0904\n",
      "Epoch 28/50\n",
      "47/47 [==============================] - 29s 608ms/step - loss: 0.0404 - acc: 0.9884 - val_loss: 0.0500 - val_acc: 0.9854\n",
      "Epoch 29/50\n",
      "47/47 [==============================] - 28s 605ms/step - loss: 0.0309 - acc: 0.9924 - val_loss: 0.3589 - val_acc: 0.8644\n",
      "Epoch 30/50\n",
      "47/47 [==============================] - 28s 604ms/step - loss: 0.0175 - acc: 0.9967 - val_loss: 0.3311 - val_acc: 0.8856\n",
      "Epoch 31/50\n",
      "47/47 [==============================] - 28s 602ms/step - loss: 0.0170 - acc: 0.9953 - val_loss: 0.0172 - val_acc: 0.9947\n",
      "Epoch 32/50\n",
      "47/47 [==============================] - 28s 605ms/step - loss: 0.0152 - acc: 0.9953 - val_loss: 0.0054 - val_acc: 1.0000\n",
      "Epoch 33/50\n",
      "47/47 [==============================] - 29s 607ms/step - loss: 0.0107 - acc: 0.9983 - val_loss: 0.0607 - val_acc: 0.9854\n",
      "Epoch 34/50\n",
      "47/47 [==============================] - 28s 604ms/step - loss: 0.0137 - acc: 0.9953 - val_loss: 0.1084 - val_acc: 0.9614\n",
      "Epoch 35/50\n",
      "47/47 [==============================] - 28s 603ms/step - loss: 0.0119 - acc: 0.9970 - val_loss: 0.5694 - val_acc: 0.8298\n",
      "Epoch 36/50\n",
      "47/47 [==============================] - 28s 599ms/step - loss: 0.0162 - acc: 0.9940 - val_loss: 0.1386 - val_acc: 0.9495\n",
      "Epoch 37/50\n",
      "47/47 [==============================] - 28s 602ms/step - loss: 0.0143 - acc: 0.9953 - val_loss: 0.0150 - val_acc: 0.9960\n",
      "Epoch 38/50\n",
      "47/47 [==============================] - 28s 599ms/step - loss: 0.0147 - acc: 0.9934 - val_loss: 0.6214 - val_acc: 0.8391\n",
      "Epoch 39/50\n",
      "47/47 [==============================] - 28s 602ms/step - loss: 0.0175 - acc: 0.9947 - val_loss: 5.5588e-04 - val_acc: 1.0000\n",
      "Epoch 40/50\n",
      "47/47 [==============================] - 28s 603ms/step - loss: 0.0135 - acc: 0.9957 - val_loss: 0.1053 - val_acc: 0.9668\n",
      "Epoch 41/50\n",
      "47/47 [==============================] - 28s 601ms/step - loss: 0.0067 - acc: 0.9987 - val_loss: 0.0569 - val_acc: 0.9761\n",
      "Epoch 42/50\n",
      "47/47 [==============================] - 28s 604ms/step - loss: 0.0091 - acc: 0.9970 - val_loss: 0.4881 - val_acc: 0.8630\n",
      "Epoch 43/50\n",
      "47/47 [==============================] - 28s 597ms/step - loss: 0.0078 - acc: 0.9970 - val_loss: 0.0302 - val_acc: 0.9867\n",
      "Epoch 44/50\n",
      "47/47 [==============================] - 28s 599ms/step - loss: 0.0145 - acc: 0.9940 - val_loss: 0.3210 - val_acc: 0.8830\n",
      "Epoch 45/50\n",
      "47/47 [==============================] - 28s 602ms/step - loss: 0.0307 - acc: 0.9904 - val_loss: 2.7818 - val_acc: 0.4455\n",
      "Epoch 46/50\n",
      "47/47 [==============================] - 28s 599ms/step - loss: 0.0305 - acc: 0.9900 - val_loss: 0.4464 - val_acc: 0.8896\n",
      "Epoch 47/50\n",
      "47/47 [==============================] - 28s 602ms/step - loss: 0.0276 - acc: 0.9880 - val_loss: 1.5766 - val_acc: 0.6941\n",
      "Epoch 48/50\n",
      "47/47 [==============================] - 28s 596ms/step - loss: 0.0545 - acc: 0.9817 - val_loss: 1.2463 - val_acc: 0.6862\n",
      "Epoch 49/50\n",
      "47/47 [==============================] - 28s 600ms/step - loss: 0.0806 - acc: 0.9704 - val_loss: 0.4772 - val_acc: 0.8816\n",
      "Epoch 50/50\n",
      "47/47 [==============================] - 28s 601ms/step - loss: 0.0451 - acc: 0.9860 - val_loss: 0.2368 - val_acc: 0.9082\n"
     ]
    }
   ],
   "source": [
    "# Compile the model\n",
    "\n",
    "initial_learning_rate = 0.001\n",
    "# lr_schedule = keras.optimizers.schedules.ExponentialDecay(\n",
    "#     initial_learning_rate, decay_steps=100000, decay_rate=0.96, staircase=True\n",
    "# )\n",
    "\n",
    "model.compile(\n",
    "    loss=\"categorical_crossentropy\",\n",
    "    optimizer=keras.optimizers.Adam(learning_rate=initial_learning_rate),\n",
    "    metrics=[\"acc\"]\n",
    ")\n",
    "\n",
    "# Currently working on above defined model; epoch 50, shuffle=true\n",
    "epochs = 50\n",
    "batch_size = 64\n",
    "\n",
    "no_norm_path = '/data/users/dverma01/colab/'\n",
    "pth = no_norm_path+\"adniwith1grayscale/epochs50/\"\n",
    "\n",
    "#Define callbacks\n",
    "early_stopping_cb = keras.callbacks.EarlyStopping(monitor=\"val_acc\", patience=25)\n",
    "callbacks = [keras.callbacks.ModelCheckpoint(pth+\"save_at_{epoch}.h5\"), early_stopping_cb]\n",
    "\n",
    "# Fit model\n",
    "hist = model.fit(trn_X, trn_y, epochs=epochs, batch_size = batch_size, callbacks=callbacks, shuffle=True, \n",
    "                    validation_split=0.20)\n"
   ]
  },
  {
   "cell_type": "markdown",
   "metadata": {},
   "source": [
    "# Visualizing model performance"
   ]
  },
  {
   "cell_type": "code",
   "execution_count": 53,
   "metadata": {
    "scrolled": true
   },
   "outputs": [
    {
     "data": {
      "image/png": "[encoded data removed]",
      "text/plain": [
       "<Figure size 1440x216 with 2 Axes>"
      ]
     },
     "metadata": {
      "needs_background": "light"
     },
     "output_type": "display_data"
    }
   ],
   "source": [
    "# Visualizing model performance--\n",
    "# plot the model accuracy and plot the model loss\n",
    "\n",
    "figure, ax = plt.subplots(1, 2, figsize=(20, 3))\n",
    "ax = ax.ravel()\n",
    "\n",
    "for i, metric in enumerate([\"acc\", \"loss\"]):\n",
    "    ax[i].plot(model.history.history[metric])\n",
    "    ax[i].plot(model.history.history[\"val_\" + metric])\n",
    "    ax[i].set_title(\"Model {}\".format(metric))\n",
    "    ax[i].set_xlabel(\"epochs\")\n",
    "    ax[i].set_ylabel(metric)\n",
    "    ax[i].legend([\"train\", \"val\"])"
   ]
  },
  {
   "cell_type": "markdown",
   "metadata": {},
   "source": [
    "# Evaluate the model"
   ]
  },
  {
   "cell_type": "code",
   "execution_count": 64,
   "metadata": {
    "scrolled": true
   },
   "outputs": [
    {
     "name": "stdout",
     "output_type": "stream",
     "text": [
      "3/3 - 0s - loss: 3.9761 - acc: 0.4000\n"
     ]
    },
    {
     "data": {
      "image/png": "[encoded data removed]",
      "text/plain": [
       "<Figure size 432x288 with 1 Axes>"
      ]
     },
     "metadata": {
      "needs_background": "light"
     },
     "output_type": "display_data"
    }
   ],
   "source": [
    "#Evaluate the model on unseen testing data\n",
    "\n",
    "plt.plot(hist.history['acc'], label='acc')\n",
    "plt.plot(hist.history['val_acc'], label = 'val_acc')\n",
    "plt.xlabel('Epoch')\n",
    "plt.ylabel('Accuracy')\n",
    "plt.ylim([0.5, 1])\n",
    "plt.legend(loc='lower right')\n",
    "\n",
    "test_loss, test_acc = model.evaluate(tst_X,  tst_y, verbose=2)"
   ]
  }
 ],
 "metadata": {
  "kernelspec": {
   "display_name": "Python 3",
   "language": "python",
   "name": "python3"
  },
  "language_info": {
   "codemirror_mode": {
    "name": "ipython",
    "version": 3
   },
   "file_extension": ".py",
   "mimetype": "text/x-python",
   "name": "python",
   "nbconvert_exporter": "python",
   "pygments_lexer": "ipython3",
   "version": "3.6.12"
  }
 },
 "nbformat": 4,
 "nbformat_minor": 4
}
